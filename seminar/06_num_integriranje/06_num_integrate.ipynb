{
 "cells": [
  {
   "cell_type": "markdown",
   "id": "adcc8340-1fbd-428f-9e4d-51acfc73f4a2",
   "metadata": {},
   "source": [
    "# Numerično integriranje"
   ]
  },
  {
   "cell_type": "markdown",
   "id": "85b1fa07-1d18-4094-8dd6-94331fb50aa6",
   "metadata": {},
   "source": [
    "**Datum**: 10/11/2024\n",
    "\n",
    "**Avtor**: Aleksander Grm\n",
    "\n",
    "V zapiskih so uporabljeni primeri iz OnLine knjige [Numerične metode v ekosistemu Pythona, Janko Slavič](https://jankoslavic.github.io/pynm)\n",
    "\n",
    "<hr>"
   ]
  },
  {
   "cell_type": "markdown",
   "id": "106ef1fe-f230-476b-a55d-d8829cd318d4",
   "metadata": {},
   "source": [
    "Najprej naložimo celoten potreben Python ekosistem"
   ]
  },
  {
   "cell_type": "code",
   "execution_count": null,
   "id": "6c4f3a61-526b-42c0-b582-4b7ee06fc5e6",
   "metadata": {},
   "outputs": [],
   "source": [
    "import numpy as np              # orodja za numeriko\n",
    "import matplotlib.pyplot as mpl # izdelava grafov\n",
    "import numpy.polynomial as poly # paket za podporo polinomov\n",
    "import scipy.optimize as opt    # uporaba fsolve() funkcije\n",
    "\n",
    "from IPython.display import YouTubeVideo"
   ]
  },
  {
   "cell_type": "code",
   "execution_count": null,
   "id": "5ab42d36-c0c8-45d2-a35f-58d3b9fac7e1",
   "metadata": {},
   "outputs": [],
   "source": []
  }
 ],
 "metadata": {
  "kernelspec": {
   "display_name": "Python 3 (ipykernel)",
   "language": "python",
   "name": "python3"
  },
  "language_info": {
   "codemirror_mode": {
    "name": "ipython",
    "version": 3
   },
   "file_extension": ".py",
   "mimetype": "text/x-python",
   "name": "python",
   "nbconvert_exporter": "python",
   "pygments_lexer": "ipython3",
   "version": "3.11.9"
  }
 },
 "nbformat": 4,
 "nbformat_minor": 5
}
