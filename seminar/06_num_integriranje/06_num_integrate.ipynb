{
 "cells": [
  {
   "cell_type": "markdown",
   "id": "adcc8340-1fbd-428f-9e4d-51acfc73f4a2",
   "metadata": {},
   "source": [
    "<hr>\n",
    "\n",
    "# Numerično integriranje"
   ]
  },
  {
   "cell_type": "markdown",
   "id": "85b1fa07-1d18-4094-8dd6-94331fb50aa6",
   "metadata": {},
   "source": [
    "**Datum**: 10/11/2024\n",
    "\n",
    "**Avtor**: Aleksander Grm\n",
    "\n",
    "V zapiskih so uporabljeni primeri iz OnLine knjige [Numerične metode v ekosistemu Pythona, Janko Slavič](https://jankoslavic.github.io/pynm)\n",
    "\n",
    "<hr>"
   ]
  },
  {
   "cell_type": "markdown",
   "id": "106ef1fe-f230-476b-a55d-d8829cd318d4",
   "metadata": {},
   "source": [
    "Najprej naložimo celoten potreben Python ekosistem"
   ]
  },
  {
   "cell_type": "code",
   "execution_count": null,
   "id": "6c4f3a61-526b-42c0-b582-4b7ee06fc5e6",
   "metadata": {},
   "outputs": [],
   "source": [
    "import numpy as np              # orodja za numeriko\n",
    "import matplotlib.pyplot as mpl # izdelava grafov\n",
    "\n",
    "# MatPlotLib set fonts\n",
    "mpl.rcParams['font.family'] = 'serif'\n",
    "mpl.rcParams['font.serif'] = ['DejaVu Serif']\n",
    "\n",
    "# MatPlotLib set LaTeX use\n",
    "mpl.rcParams['text.usetex'] = True\n",
    "mpl.rcParams['text.latex.preamble'] = r'\\usepackage{siunitx}'\n",
    "\n",
    "import sympy as sym             # uporaba simbolične algebre\n",
    "sym.init_printing()\n",
    "\n",
    "from IPython.display import YouTubeVideo"
   ]
  },
  {
   "cell_type": "markdown",
   "id": "b62f3750-4219-417d-9c8b-48940a64ebbe",
   "metadata": {},
   "source": [
    "<hr>\n",
    "\n",
    "## Uvod"
   ]
  },
  {
   "cell_type": "markdown",
   "id": "bce1526e-bb1a-463e-928c-8da9c91770cf",
   "metadata": {},
   "source": [
    "V okviru tega poglavja bomo za dano funkcijo $f(x)$ izračunali določen integral:\n",
    "\n",
    "$$\n",
    "    \\int_a^b\\,f(x)\\,\\textrm{d}x\n",
    "$$\n",
    "\n",
    "kjer sta $a$ in $b$ meji integriranja, $f(x)$ pa so vrednosti funkcije, ki jih pridobimo iz tabele vrednosti ali s pomočjo analitične funkcije.\n",
    "\n",
    "Pri numeričnem integriranju integral ocenimo z $I$ in velja\n",
    "\n",
    "$$\n",
    "    \\int_a^b\\,f(x)\\,\\textrm{d}x= I + E,\n",
    "$$\n",
    "\n",
    "kjer je $E$ napaka ocene integrala. Numerični integral bomo računali na podlagi diskretne vsote:\n",
    "\n",
    "$$\n",
    "    I = \\sum_{i=0}^{m}A_i\\,f(x_i),\n",
    "$$\n",
    "\n",
    "kjer so $A_i$ uteži, $x_i$ pa vozlišča na intervalu $[a, b]$ in je $m+1$ število vozlišč.\n",
    "\n",
    "Ogledali si bomo dva različna pristopa k numerični integraciji:\n",
    "\n",
    "1. *Newton-Cotesov pristop*, ki temelji na ekvidistantnih vozliščih (konstanten korak integracije) in \n",
    "2. *Gaussov integracijski pristop*, kjer so vozlišča postavljena tako, da se doseže natančnost za polinome."
   ]
  },
  {
   "cell_type": "markdown",
   "id": "d81c9dcb-a9a1-4b1d-9254-6dec8c99db7d",
   "metadata": {},
   "source": [
    "### Uvodni primer"
   ]
  },
  {
   "cell_type": "markdown",
   "id": "fac0f556-395c-474e-8102-f7008c31a4b7",
   "metadata": {},
   "source": [
    "Pri numeričnem integriranju si bomo pomagali s konkretnim primerom:\n",
    "\n",
    "$$\n",
    "    \\int_1^2 x\\,\\sin(x)\\,\\textrm{d}x.\n",
    "$$\n",
    "\n",
    "Pripravimo si vozlišča. Osnovni korak naj bo $h=0.25$, v tem primeru imamo štiri podintervale in pet vozlišč, pri koraku $2h$ so tri vozliščne točke in pri koraku $4h$ samo dve (skrajni):"
   ]
  },
  {
   "cell_type": "code",
   "execution_count": null,
   "id": "5fc768cc-0b42-4ab5-89a3-d9f38f1b63ae",
   "metadata": {},
   "outputs": [],
   "source": [
    "xg, hg = np.linspace(1, 2, 100, retstep=True) # goste točke (za prikaz)\n",
    "x2v, h2v = np.linspace(1, 2, 2, retstep=True)  # korak h2v = 1 (2 vozlišči)\n",
    "x3v, h3v = np.linspace(1, 2, 3, retstep=True)  # korak h3v = 0.5 (3 vozlišča)\n",
    "x4v, h4v = np.linspace(1, 2, 4, retstep=True)  # korak h4v = 0.33.. (4 vozlišča)\n",
    "x5v, h5v = np.linspace(1, 2, 5, retstep=True)  # korak h5v = 0.25 (5 vozlišč)"
   ]
  },
  {
   "cell_type": "markdown",
   "id": "2e0b6808-0f2f-4a27-a757-c9ed0faa2de5",
   "metadata": {},
   "source": [
    "Pripravimo še funkcijske vrednosti:"
   ]
  },
  {
   "cell_type": "code",
   "execution_count": null,
   "id": "52777ad7-906e-43f5-988c-c37a338f9570",
   "metadata": {},
   "outputs": [],
   "source": [
    "yg = xg * np.sin(xg)\n",
    "y2v = x2v * np.sin(x2v)\n",
    "y3v = x3v * np.sin(x3v)\n",
    "y4v = x4v * np.sin(x4v)\n",
    "y5v = x5v * np.sin(x5v)"
   ]
  },
  {
   "cell_type": "markdown",
   "id": "2ebd2922-b48b-4872-87b0-ad340ce0e26a",
   "metadata": {},
   "source": [
    "Pripravimo prikaz podatkov:"
   ]
  },
  {
   "cell_type": "code",
   "execution_count": null,
   "id": "e230603d-c554-48cb-be85-150a86cebf68",
   "metadata": {},
   "outputs": [],
   "source": [
    "def plot_intro_01():\n",
    "    mpl.fill_between(xg, yg, alpha=0.25, facecolor='r')\n",
    "    mpl.annotate(r'$\\int_1^2\\,x\\,\\sin(x)\\,\\textrm{d}x$', (1.3, 0.65), fontsize=22)\n",
    "    mpl.plot(xg, yg, lw=3, alpha=0.5, label=r'$x\\,\\sin(x)$')\n",
    "    mpl.plot(x2v, y2v, 's', alpha=0.5, label=f'$h={h2v}$', markersize=14)\n",
    "    mpl.plot(x3v, y3v, 'o', alpha=0.5, label=f'$h={h3v}$', markersize=10)\n",
    "    mpl.legend(loc=(0.05, 0.75))\n",
    "    mpl.ylim(0, 2)\n",
    "    mpl.show()"
   ]
  },
  {
   "cell_type": "code",
   "execution_count": null,
   "id": "e14d2298-6acf-4e1b-b98a-d867ac07ebd6",
   "metadata": {},
   "outputs": [],
   "source": [
    "plot_intro_01()"
   ]
  },
  {
   "cell_type": "markdown",
   "id": "f627be28-847c-4b55-834d-c4013c219659",
   "metadata": {},
   "source": [
    "Integral lahko izračunamo tudi s pomočjo simbolične algebre"
   ]
  },
  {
   "cell_type": "code",
   "execution_count": null,
   "id": "47f4857c-c240-46f9-80e9-cbdc1e77d869",
   "metadata": {},
   "outputs": [],
   "source": [
    "\n",
    "sym.init_printing()\n",
    "x = sym.symbols('x')\n",
    "I_točno = float(sym.integrate(x*sym.sin(x), (x, 1, 2)).evalf())\n",
    "\n",
    "print(I_točno)"
   ]
  },
  {
   "cell_type": "markdown",
   "id": "71ff3f40-6060-4f12-8864-7e86899b8b5e",
   "metadata": {},
   "source": [
    "<hr>\n",
    "\n",
    "## Newton-Cotes kvadraturne formule - NC kvadrature"
   ]
  },
  {
   "cell_type": "markdown",
   "id": "1837f9ae-4164-4292-a5b1-6487a246de90",
   "metadata": {},
   "source": [
    "Prvi način numeričnega integriranja, ali kot pravimo **kvadraturne formule**, je z uporabo interpolacijskih polinomov in izpeljavo pravil. Na spodnji sliki je prikazan splošen primer delitve diskretnih točk funkcije $y_i = f(x_i)$, kjer je razdalja med vozlišči $x_i$ enaka $h$."
   ]
  },
  {
   "cell_type": "markdown",
   "id": "6d4ce2de-d35e-48f7-8b3f-53ddc4e57740",
   "metadata": {},
   "source": [
    "<center><img src=\"./figs/integriranje.png\" alt=\"drawing\" width=\"500\"/></center>"
   ]
  },
  {
   "cell_type": "markdown",
   "id": "7c2d565a-d87b-40e4-9ee3-8dc43f016452",
   "metadata": {},
   "source": [
    "Če je razdalja med delitvenimi točkami $x_i$ enaka, v našem primeru označimo z $h$, pravimo da so točke **ekvidistantno deljene**.\n",
    "\n",
    "V okviru NC kvadratur si bomo pogledali tri metode:\n",
    "- *Trapezno pravilo*\n",
    "- *Simpsonova pravila*\n",
    "- *Rombergovo metodo*"
   ]
  },
  {
   "cell_type": "markdown",
   "id": "3246820b-7ab8-4fd9-b9cf-5d76cbebf1c2",
   "metadata": {},
   "source": [
    "### Trapezno pravilo"
   ]
  },
  {
   "cell_type": "markdown",
   "id": "9aa42ebf-b9d0-435e-bcd5-5b7e16b754b1",
   "metadata": {},
   "source": [
    "Pri *trapeznem pravilu*, so vrednosti integralske funkcije $f(x)$ na intervalu $[x_0, x_1]$ interpolirane z linearno funkcijo. Za dve vozliščni točki to pomeni, da površino pod grafom funkcije približno izračunamo kot:\n",
    "\n",
    "$$\n",
    "    I_{\\textrm{trapezno}}=\\sum_{i=0}^{n=1}A_i\\,f(x_i)=\\frac{h}{2} \\Big[ f(x_0)+f(x_1) \\Big],\n",
    "$$\n",
    "\n",
    "kjer so uteži podane kot\n",
    "\n",
    "$$\n",
    "    A_0 = A_1 = \\frac{1}{2}\\,h.\n",
    "$$"
   ]
  },
  {
   "cell_type": "markdown",
   "id": "33b5d02a-7479-4170-84a6-cf4c5c170e89",
   "metadata": {},
   "source": [
    "**Numerična implementacija**"
   ]
  },
  {
   "cell_type": "code",
   "execution_count": null,
   "id": "adf00029-e30a-4021-86e1-7c54dddd900f",
   "metadata": {},
   "outputs": [],
   "source": [
    "def trapezno(y, h):\n",
    "    \"\"\"\n",
    "    Trapezno pravilo integriranja.\n",
    "    \n",
    "    :param y: funkcijske vrednosti\n",
    "    :param h: korak integriranja\n",
    "    \"\"\"\n",
    "    return (y[0] + y[-1])*h/2"
   ]
  },
  {
   "cell_type": "markdown",
   "id": "32fe2095-6882-4ad0-a707-d3adcf59a910",
   "metadata": {},
   "source": [
    "**Primer**\n",
    "\n",
    "Uporabimo vrednosti iz uvodnega primera"
   ]
  },
  {
   "cell_type": "code",
   "execution_count": null,
   "id": "f0a70000-6ea0-422f-9cf1-e93675db1e4d",
   "metadata": {},
   "outputs": [],
   "source": [
    "I_trapezno = trapezno(y2v, h=h2v)\n",
    "I_trapezno"
   ]
  },
  {
   "cell_type": "code",
   "execution_count": null,
   "id": "f3f3d15f-3a18-4354-ba10-e101ff8f1c29",
   "metadata": {},
   "outputs": [],
   "source": [
    "def plot_trapezno():\n",
    "    mpl.fill_between(x2v, y2v, alpha=0.25, facecolor='r')\n",
    "    mpl.vlines(x2v, 0, y2v, color='r', linestyles='dashed', lw=1)\n",
    "    mpl.annotate('$I_{\\\\textrm{trapezno}}$', (1.4, 0.5), fontsize=22)\n",
    "    mpl.annotate('Napaka', fontsize=20, xy=(1.5, 1.4), xytext=(1.6, 1.8),\n",
    "            arrowprops=dict(facecolor='gray', shrink=0.05))\n",
    "    mpl.plot(xg, yg, lw=3, alpha=0.5, label='$x\\,\\sin(x)$')\n",
    "    mpl.plot(x2v, y2v, 'o', alpha=0.5, label=f'$h={h2v}$')\n",
    "    mpl.legend(loc=(1.01, 0))\n",
    "    mpl.ylim(0, 2)\n",
    "    mpl.show()"
   ]
  },
  {
   "cell_type": "code",
   "execution_count": null,
   "id": "7fe350a0-6ba7-43d6-9103-ef62e96aed4e",
   "metadata": {},
   "outputs": [],
   "source": [
    "plot_trapezno()"
   ]
  },
  {
   "cell_type": "markdown",
   "id": "b477ef36-8b8a-4641-bc2b-d7382a6346c4",
   "metadata": {},
   "source": [
    "### Napaka trapeznega pravila"
   ]
  },
  {
   "cell_type": "markdown",
   "id": "57246c01-da71-4951-aac8-ed30db0a995c",
   "metadata": {},
   "source": [
    "Razlika med analitično vrednostjo integrala in numeričnim približkom $I$ je napaka metode:\n",
    "\n",
    "$$\n",
    "    E = \\int_a^b f(x)\\,dx - I.\n",
    "$$\n",
    "\n",
    "Če je funkcija $f(x)$ vsaj dvakrat odvedljiva, lahko izpeljemo oceno za napako, ki velja samo za trapezni približek prek celega integracijskega intervala:\n",
    "\n",
    "$$\n",
    "    E_{\\textrm{trapezno}} = -\\frac{h^3}{12} f''(\\xi),\n",
    "$$\n",
    "\n",
    "kjer je $h=b-a$ in $\\xi$ neznana vrednost na intervalu $[a,b]$."
   ]
  },
  {
   "cell_type": "markdown",
   "id": "3f730749-f535-4606-b57d-b189e30f85a2",
   "metadata": {},
   "source": [
    "### Sestavljeno trapezno pravilo"
   ]
  },
  {
   "cell_type": "markdown",
   "id": "4d02bb5a-e21a-461f-8e16-7c1f8bb9643c",
   "metadata": {},
   "source": [
    "Če razdelimo interval $[a, b]$ na $n$ podintervalov in na vsakem uporabimo trapezno pravilo integriranja,  govorimo o *sestavljenem trapeznem pravilu* (angl. *composite trapezoidal rule*).\n",
    "\n",
    "V tem primeru za vsak podinterval $i$ uporabimo trapezno pravilo in torej za meje podinterval $x_i$ in $x_{i+1}$ uporabimo uteži $A_i=A_{i+i}=h/2$. Ker so notranja vozlišča podvojena, sledi:\n",
    "\n",
    "$$\n",
    "    A_0 = A_{n} = \\frac{h}{2}\\quad\\textrm{in za ostala vozlišča:}\\quad A_i=h.\n",
    "$$\n",
    "\n",
    "Pri tem smo imeli v mislih intervale enake širine:\n",
    "\n",
    "$$\n",
    "    h=\\frac{x_{n}-x_0}{n}.\n",
    "$$\n",
    "\n",
    "Tako sledi\n",
    "\n",
    "$$\n",
    "    I_{\\textrm{trapezno sest}} = \\sum_{i=0}^{n} A_i\\,f(x_i) = \\left(\\frac{y_0}{2} + y_1+y_2+\\cdots+y_{n-1}+\\frac{y_{n}}{2}\\right)\\,h.\n",
    "$$"
   ]
  },
  {
   "cell_type": "markdown",
   "id": "e90f19d6-4f50-4558-b3c8-cd569cc5993c",
   "metadata": {},
   "source": [
    "**Numerična implementacija**"
   ]
  },
  {
   "cell_type": "code",
   "execution_count": null,
   "id": "ff27ecad-dd8f-419a-a7be-9c7f711c0999",
   "metadata": {},
   "outputs": [],
   "source": [
    "def trapezno_sest(y, h):\n",
    "    \"\"\"\n",
    "    Sestavljeno trapezno pravilo integriranja.\n",
    "    \n",
    "    :param y: funkcijske vrednosti\n",
    "    :param h: korak integriranja\n",
    "    \"\"\"    \n",
    "    return (np.sum(y) - 0.5*y[0] - 0.5*y[-1])*h"
   ]
  },
  {
   "cell_type": "markdown",
   "id": "545f2cb8-fdfb-4774-a491-99c51ca31739",
   "metadata": {},
   "source": [
    "**Primer**\n",
    "\n",
    "Uporabimo uvodni primer, kjer vzamemo tri točkovno delitev intervala"
   ]
  },
  {
   "cell_type": "code",
   "execution_count": null,
   "id": "fe3a26f5-8a5d-4035-9f4f-e35744c9284d",
   "metadata": {},
   "outputs": [],
   "source": [
    "print('točke:', x3v, ', delitev h:', h3v)"
   ]
  },
  {
   "cell_type": "markdown",
   "id": "d731103f-43a4-43e9-a486-c68309389e61",
   "metadata": {},
   "source": [
    "Z uporabo implementirane metode lahko določimo površino pod krivuljo"
   ]
  },
  {
   "cell_type": "code",
   "execution_count": null,
   "id": "381c36e8-c4dc-4688-89a5-abed4c6a7092",
   "metadata": {},
   "outputs": [],
   "source": [
    "I_trapezno_sest = trapezno_sest(y3v, h=h3v)\n",
    "I_trapezno_sest"
   ]
  },
  {
   "cell_type": "code",
   "execution_count": null,
   "id": "a79afd06-d6ba-48d0-b4d3-4b0929c15b22",
   "metadata": {},
   "outputs": [],
   "source": [
    "def plot_trapezno_sest():\n",
    "    mpl.fill_between(x3v, y3v, alpha=0.25, facecolor='r')\n",
    "    mpl.vlines(x3v, 0, y3v, color='r', linestyles='dashed', lw=1)\n",
    "    mpl.annotate('$I_{\\\\textrm{trapezno sestavljeno}}$', (1.2, 0.5), fontsize=22)\n",
    "    mpl.annotate('Napaka', fontsize=20, xy=(1.75, 1.68), xytext=(1.4, 1.8),\n",
    "            arrowprops=dict(facecolor='gray', shrink=0.05))\n",
    "    mpl.annotate('Napaka', fontsize=20, xy=(1.2, 1.1), xytext=(1., 1.4),\n",
    "            arrowprops=dict(facecolor='gray', shrink=0.05))\n",
    "    mpl.plot(xg, yg, lw=3, alpha=0.5, label='$x\\,\\sin(x)$')\n",
    "    mpl.plot(x3v, y3v, 'o', alpha=0.5, label=f'$h={h3v}$')\n",
    "    mpl.legend(loc=(1.01, 0))\n",
    "    mpl.ylim(0, 2)\n",
    "    mpl.show()"
   ]
  },
  {
   "cell_type": "code",
   "execution_count": null,
   "id": "6a7344da-572e-45c1-b6a3-529f22439227",
   "metadata": {},
   "outputs": [],
   "source": [
    "plot_trapezno_sest()"
   ]
  },
  {
   "cell_type": "markdown",
   "id": "59db53c4-fec7-4050-b759-9c4ec07058d1",
   "metadata": {},
   "source": [
    "### Napaka sestaljenega trapeznega pravila"
   ]
  },
  {
   "cell_type": "markdown",
   "id": "5505b7f1-0ea5-414f-93b4-acbfc82b7f84",
   "metadata": {},
   "source": [
    "Napaka sestavljenega trapeznega pravila izhaja iz napake trapeznega pravila; pri tem tako napako naredimo $n$-krat.\n",
    "\n",
    "Ker velja $h\\cdot n=b-a$, izpeljemo napako sestavljenega trapeznega pravila kot:\n",
    "\n",
    "$$\n",
    "    E_{\\textrm{trapezno sest}} = -\\frac{h^2(b-a)}{12} f''(\\eta),\n",
    "$$\n",
    "\n",
    "$\\eta$ je vrednost na intervalu $[a,b]$. Napaka je drugega reda $\\mathcal{O}(h^2)$."
   ]
  },
  {
   "cell_type": "markdown",
   "id": "cc9f4ede-5e50-4837-9291-c85df03fe867",
   "metadata": {},
   "source": [
    "### `numpy` implementacija sestavljenega trapeznega pravila"
   ]
  },
  {
   "cell_type": "markdown",
   "id": "ae2612c4-e04d-4382-bfc9-fe83fb189b7f",
   "metadata": {},
   "source": [
    "Sestavljeno trapezno pravilo je implementirano tudi v paketu `numpy`, s funkcijo `numpy.trapezoid`:\n",
    "\n",
    "```python\n",
    "trapezoid(y, x=None, dx=1.0, axis=-1)\n",
    "```\n",
    "\n",
    "* `y` predstavlja tabelo funkcijskih vrednosti, \n",
    "* `x` je opcijski parameter in definira vozlišča; če parameter ni definiran, se privzame ekvidistančna vozlišča na razdalji `dx`,\n",
    "* `dx` definira (konstanten) korak integracije, ima privzeto vrednost 1,\n",
    "* `axis` definira *os* po kateri se integrira (v primeru, da je `y` večdimenzijsko numerično polje).\n",
    "\n",
    "Funkcija vrne izračunani integral po sestavljenem trapeznem pravilu. Več informacij lahko najdete v [dokumentaciji](https://numpy.org/doc/stable/reference/generated/numpy.trapezoid.html).\n",
    "\n",
    "**Primer uporabe**"
   ]
  },
  {
   "cell_type": "code",
   "execution_count": null,
   "id": "b49081d0-2c43-423e-9436-4da732165f78",
   "metadata": {},
   "outputs": [],
   "source": [
    "I_trapezno_np = np.trapz(y3v, dx=h3v)\n",
    "I_trapezno_np"
   ]
  },
  {
   "cell_type": "markdown",
   "id": "0314f288-fbf6-4263-a982-63502eb4fa94",
   "metadata": {},
   "source": [
    "<hr>\n",
    "\n",
    "## Simpsonova pravila"
   ]
  },
  {
   "cell_type": "markdown",
   "id": "420dd741-36de-48f8-b957-2f3d67fc2340",
   "metadata": {},
   "source": [
    "Zgoraj smo si pogledali trapezno pravilo, ki temelji na linearni interpolacijski funkciji na posameznem podintervalu. Z interpolacijo višjega reda lahko izpeljemo še druge integracijske metode.\n",
    "\n",
    "Problem je izračunati integral, kjer naj bo natančnost višja\n",
    "\n",
    "$$\n",
    "    \\int_{a}^b f(x)\\,dx.\n",
    "$$\n",
    "\n",
    "Tabeliramo podintegralsko funkcijo $f(x)$ in tabelo interpoliramo z Lagrangevim interpolacijskim polinomom $P_n(x)$ stopnje $n$:\n",
    "\n",
    "$$\n",
    "    P_n(x) = \\sum_{i=0}^{n}\\,f(x_i)\\,l_i(x),\n",
    "$$\n",
    "\n",
    "kjer so $y_i=f(x_i)$ funkcijske vrednosti v vozliščih $x_i$ in je Lagrangev polinom $l_i$ definiran kot (poglej si pod poglavje *2. Interpolacija*, kaj smo počeli):\n",
    "\n",
    "$$\n",
    "    l_i(x)=\\prod_{j=0, j\\ne i}^n \\frac{x-x_j}{x_i-x_j}.\n",
    "$$\n",
    "\n",
    "Za numerični izračun integrala $\\int_{a}^b f(x)\\,dx$ (meje so: $a=x_0$, $b=x_n$) namesto funkcije $f(x)$ vstavimo v integral interpolacijski polinom $P_n(x)$:\n",
    "\n",
    "$$\n",
    "    I = \\int_{x_0}^{x_{n}} P_n(x)\\,dx = \\int_{x_0}^{x_{n}} \\sum_{i=0}^{n}\\,f(x_i)\\,l_i(x)\\,dx.\n",
    "$$\n",
    "\n",
    "Ker je integriranje linearna operacija, lahko zamenjamo integriranje in vsoto:\n",
    "\n",
    "$$\n",
    "    I = \\sum_{i=0}^{n}\\,f(x_i)\\,\\underbrace{\\int_{x_0}^{x_{n}} l_i(x)\\,dx}_{A_i}.\n",
    "$$\n",
    "\n",
    "Lagrangev polinom integriramo in dobimo uteži $A_i$:\n",
    "\n",
    "$$\n",
    "    A_i = \\int_{x_0}^{x_{n}} l_i(x)\\,dx.\n",
    "$$"
   ]
  },
  {
   "cell_type": "markdown",
   "id": "ae2fa49a-7ac5-4cdd-9f87-af080c8275ed",
   "metadata": {},
   "source": [
    "### Izpeljava `Trapeznega pravila` s pomočjo lagrangejevega polinoma"
   ]
  },
  {
   "cell_type": "markdown",
   "id": "6a433072-2ff0-4500-8496-022000613e18",
   "metadata": {},
   "source": [
    "Poglejmo si kako z Lagrangevim interpolacijskim polinomom prve stopnje strojno izpeljemo uteži $A_i$ v primeru trapeznega pravila.\n",
    "\n",
    "Najprej v simbolni obliki definirajmo spremenljivko `x`, vozlišči `x0` in `x1` ter korak `h`:"
   ]
  },
  {
   "cell_type": "code",
   "execution_count": null,
   "id": "615a03af-9d58-4f89-9ef3-c621e9d4970f",
   "metadata": {},
   "outputs": [],
   "source": [
    "x, x0, x1, h = sym.symbols('x x0, x1, h')"
   ]
  },
  {
   "cell_type": "markdown",
   "id": "eba1f8c5-25fb-49bd-a46a-e15109e3601b",
   "metadata": {},
   "source": [
    "Pripravimo Python funkcijo, ki v simbolni obliki vrne seznam $n$ koeficientov Lagrangevih polinomov $[l_0(x), l_1(x),\\dots, l_{n-1}(x)]$ stopnje $n-1$:"
   ]
  },
  {
   "cell_type": "code",
   "execution_count": null,
   "id": "b2226da5-3d31-4602-8eb9-978fc0f124ba",
   "metadata": {},
   "outputs": [],
   "source": [
    "def lagrange(n, x, vozlišča_predpona='x'):\n",
    "    if isinstance(vozlišča_predpona, str):\n",
    "        vozlišča = sym.symbols(f'{vozlišča_predpona}:{n}') \n",
    "    coeffs = []\n",
    "    for i in range(0, n):\n",
    "        numer = []\n",
    "        denom = []\n",
    "\n",
    "        for j in range(0, n):\n",
    "            if i == j:\n",
    "                continue\n",
    "\n",
    "            numer.append(x    - vozlišča[j])\n",
    "            denom.append(vozlišča[i] - vozlišča[j])\n",
    "        \n",
    "        numer = sym.Mul(*numer)\n",
    "        denom = sym.Mul(*denom)\n",
    "\n",
    "        coeffs.append(numer/denom)\n",
    "    return coeffs    "
   ]
  },
  {
   "cell_type": "markdown",
   "id": "c52804f1-1a1c-4679-85c5-4d12f6b98002",
   "metadata": {},
   "source": [
    "Najprej poglejmo Lagrangeva polinoma za linearno interpolacijo ($n=2$):"
   ]
  },
  {
   "cell_type": "code",
   "execution_count": null,
   "id": "22490ca8-1492-4134-805f-00f7ebf3e54c",
   "metadata": {},
   "outputs": [],
   "source": [
    "lag = lagrange(2, x)\n",
    "lag"
   ]
  },
  {
   "cell_type": "markdown",
   "id": "c75e11f0-8f83-40e6-a283-dc86aaca85a3",
   "metadata": {},
   "source": [
    "Sedaj Lagrangev polinom $l_0(x)$ integriramo čez celotni interval:"
   ]
  },
  {
   "cell_type": "code",
   "execution_count": null,
   "id": "068e7da2-e708-4a95-915e-70e0ab38bf04",
   "metadata": {},
   "outputs": [],
   "source": [
    "int0 = sym.integrate(lag[0], (x, x0, x1))\n",
    "int0"
   ]
  },
  {
   "cell_type": "markdown",
   "id": "5ac303b6-dff9-4fba-8f39-faf883c277d3",
   "metadata": {},
   "source": [
    "Izraz poenostavimo in dobimo:"
   ]
  },
  {
   "cell_type": "code",
   "execution_count": null,
   "id": "5e0cacd6-dbe2-44a5-bdf9-82828cabbb1a",
   "metadata": {},
   "outputs": [],
   "source": [
    "int1 = int0.factor()\n",
    "int1"
   ]
  },
  {
   "cell_type": "markdown",
   "id": "8a1a4aae-41ba-4b74-8848-d9a07510aa12",
   "metadata": {},
   "source": [
    "Ker je širina podintervala konstantna je $x_1=h_0+h$, izvedemo zamenjavo:"
   ]
  },
  {
   "cell_type": "code",
   "execution_count": null,
   "id": "70be3e6f-28e8-4e66-9674-51a42faebb24",
   "metadata": {},
   "outputs": [],
   "source": [
    "zamenjave = {x1: x0+h}\n",
    "int1.subs(zamenjave)"
   ]
  },
  {
   "cell_type": "markdown",
   "id": "f6c6bf93-be5e-4633-97f7-ec38ab7d76b6",
   "metadata": {},
   "source": [
    "Zgornje korake za Lagrangev polinom  $l_0(x)$ lahko posplošimo za seznam Lagrangevih polinomov:"
   ]
  },
  {
   "cell_type": "code",
   "execution_count": null,
   "id": "2285b644-bae2-437d-a358-ef37a4da6aef",
   "metadata": {},
   "outputs": [],
   "source": [
    "x, x0, x1, h = sym.symbols('x, x0, x1, h')\n",
    "zamenjave = {x1: x0+h}\n",
    "A_trapez = [sym.integrate(li, (x, x0, x1)).factor().subs(zamenjave) \n",
    "            for li in lagrange(2, x)]  # za vsak lagrangev polimom `li` v seznamu lagrange(2,x)\n",
    "A_trapez"
   ]
  },
  {
   "cell_type": "markdown",
   "id": "7c2ff563-bdf7-48b5-b463-17c57b8883ff",
   "metadata": {},
   "source": [
    "Izpeljali smo uteži, ki smo jih uporabili pri trapezni metodi:\n",
    "\n",
    "$$\n",
    "    A_0 = h/2\\qquad A_1=h/2.\n",
    "$$\n",
    "\n",
    "Trapezno pravilo je:\n",
    "\n",
    "$$\n",
    "    I_{\\textrm{trapezno}} = \\frac{h}{2}\\left(y_0+y_1\\right).\n",
    "$$\n",
    "\n",
    "Ocena napake je:\n",
    "\n",
    "$$\n",
    "    E_{\\textrm{trapezno}} = -\\frac{h^3}{12}f''(\\xi).\n",
    "$$"
   ]
  },
  {
   "cell_type": "markdown",
   "id": "53f0f525-06e8-4c2f-96a6-254b0b0d1306",
   "metadata": {},
   "source": [
    "### Uteži pri Simpsonovem pravilu"
   ]
  },
  {
   "cell_type": "markdown",
   "id": "1bbdfb66-052c-406f-ad4a-3c1ff67f548a",
   "metadata": {},
   "source": [
    "Na identičen način, kakor smo izpeljali trapezno pravilo, lahko naredimo enako za **kvadratno interpolacijsko funkcijo**, $y = a_0 + a_1 x + a_2 x^2$, kjer uporabimo tri točke ($n=3$).\n",
    "\n",
    "Izračun uteži je analogen zgornjemu:"
   ]
  },
  {
   "cell_type": "code",
   "execution_count": null,
   "id": "2cd70c02-436d-4a21-96b6-c7cc3edac5eb",
   "metadata": {},
   "outputs": [],
   "source": [
    "x, x0, x1, x2, h = sym.symbols('x, x0, x1, x2, h')\n",
    "zamenjave = {x1: x0+h, x2: x0+2*h}\n",
    "A_Simpson1_3 = [sym.integrate(li, (x, x0, x2)).factor().subs(zamenjave).factor() \n",
    "             for li in lagrange(3, x)]\n",
    "A_Simpson1_3"
   ]
  },
  {
   "cell_type": "markdown",
   "id": "7fb196dc-bd6c-4556-83bd-6bc775323fe1",
   "metadata": {},
   "source": [
    "Simpsonovo pravilo (to pravilo se imenuje tudi Simpsonovo 1/3 pravilo) je:\n",
    "\n",
    "$$\n",
    "    I_{\\textrm{Simpsonovo}} = \\frac{h}{3}\\left(y_0+4\\,y_1+y_2\\right).\n",
    "$$\n",
    "\n",
    "Ocena za napako je podana z:\n",
    "\n",
    "$$\n",
    "    E_{\\textrm{Simpsonovo}} = -\\frac{h^5}{90}f^{(4)}(\\xi).\n",
    "$$\n",
    "\n",
    "Pri tem je treba izpostaviti, da je napaka lokalno 5 reda  $\\mathcal{O}(h^5)$ in definirana z neznano vrednostjo četrtega odvoda $f^{(4)}(\\xi)$, posledično je to pravilo točno za polinome stopnje 3 ali manj."
   ]
  },
  {
   "cell_type": "markdown",
   "id": "0992f914-251d-4e92-92be-3cdfbfa8829c",
   "metadata": {},
   "source": [
    "**Primer**\n",
    "\n",
    "Uporabimo uvodni primer za primerjavo"
   ]
  },
  {
   "cell_type": "code",
   "execution_count": null,
   "id": "9c0ae642-d870-4183-9e04-83dded94698d",
   "metadata": {},
   "outputs": [],
   "source": [
    "I_Simps = h3v/3 * np.sum(y3v * [1, 4, 1])\n",
    "I_Simps"
   ]
  },
  {
   "cell_type": "markdown",
   "id": "aecc12e3-55ac-4886-a6d6-22e853c18573",
   "metadata": {},
   "source": [
    "Pripravimo sliko. Ker Simsonovo pravilo temelji na kvadratni interpolaciji, moramo naprej pripraviti interpolacijski polinom (pomagamo si s ``scipy.interpolate`` - [dokumentacija](https://docs.scipy.org/doc/scipy-1.14.1/tutorial/interpolate.html))"
   ]
  },
  {
   "cell_type": "code",
   "execution_count": null,
   "id": "e53880f3-b1a9-4703-85e5-4653e926622c",
   "metadata": {},
   "outputs": [],
   "source": [
    "from scipy import interpolate"
   ]
  },
  {
   "cell_type": "code",
   "execution_count": null,
   "id": "63e0f09a-e7e5-4dde-b14b-ed6f8238bdf0",
   "metadata": {},
   "outputs": [],
   "source": [
    "def plot_Simpson():\n",
    "    y_interpolate = interpolate.lagrange(x3v, y3v)\n",
    "    mpl.fill_between(xg, y_interpolate(xg), alpha=0.25, facecolor='r')\n",
    "    mpl.vlines(x3v, 0, y3v, color='r', linestyles='dashed', lw=1)\n",
    "    mpl.annotate('$I_{\\\\textrm{Simpsonovo}}$', (1.2, 0.5), fontsize=22)\n",
    "    mpl.annotate('Napaka', fontsize=20, xy=(1.75, 1.7), xytext=(1.4, 1.8),\n",
    "            arrowprops=dict(facecolor='gray', shrink=0.05))\n",
    "    mpl.annotate('Napaka', fontsize=20, xy=(1.2, 1.1), xytext=(1., 1.4),\n",
    "            arrowprops=dict(facecolor='gray', shrink=0.05))\n",
    "    mpl.plot(xg, yg, lw=3, alpha=0.5, label='$x\\,\\sin(x)$')\n",
    "    mpl.plot(x3v, y3v, 'o', alpha=0.5, label=f'$h={h3v}$')\n",
    "    mpl.legend(loc=(1.01, 0))\n",
    "    mpl.ylim(0, 2)\n",
    "    mpl.show()"
   ]
  },
  {
   "cell_type": "code",
   "execution_count": null,
   "id": "14cde297-a922-41e2-8468-29ae8378846e",
   "metadata": {},
   "outputs": [],
   "source": [
    "plot_Simpson()"
   ]
  },
  {
   "cell_type": "markdown",
   "id": "ad3e2293-ff57-4e7e-a71e-1b8328a1c243",
   "metadata": {},
   "source": [
    "### Uporaba `scipy.integrate.newton_cotes` paketa"
   ]
  },
  {
   "cell_type": "markdown",
   "id": "f63dbc51-c9bb-4a7f-9fbd-21bf09930d43",
   "metadata": {},
   "source": [
    "Koeficiente integracijskega pristopa Newton-Cotes pridobimo tudi s pomočjo `scipy.integrate.newton_cotes()` [dokumentacija](https://docs.scipy.org/doc/scipy/reference/generated/scipy.integrate.newton_cotes.html):\n",
    "\n",
    "```python\n",
    "newton_cotes(rn, equal=0)\n",
    "```\n",
    "\n",
    "kjer sta parametra:\n",
    "\n",
    "* `rn`, ki definira število podintervalov (mogoč je tudi nekonstanten korak, glejte [dokumentacijo](https://docs.scipy.org/doc/scipy/reference/generated/scipy.integrate.newton_cotes.html)),\n",
    "* `equal`, ki definira ali se zahteva konstantno široke podintervale.\n",
    "\n",
    "Funkcija vrne seznam, pri čemer prvi element predstavlja numerično polje uteži in drugi člen oceno napake."
   ]
  },
  {
   "cell_type": "markdown",
   "id": "7ba32aad-1ec4-4565-9bfe-83550cae72c6",
   "metadata": {},
   "source": [
    "**Primer**\n",
    "\n",
    "Poglejmo si primer uporabe"
   ]
  },
  {
   "cell_type": "code",
   "execution_count": null,
   "id": "1967dd08-2bf4-4dc4-bbfd-016a41f443ec",
   "metadata": {},
   "outputs": [],
   "source": [
    "from scipy import integrate\n",
    "\n",
    "res = integrate.newton_cotes(2)\n",
    "print('uteži:', res[0])\n",
    "print('napaka:', res[1])"
   ]
  },
  {
   "cell_type": "markdown",
   "id": "9ad4c8b9-295d-4e8d-87f0-1cad92bc22b8",
   "metadata": {},
   "source": [
    "### Simpson 3/8 pravilo"
   ]
  },
  {
   "cell_type": "markdown",
   "id": "3e94187c-4eed-42d5-bf61-0e2c92839383",
   "metadata": {},
   "source": [
    "Nadaljujemo lahko s kubično interpolacijo čez štiri točke ($n=4$):"
   ]
  },
  {
   "cell_type": "code",
   "execution_count": null,
   "id": "31bfcbcc-d3c9-4666-ab4d-976afd4280c4",
   "metadata": {},
   "outputs": [],
   "source": [
    "x, x0, x1, x2, x3, h = sym.symbols('x, x0, x1, x2, x3, h')\n",
    "zamenjave = {x1: x0+h, x2: x0+2*h, x3: x0+3*h}\n",
    "A_Simpson3_8 = [sym.integrate(li, (x, x0, x3)).factor().subs(zamenjave).factor() \n",
    "                for li in lagrange(4, x)]\n",
    "A_Simpson3_8"
   ]
  },
  {
   "cell_type": "markdown",
   "id": "2e14a2f0-c734-4a03-a6a7-ba620fd726cc",
   "metadata": {},
   "source": [
    "Simpsonovo 3/8 pravilo je:\n",
    "\n",
    "$$\n",
    "    I_{\\textrm{Simpsonovo 3/8}} = \\frac{3h}{8}\\left(y_0+3\\,y_1+3\\,y_2+y_3\\right).\n",
    "$$\n",
    "\n",
    "Ocena za napako:\n",
    "\n",
    "$$\n",
    "    E_{\\textrm{Simpsonovo 3/8}} = -\\frac{3\\,h^5}{80}f^{(4)}(\\xi).\n",
    "$$"
   ]
  },
  {
   "cell_type": "markdown",
   "id": "7ddc4d6c-3784-421d-8815-e15bc8a230da",
   "metadata": {},
   "source": [
    "**Primer**\n",
    "\n",
    "Uporabimo pripravljeno tabelo vrednosti funkcije v štirih točkah iz uvodnega primera"
   ]
  },
  {
   "cell_type": "code",
   "execution_count": null,
   "id": "dc470ca7-d932-42ea-9ec5-eb98e3c5dc34",
   "metadata": {},
   "outputs": [],
   "source": [
    "print('točke:', y4v)\n",
    "print('korak:', h4v)"
   ]
  },
  {
   "cell_type": "markdown",
   "id": "9f330884-feba-4003-b196-b2f7cdbcffd2",
   "metadata": {},
   "source": [
    "Izračunamo z uporabo Simpson 3/8"
   ]
  },
  {
   "cell_type": "code",
   "execution_count": null,
   "id": "58af1787-3186-4e95-9a02-b6fb6111816d",
   "metadata": {},
   "outputs": [],
   "source": [
    "I_Simps38 = 3*h4v/8 * np.sum(y4v * [1, 3, 3, 1])\n",
    "I_Simps38"
   ]
  },
  {
   "cell_type": "code",
   "execution_count": null,
   "id": "e4988a4c-ee59-40f8-bfbd-4d26b60970ce",
   "metadata": {},
   "outputs": [],
   "source": [
    "def plot_Simpson38():\n",
    "    y_interpolate = interpolate.lagrange(x4v, y4v)\n",
    "    mpl.fill_between(xg, y_interpolate(xg), alpha=0.25, facecolor='r')\n",
    "    mpl.vlines(x4v, 0, y4v, color='r', linestyles='dashed', lw=1)\n",
    "    mpl.annotate('$I_{\\\\textrm{Simpsonovo 3/8}}$', (1.2, 0.5), fontsize=22)\n",
    "    mpl.annotate('Napaka', fontsize=20, xy=(1.75, 1.7), xytext=(1.4, 1.8),\n",
    "            arrowprops=dict(facecolor='gray', shrink=0.05))\n",
    "    mpl.annotate('Napaka', fontsize=20, xy=(1.5, 1.47), xytext=(1.1, 1.6),\n",
    "            arrowprops=dict(facecolor='gray', shrink=0.05))\n",
    "    mpl.annotate('Napaka', fontsize=20, xy=(1.2, 1.1), xytext=(1., 1.4),\n",
    "            arrowprops=dict(facecolor='gray', shrink=0.05))    \n",
    "    mpl.plot(xg, yg, lw=3, alpha=0.5, label='$x\\,\\sin(x)$')\n",
    "    mpl.plot(x4v, y4v, 'o', alpha=0.5, label=f'$h={h4v:.6f}$')\n",
    "    mpl.legend(loc=(1.01, 0))\n",
    "    mpl.ylim(0, 2)\n",
    "    mpl.show()"
   ]
  },
  {
   "cell_type": "code",
   "execution_count": null,
   "id": "ae9d3322-a3aa-41f3-a4f0-ebc0d3f48b6a",
   "metadata": {},
   "outputs": [],
   "source": [
    "plot_Simpson38()"
   ]
  },
  {
   "cell_type": "markdown",
   "id": "b1da1aa6-5d0b-4cf5-8e0c-d0d31b71b700",
   "metadata": {},
   "source": [
    "### Sestavljeno Simpsonovo pravilo"
   ]
  },
  {
   "cell_type": "markdown",
   "id": "4187b163-2c60-4daa-a05b-9e61d6aaf156",
   "metadata": {},
   "source": [
    "Interval $[a, b]$ razdelimo na sodo število $n$ podintervalov enake širine $h=(b - a)/n$, s čimer so definirana vozlišča $x_i=a+i\\,h$ za $i=0,1,\\dots,n$. V tem primeru zapišemo sestavljeno Simpsonovo pravilo:\n",
    "\n",
    "$$\n",
    "    \\int_{a}^{b}f(x)\\,\\textrm{d}x =\n",
    "    \\frac{h}{3}\\left(\n",
    "    f(x_0)\n",
    "    +4\\sum_{i=1}^{n/2}f(x_{2i-1})\n",
    "    +2\\sum_{i=1}^{n/2-1}f(x_{2i})\n",
    "    +f(x_n)\n",
    "    \\right)\n",
    "    \\underbrace{\n",
    "    -\\frac{b-a}{180}h^4\\,f^{(4)}(\\eta)\n",
    "    }_{E_{\\textrm{Sestavljeno Simpsonovo 1/3}}},\n",
    "$$\n",
    "\n",
    "kjer je $\\eta$ neznana vrednost na intervalu $[a, b]$. Napaka je četrtega reda $\\mathcal{O}(h^4)$."
   ]
  },
  {
   "cell_type": "markdown",
   "id": "a27bd026-d55e-4f99-8e81-ab0683ea55c5",
   "metadata": {},
   "source": [
    "**Numerična implementacija**"
   ]
  },
  {
   "cell_type": "code",
   "execution_count": null,
   "id": "eaae9437-1f61-4ebb-a21a-00c0975fb9f6",
   "metadata": {},
   "outputs": [],
   "source": [
    "def simpsonovo_sest(y, h):\n",
    "    \"\"\"\n",
    "    Sestavljeno Simpsonovo pravilo integriranja.\n",
    "\n",
    "    :param y: funkcijske vrednosti\n",
    "    :param h: korak integriranja\n",
    "    \"\"\"    \n",
    "    return h/3 * (y[0] + 4*np.sum(y[1:-1:2]) + 2*np.sum(y[2:-1:2]) + y[-1])"
   ]
  },
  {
   "cell_type": "markdown",
   "id": "1e1a2f2d-75f5-4d4c-8155-9ed558cb4ff3",
   "metadata": {},
   "source": [
    "**Primer**\n",
    "\n",
    "Uporabimo delitev iz uvodnega primera"
   ]
  },
  {
   "cell_type": "code",
   "execution_count": null,
   "id": "148a975d-0e97-495b-9f45-1bfe6161e77b",
   "metadata": {},
   "outputs": [],
   "source": [
    "I_Simps_sest = simpsonovo_sest(y5v, h=h5v)\n",
    "I_Simps_sest"
   ]
  },
  {
   "cell_type": "code",
   "execution_count": null,
   "id": "580a974d-9fc0-4f53-947b-58bd22a3bf78",
   "metadata": {},
   "outputs": [],
   "source": [
    "def plot_Simpson_sest():\n",
    "    y_interpolate = interpolate.lagrange(x5v, y5v)\n",
    "    mpl.fill_between(xg, y_interpolate(xg), alpha=0.25, facecolor='r')       \n",
    "    mpl.vlines(x5v, 0, y5v, color='r', linestyles='dashed', lw=1)\n",
    "    mpl.annotate('$I_{\\\\textrm{Simpsonovo sestavljeno}}$', (1.2, 0.5), fontsize=22)\n",
    "    mpl.annotate('Napaka', fontsize=20, xy=(1.70, 1.68), xytext=(1.4, 1.8),\n",
    "            arrowprops=dict(facecolor='gray', shrink=0.05))\n",
    "    mpl.plot(xg, yg, lw=3, alpha=0.5, label='$x\\,\\sin(x)$')\n",
    "    mpl.plot(x5v, y5v, 'o', alpha=0.5, label=f'$h={h5v}$')\n",
    "    mpl.legend(loc=(1.01, 0))\n",
    "    mpl.ylim(0, 2)\n",
    "    mpl.show()"
   ]
  },
  {
   "cell_type": "code",
   "execution_count": null,
   "id": "9dd8892d-c912-4967-8557-cd0cc6f0064f",
   "metadata": {},
   "outputs": [],
   "source": [
    "plot_Simpson_sest()"
   ]
  },
  {
   "cell_type": "markdown",
   "id": "19fb2f6b-9044-4d57-9cf6-742a56253e58",
   "metadata": {},
   "source": [
    "## Gaussove kvadraturne formule - Gaussove kvadrature"
   ]
  },
  {
   "cell_type": "markdown",
   "id": "dfbdbed6-78dc-4196-a3e0-be5ad951252c",
   "metadata": {},
   "source": [
    "Newton-Cotesov pristop temelji na polinomu $n$-te stopnje in napaka je $n+1$ stopnje. To pomeni, da integracija daje točen rezultat, če je integrirana funkcija polinom stopnje $n$ ali manj.\n",
    "\n",
    "Gaussov integracijski pristop je v principu drugačen: cilj je integral funkcije $f(x)$ nadomestiti z uteženo vsoto vrednosti funkcije pri diskretnih vrednostih $f(x_i)$:\n",
    "\n",
    "$$\n",
    "    \\int_a^bf(x)\\,\\textrm{d}x\\approx \\sum_{i=0}^{n-1} A_i\\, f(x_i).\n",
    "$$\n",
    "\n",
    "Pri tem je utež $A_i$ **neznana** in tudi lega vozlišča $x_i$ je **neznana**. Za stopnje polinoma $n$ bomo potrebovali tudi več  točk $(x_i, f(x_i))$.\n",
    "\n",
    "V nadaljevanju bomo spoznali, da lahko zelo učinkovito in natančno numerično izračunamo  integral. Prednost Gaussove integracije je tudi, da lahko izračuna neprave integrale (npr: $\\int_0^1\\sin(x)/\\sqrt{(x)}\\,dx$ v točki $x=0$ integral divergira)."
   ]
  },
  {
   "cell_type": "markdown",
   "id": "95f3d525-9a73-4e9e-aaf3-caa8de552e26",
   "metadata": {},
   "source": [
    "Predpostavimo, da želimo integrirati polinom stopnje $n=1$ (linearna funkcija):\n",
    "\n",
    "$$\n",
    "    f(x) = P_1(x) = a_0+a_1\\,x.\n",
    "$$\n",
    "\n",
    "Izračunajmo: \n",
    "\n",
    "$$\n",
    "    \\int_{x_L}^{x_D}P_1(x)\\,\\textrm{d}x = \\left(a_0\\,x+a_1\\,\\frac{x^2}{2}\\right)_{x_L}^{x_D} = -a_0\\,x_L+a_0\\,x_D-\\frac{a_1\\,x_L^2}{2}+\\frac{a_1\\,x_D^2}{2}.\n",
    "$$\n",
    "\n",
    "Po drugi strani pa želimo integral izračunati glede na ustrezno uteženo $A_0$ vrednost funkcije $f(x_0)$ v neznanem vozlišču $x_0$ (samo eno vozlišče!):\n",
    "\n",
    "$$\n",
    "    \\int_{x_L}^{x_D}P_1(x)\\,\\textrm{d}x = A_0\\,P_1(x_0)= A_0\\,a_0+A_0\\,a_1\\,x_0.\n",
    "$$\n",
    "\n",
    "Z enačenjem zgornjih izrazov izpeljemo:\n",
    "\n",
    "$$-a_0\\,x_L+a_0\\,x_D-\\frac{a_1\\,x_L^2}{2}+\\frac{a_1\\,x_D^2}{2}=A_0\\,a_0+A_0\\,a_1\\,x_0.$$\n",
    "\n",
    "$a_0$ in $a_1$ sta koeficienta linearne funkcije, ki lahko zavzame poljubne vrednosti, zato velja:\n",
    "\n",
    "$$a_0\\,\\left(-x_L+x_D-A_0\\right)=0\\qquad\\textrm{in}\\qquad a_1\\left(-\\frac{x_L^2}{2}+\\frac{x_D^2}{2}-A_0\\,x_0\\right)=0.$$\n",
    "\n",
    "Gre za sistem linearnih enačb z rešitvijo:\n",
    "\n",
    "$$A_0= x_D-x_L, \\qquad x_0=\\frac{x_L+x_D}{2}.$$\n",
    "\n",
    "Če je integrirana funkcija linearna, bomo samo na podlagi vrednosti v eni točki izračunali pravo vrednost!\n",
    "\n",
    "Da je Gaussov integracijski pristop neodvisen od mej integriranja $x_L$, $x_D$, pa uvedemo standardne meje."
   ]
  },
  {
   "cell_type": "markdown",
   "id": "1f32a9b0-992a-4501-9e26-629a0dd0843f",
   "metadata": {},
   "source": [
    "#### Standardne meje: $x_L=-1$ in $x_D=1$\n",
    "\n",
    "Zaradi splošnosti meje $x\\in[x_L, x_D]$ transformiramo v $\\xi\\in[-1, +1]$ s pomočjo:\n",
    "\n",
    "$$x=\\frac{x_D+x_L}{2}+\\frac{x_D-x_L}{2}\\xi$$\n",
    "\n",
    "in\n",
    "\n",
    "$$\\textrm{d}x=\\frac{x_D-x_L}{2}\\textrm{d}\\xi.$$\n",
    "\n",
    "Velja:\n",
    "\n",
    "$$\\int_{x_L}^{x_D}f(x)\\,\\textrm{d}x=\\int_{-1}^1 g\\left(\\xi\\right)\\,\\textrm{d}\\xi,$$\n",
    "\n",
    "kjer je:\n",
    "\n",
    "$$g(\\xi)=\\frac{x_D-x_L}{2}\\,f\\left(\\frac{x_L+x_d}{2}+\\frac{x_D-x_L}{2}\\xi\\right).$$\n",
    "\n",
    "V primeru standardnih mej, je pri eni Gaussovi točki utež $A_0=2$ in $x_0=0$ vrednost, pri kateri moramo izračunati funkcijo $f(x_0)$."
   ]
  },
  {
   "cell_type": "markdown",
   "id": "8edf0628-9ff3-4b4a-b0a6-08222e952b0c",
   "metadata": {},
   "source": [
    "#### Strojno izpeljevanje uteži in Gaussove točke"
   ]
  },
  {
   "cell_type": "markdown",
   "id": "31392561-a9d8-48ea-b57a-b8bbeb810d0e",
   "metadata": {},
   "source": [
    "Definirajmo simbole in nastavimo enačbo:"
   ]
  },
  {
   "cell_type": "code",
   "execution_count": null,
   "id": "83bb600b-64e9-4ac6-8617-7a864cdd5585",
   "metadata": {},
   "outputs": [],
   "source": [
    "a_0, a_1, x, x_L, x_D, A_0, x_0 = sym.symbols('a_0, a_1, x, x_L, x_D, A_0, x_0') # simboli\n",
    "P1 = a_0 + a_1*x                                                   # linearni polinom\n",
    "eq = sym.Eq(P1.integrate((x, x_L, x_D)).expand(), A_0*P1.subs(x, x_0)) # teoretični integral = ocen z utežmi\n",
    "eq"
   ]
  },
  {
   "cell_type": "markdown",
   "id": "0f8da4d3-b42a-41d3-8d33-f91856ab6e55",
   "metadata": {},
   "source": [
    "Pripravimo dve enačbi (za prvo predpostavimo $a_0=0, a_1=1$, za drugo predpostavimo $a_0=1, a_1=0$) ter rešimo sistem za `A_0` in `x_0`:"
   ]
  },
  {
   "cell_type": "code",
   "execution_count": null,
   "id": "1d1de987-cdbe-4a81-a150-21373bb4967b",
   "metadata": {},
   "outputs": [],
   "source": [
    "sym.solve([eq.subs(a_0, 0).subs(a_1, 1), eq.subs(a_1, 0).subs(a_0, 1)], [A_0, x_0])"
   ]
  },
  {
   "cell_type": "markdown",
   "id": "8bff2ef5-6cfd-4aab-b127-d666f4447b2e",
   "metadata": {},
   "source": [
    "Izpeljavo z več vozlišči poteka podobno. Kot vidimo, je potrebno rešiti sistem enačb, kjer so rešitve delitvene točke $x_i$ in uteži $A_i$."
   ]
  }
 ],
 "metadata": {
  "kernelspec": {
   "display_name": "Python 3 (ipykernel)",
   "language": "python",
   "name": "python3"
  },
  "language_info": {
   "codemirror_mode": {
    "name": "ipython",
    "version": 3
   },
   "file_extension": ".py",
   "mimetype": "text/x-python",
   "name": "python",
   "nbconvert_exporter": "python",
   "pygments_lexer": "ipython3",
   "version": "3.11.9"
  }
 },
 "nbformat": 4,
 "nbformat_minor": 5
}
