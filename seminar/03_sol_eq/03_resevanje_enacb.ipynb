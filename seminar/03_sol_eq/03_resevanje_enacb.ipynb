{
 "cells": [
  {
   "cell_type": "markdown",
   "id": "e892026f-57c2-46ae-9440-a80975830a5b",
   "metadata": {},
   "source": [
    "# Reševanje algebraičnih enačb"
   ]
  },
  {
   "cell_type": "markdown",
   "id": "aa11ffd0-2c3d-492a-82cd-4ba89700d320",
   "metadata": {},
   "source": [
    "**Datum**: 07/10/2024\n",
    "\n",
    "**Avtor**: Aleksander Grm\n",
    "\n",
    "V zapiskih so uporabljeni primeri iz OnLine knjige [Numerične metode v ekosistemu Pythona, Janko Slavič](https://jankoslavic.github.io/pynm)\n",
    "\n",
    "<hr>"
   ]
  },
  {
   "cell_type": "markdown",
   "id": "91686cc1-85c6-43cc-926a-fbac75bd9256",
   "metadata": {},
   "source": [
    "Najprej naložimo celoten potreben Python ekosistem"
   ]
  },
  {
   "cell_type": "code",
   "execution_count": null,
   "id": "bacf2cfc-c363-423d-bfe8-a368a9de7834",
   "metadata": {},
   "outputs": [],
   "source": [
    "import numpy as np              # orodja za numeriko\n",
    "import matplotlib.pyplot as mpl # izdelava grafov\n",
    "import numpy.polynomial as poly # paket za podporo polinomov\n",
    "import scipy.optimize as opt    # uporaba fsolve() funkcije\n",
    "\n",
    "from IPython.display import YouTubeVideo"
   ]
  },
  {
   "cell_type": "markdown",
   "id": "0a89871e-855b-439f-b00f-6088e6a7310c",
   "metadata": {},
   "source": [
    "<hr>\n",
    "\n",
    "Uvodoma si doma oglejte video predavanja o numeričnem reševanju enačb."
   ]
  },
  {
   "cell_type": "code",
   "execution_count": null,
   "id": "9348e9c7-80f0-47e1-b1d8-79ef14c41072",
   "metadata": {},
   "outputs": [],
   "source": [
    "YouTubeVideo('17d55KE8SIU', width=800, height=300)"
   ]
  },
  {
   "cell_type": "markdown",
   "id": "22b59bee-d9db-45d1-bfb6-345e6271de8e",
   "metadata": {},
   "source": [
    "## Uvod\n",
    "\n",
    "V okviru reševanja enačb obravnavamo splošno funkcijo\n",
    "\n",
    "$$\n",
    "    y = f(x),\n",
    "$$\n",
    "\n",
    "kjer iščemo njeno partikularno rešitev za enačbo $y=0$. Rešitvam enačbe $f(x)=0$ pravimo **koreni** enačbe (angl. *roots*). Koren enačbe $f(x)=0$ je hkrati tudi ničla splošne funkcije $y=f(x)$.\n",
    "\n",
    "Funkcija $y=f(x)$ ima lahko ničle stopnje:\n",
    "\n",
    "* ničla prve stopnje: funkcija seka abscisno os pod neničelnim kotom,\n",
    "* ničle sode stopnje: funkcija se dotika abscisne osi, vendar je ne seka,\n",
    "* ničle lihe stopnje: funkcija seka abscisno os, pri ničli stopnje 3 in več imamo prevoj (tangenta je vzporedna z abscisno osjo).\n",
    "\n",
    "**Omejitveni kriteriji za** $y=f(x)$\n",
    "\n",
    "Dana funkcija $f(x)$ mora biti zvezna v okolici, kjer iščemo njen koren. Pravim, da je funkcija $f$ zvezna na zaprtem intervali $[a, b]$, kjer je $a$ spodnja meja in $b$ zgornja meja intervala."
   ]
  },
  {
   "cell_type": "markdown",
   "id": "9050f656-8f6b-40ff-933a-777c5bf199ea",
   "metadata": {},
   "source": [
    "Velikokrat rešujemo neačbo ki je polinomske oblike\n",
    "\n",
    "$$\n",
    "    p_n(x) = a_0 + a_1 x + a_2 x^2 + \\cdots + a_n x^ n\n",
    "$$\n",
    "\n",
    "V [numpy](https://numpy.org/doc/stable) paketu imamo sedaj [polynomial](https://numpy.org/doc/stable/reference/routines.polynomials.html) paket, ki vsebuje različne oblike predstavitve polinomov. Znotraj imamo tako razred [Polynomial](https://numpy.org/doc/stable/reference/generated/numpy.polynomial.polynomial.Polynomial.html), ki predstavlja naš zgoraj zapisan matematičen polinom. Poglejmo si kako uporabimo funkcijo paketa in pa kako lahko to naredimo tudi sami.\n",
    "\n",
    "**Primer polinoma**\n",
    "\n",
    "Kot primer vzemimo polinom stopnje $n=3$\n",
    "\n",
    "$$\n",
    "    p_3(x) = 5 - 10 x^2 + x^ 3,\n",
    "$$\n",
    "\n",
    "kjer imamo koeficiente $a_0=5$, $a_1=0$, $a_2=-10$ in $a_3=1$.\n",
    "\n",
    "Spodaj izvedemo inmplementacijo naše funkcije in funkcije, ki jo dobimo v numpy paketu."
   ]
  },
  {
   "cell_type": "code",
   "execution_count": null,
   "id": "7606ca75-66d2-48a8-ab99-c8d81ca941d4",
   "metadata": {},
   "outputs": [],
   "source": [
    "# naša funkcija za polinom \n",
    "def our_poly(x):\n",
    "    return 5 - 10*x**2 + x**3\n",
    "\n",
    "# polinom iz scipy paketa\n",
    "sp_poly = poly.Polynomial([5,0,-10,1])"
   ]
  },
  {
   "cell_type": "code",
   "execution_count": null,
   "id": "b8d006c9-0a4a-4716-b57b-8a426a46227b",
   "metadata": {},
   "outputs": [],
   "source": [
    "# Testirajmo kakšno vrednost dobimo za obe funkciji\n",
    "\n",
    "xx = 2.5\n",
    "\n",
    "print('Vrednost našega polinoma v x={:2f} je: {:.5f}'.format(xx,our_poly(xx)))\n",
    "print(' Vrednost scipy polinoma v x={:2f} je: {:.5f}'.format(xx,sp_poly(xx)))"
   ]
  },
  {
   "cell_type": "code",
   "execution_count": null,
   "id": "5a4ef41a-ebb7-4fee-9a74-c4e398164b22",
   "metadata": {},
   "outputs": [],
   "source": [
    "# izrišimo graf te funkcije na intervalu [-2,2]\n",
    "xp = np.linspace(-2,2,100)\n",
    "\n",
    "mpl.plot(xp, sp_poly(xp))\n",
    "mpl.grid()"
   ]
  },
  {
   "cell_type": "markdown",
   "id": "da5408f8-997f-4c56-bf45-4a259c146105",
   "metadata": {},
   "source": [
    "Funkcija ima tako na intervalu $[-2,2]$ dve ničli, kar pomeni, da je potrebno poiskati rešitev enačbe $p_3(x)=0$! Z uporabo Python paketa je to hitro rešeno"
   ]
  },
  {
   "cell_type": "code",
   "execution_count": null,
   "id": "78d72846-5f45-4bed-8f48-7fd6e0766b9f",
   "metadata": {},
   "outputs": [],
   "source": [
    "pr = sp_poly.roots()\n",
    "print('koreni so:', pr)"
   ]
  },
  {
   "cell_type": "code",
   "execution_count": null,
   "id": "d27e840c-fd84-4422-bba8-1cfc92c7fc66",
   "metadata": {},
   "outputs": [],
   "source": [
    "mpl.axhline(0, color='g', lw=1)  \n",
    "mpl.plot(xp, sp_poly(xp))\n",
    "mpl.plot(pr[0:2],sp_poly(pr[0:2]), 'ro')\n",
    "mpl.grid()"
   ]
  },
  {
   "cell_type": "markdown",
   "id": "deba909c-eefa-4c88-8b05-35ecfe3ac014",
   "metadata": {},
   "source": [
    "<hr>\n",
    "\n",
    "## Inkrementalna metoda\n",
    "\n",
    "Inkrementalno reševanje temelji na ideji, da v kolikor ima funkcija $f(x)$ pri $x_0$ in $x_1$ različna predznaka, potem je vmes vsaj ena ničla. Zaprti interval $[x_0, x_1]$ razdelimo torej na odseke širine $\\Delta x$; na odseku, kjer opazimo spremembo predznaka, je vsaj ena ničla funkcije. \n",
    "\n",
    "Delovanje metode je prikazana na spodnji sliki."
   ]
  },
  {
   "cell_type": "markdown",
   "id": "1cf92e38-d5c7-4499-a4c8-925cb152eea3",
   "metadata": {},
   "source": [
    "<center><img src=\"./fig/inkrementalna.png\" alt=\"drawing\" width=\"400\"/></center>"
   ]
  },
  {
   "cell_type": "markdown",
   "id": "311fab8b-957f-44ce-a799-a1a9dc87425d",
   "metadata": {},
   "source": [
    "Za ničlo zahtevamo:\n",
    "\n",
    "$$\n",
    "    \\left|x_{i+1}-x_i\\right|<\\varepsilon\\quad\\textrm{in}\\quad \\left|f(x_{i+1})\\right|+\\left|f(x_{i})\\right|<D,\n",
    "$$\n",
    "\n",
    "kjer je $\\epsilon$ zahtevana natančnost rešitve in $D$ izbrana majhna vrednost, ki prepreči, da bi kot ničlo razpoznali pol (kar sicer zaradi pogoja zveznosti ni mogoče).\n",
    "\n",
    "Inkrementalna metoda ima nekatere slabosti:\n",
    "\n",
    "* je zelo počasna,\n",
    "* lahko zgreši dve ničli, ki sta si zelo blizu,\n",
    "* večkratne sode ničle (lokalni ekstrem, ki se samo dotika abscise) ne zazna.\n",
    "\n",
    "Inkrementalna metoda spada med t. i. *zaprte* (angl. *bracketed*) metode, saj išče ničle funkcije samo na intervalu $[x_0, x_1]$. Pozneje bomo spoznali tudi *odprte* metode, ki lahko konvergirajo k ničli zunaj podanega intervala.\n",
    "\n",
    "Zaradi vseh zgoraj navedenih slabosti inkrementalno metodo pogosto uporabimo samo za izračun začetnega približka ničle."
   ]
  },
  {
   "cell_type": "markdown",
   "id": "b2e3f1c8-4941-4c7d-b459-7c6705470fb5",
   "metadata": {},
   "source": [
    "### Implementacija metode"
   ]
  },
  {
   "cell_type": "code",
   "execution_count": null,
   "id": "c1f92cf1-28cb-4fbb-a887-6fcdedc4e83c",
   "metadata": {},
   "outputs": [],
   "source": [
    "def inkrementalna(fun, x0, x1, dx):\n",
    "    \"\"\" Vrne prvi interval (x1, x2) kjer leži ničla\n",
    "    \n",
    "    :param fun: funkcija katere ničle iščemo\n",
    "    :param x1:  spodnja meja iskanja\n",
    "    :param x2:  zgornja meja iskanja\n",
    "    :param dx:  inkrement iskanja\n",
    "    \"\"\"\n",
    "    x_d = np.arange(x0, x1, dx)   # pripravimo x vrednosti\n",
    "    f_d = np.sign(fun(x_d))       # pripravimo predznake funkcije\n",
    "    f_d = f_d[1:]*f_d[:-1]        # pomnožimo sosednje elemente\n",
    "    i = np.argmin(f_d)            # prvi prehod skozi ničlo\n",
    "\n",
    "    # rezultat\n",
    "    x0 = x_d[i]    # začetek iskanega segmenta\n",
    "    x1 = x_d[i+1]  # konec iskanega segmenta\n",
    "    D = np.abs(fun(x0)) + np.abs(fun(x1)) # vsota abs[f(x)]\n",
    "    \n",
    "    return [np.array([x0, x1]), D]"
   ]
  },
  {
   "cell_type": "code",
   "execution_count": null,
   "id": "84fe1d08-f67b-4db0-b9a4-38f2239642ad",
   "metadata": {},
   "outputs": [],
   "source": [
    "# Testiramo na primeru našega polinoma\n",
    "\n",
    "rez_inkr, D = inkrementalna(our_poly, 0.5, 1., 0.001)\n",
    "print('rezultat:', rez_inkr)\n",
    "print('D:', D)"
   ]
  },
  {
   "cell_type": "code",
   "execution_count": null,
   "id": "b6dbd661-6463-47eb-b0cc-0eeeea5964c5",
   "metadata": {},
   "outputs": [],
   "source": [
    "xp = np.linspace(rez_inkr[0]*0.9, rez_inkr[1]*1.1,100)\n",
    "\n",
    "mpl.plot(xp, our_poly(xp), label='$f(x)$')\n",
    "mpl.axhline(0, color='r', lw=0.5)     # horizontalna črta\n",
    "mpl.axvline(rez_inkr[0], color='r', lw=0.5)     # vertikalna črta\n",
    "mpl.axvline(rez_inkr[1], color='r', lw=0.5)     # vetrikalna črta\n",
    "mpl.plot(rez_inkr, our_poly(rez_inkr), 'ro', label='Inkrementalna metoda')\n",
    "mpl.xlim(0.7335,0.7355)\n",
    "mpl.ylim(-0.025, 0.025)\n",
    "mpl.legend()\n",
    "mpl.grid()"
   ]
  },
  {
   "cell_type": "markdown",
   "id": "08306451-e6f5-41e6-a034-23e5c6a60328",
   "metadata": {},
   "source": [
    "V primeru izračuna, je bilo potrebno 1000-krat izračunati vrednost $f(x)$, kjer je bil rezultat natančen $D=0.01307$ namesto $D=0$. Vidimo, da je inkrementalna metoda iskanja ničle zelo neučinkovita metoda, zato bomo iskali boljše načine. Ena od izboljšavje obstoječe metode je uporaba iterativnega procesa in s tem nadgradnja obstoječe metode na iterative inkrementalne metode. "
   ]
  },
  {
   "cell_type": "markdown",
   "id": "02834086-25ff-440b-812b-b93a12fdce40",
   "metadata": {},
   "source": [
    "<hr>\n",
    "\n",
    "## Iterativna inkrementalna metoda"
   ]
  },
  {
   "cell_type": "markdown",
   "id": "0b87d1e1-1eaf-45a1-b67c-d609e1255648",
   "metadata": {},
   "source": [
    "Iterativna inkrementalna metoda v prvi iteraciji z inkrementalno metodo omeji interval iskanja ničel pri relativno velikem koraku. Interval, najden v prvi iteraciji, se v drugi iteraciji razdeli na manjše intervale in ponovi se inkrementalno iskanje ničle. Tretja iteracija se nato omeji na interval določen v drugi in tako dalje. Z iteracijami zaključimo, ko smo dosegli predpisano natančnost rešitve $\\epsilon$.\n",
    "\n",
    "Metoda je prikazana na spodnji sliki"
   ]
  },
  {
   "cell_type": "markdown",
   "id": "ae5453e2-b6b0-4c24-a1c4-60c661b91232",
   "metadata": {},
   "source": [
    "<center><img src=\"./fig/iterativna_inkrementalna.png\" alt=\"drawing\" width=\"400\"/></center>"
   ]
  },
  {
   "cell_type": "markdown",
   "id": "49b4c179-e989-40b4-9282-5f4e0ed7e9e5",
   "metadata": {},
   "source": [
    "### Implementacija metode"
   ]
  },
  {
   "cell_type": "code",
   "execution_count": null,
   "id": "120b9bee-7d62-4d05-b122-49661f40be34",
   "metadata": {},
   "outputs": [],
   "source": [
    "def inkrementalna_super(fun, x0, x1, iteracij=3):\n",
    "    \"\"\" Vrne interval (x0, x1) kjer leži ničla\n",
    "    \n",
    "    :param fun: funkcija katere ničlo iščemo\n",
    "    :param x0:  spodnja meja iskanja\n",
    "    :param x1:  zgornja meja iskanja\n",
    "    :iteraci:   število iteracij inkrementalne metode\n",
    "    \"\"\"\n",
    "    N = 10\n",
    "    \n",
    "    for i in range(iteracij):\n",
    "        dx = (x1 - x0)/N  # delitev intervala na N segmentov\n",
    "        [x0x1_new, D] = inkrementalna(fun, x0, x1, dx)  # poiščemo presečni segment\n",
    "        [x0, x1] = x0x1_new # posodobimo nov interval z izračunanim presečnim segmentom\n",
    "    \n",
    "    return [np.array([x0, x1]), D]"
   ]
  },
  {
   "cell_type": "code",
   "execution_count": null,
   "id": "a9cac1a9-1ecf-42b1-9c7a-a31d39b978a7",
   "metadata": {},
   "outputs": [],
   "source": [
    "# Testiranje za različna števila iteracij\n",
    "\n",
    "iter = [3,5,8,10]\n",
    "\n",
    "for it in iter:\n",
    "    [rez, D] = inkrementalna_super(our_poly, 0., 1., it)\n",
    "    print('  število iteracij: {:d}'.format(it))\n",
    "    print('   segment rešitve:')\n",
    "    print('                x0: {:.10g}'.format(rez[0]))\n",
    "    print('                x1: {:.10g}'.format(rez[1]))\n",
    "    print('natančnost rešitve: {:.2g}'.format(D))\n",
    "    print(' -----------------')"
   ]
  },
  {
   "cell_type": "markdown",
   "id": "07447f0a-8c10-45ad-bcec-39059a1acf79",
   "metadata": {},
   "source": [
    "V primeru iterativne metode smo z bistveno manj dela dobili bistveno boljši rezultat."
   ]
  },
  {
   "cell_type": "markdown",
   "id": "24461f4b-79ce-4284-8af4-2cfa02929560",
   "metadata": {},
   "source": [
    "<hr>\n",
    "\n",
    "## Bisekcijska metoda"
   ]
  },
  {
   "cell_type": "markdown",
   "id": "d46bea7f-5052-46f9-b3df-e5b77eb839a8",
   "metadata": {},
   "source": [
    "Na intervalu $[x_0, x_1]$, kjer vemo, da obstaja ničla funkcije (predznaka $f(x_0)$ in $f(x_1)$ se razlikujeta), lahko uporabimo *bisekcijsko metodo*.\n",
    "\n",
    "Ideja metode je:\n",
    "\n",
    "* interval $[x_0, x_1]$ razdelimo na pol (od tukaj ime: *bi-sekcija*): $x_2 = (x_0+x_1)/2$,\n",
    "* če imata $f(x_0)$ in $f(x_2)$ različne predznake, je nov interval iskanja ničle $[x_0, x_2]$, sicer pa: $[x_2, x_1]$,\n",
    "* glede na predhodni korak definiramo nov zaprt interval $[x_0, x_1]$ in nadaljujemo z iterativnim postopkom, dokler ne dosežemo želene natančnosti $\\left|x_1-x_0\\right|<\\varepsilon$.\n",
    "\n",
    "Na spodnji sliki je prikazana slika metode"
   ]
  },
  {
   "cell_type": "markdown",
   "id": "49b1d638-97f9-4a8a-9f42-50be0af8fb36",
   "metadata": {},
   "source": [
    "<center><img src=\"./fig/bisekcijska.png\" alt=\"drawing\" width=\"400\"/></center>"
   ]
  },
  {
   "cell_type": "markdown",
   "id": "ffc181e9-2980-4de8-93b8-fd08ac296b46",
   "metadata": {},
   "source": [
    "Bisekcijska metoda spada med *zaprte* metode, ki vrne ničlo funkcije na podanem intervalu $[x_0, x_1]$."
   ]
  },
  {
   "cell_type": "markdown",
   "id": "f678fd4d-47a9-4d5e-b9da-6d0993b14bb9",
   "metadata": {},
   "source": [
    "### Implementacija metode"
   ]
  },
  {
   "cell_type": "code",
   "execution_count": null,
   "id": "553dfd7f-d8e8-485c-8247-96d763ea3ea0",
   "metadata": {},
   "outputs": [],
   "source": [
    "def bisekcija(fun, x0, x1, tol=1e-3, Dtol=1e-1, izpis=True):\n",
    "    \"\"\" Vrne ničlo z natančnostjo tol\n",
    "    \n",
    "    :param fun: funkcija katere ničlo iščemo\n",
    "    :param x0:  spodnja meja iskanja\n",
    "    :param x1:  zgornja meja iskanja\n",
    "    :param tol: zahtevana natančnost\n",
    "    :param Dtol:največja vsota absolutnih vrednosti rešitve \n",
    "    :izpis:     ali na koncu izpiše kratko poročilo\n",
    "    \"\"\"\n",
    "    \n",
    "    if np.sign(fun(x0))==np.sign(fun(x1)):\n",
    "        raise Exception('Napaka (ERROR): Ničla ni izolirana!')\n",
    "    \n",
    "    n = np.ceil( np.log(np.abs(x1-x0)/tol)/np.log(2) ).astype(int) # število iteracij\n",
    "    \n",
    "    for i in range(n):\n",
    "        x2 = (x0 + x1) / 2\n",
    "        f1 = fun(x0)\n",
    "        f3 = fun(x2)\n",
    "        f2 = fun(x1)\n",
    "        if np.sign(fun(x2)) != np.sign(fun(x0)):\n",
    "            x1 = x2\n",
    "        else:\n",
    "            x0 = x2\n",
    "    \n",
    "    D = np.abs(fun(x0)) + np.abs(fun(x1))\n",
    "    \n",
    "    if D > Dtol:\n",
    "        raise Exception('Opozorilo (WARNING): Verjetnost pola ali več ničel!')\n",
    "   \n",
    "    r = (x0+x1)/2\n",
    "    \n",
    "    if izpis:\n",
    "        print('Rešitev: {:.5g}, število iteracij: {:d}, D: {:.5g}'\n",
    "              .format(r,n,D))\n",
    "    \n",
    "    return r"
   ]
  },
  {
   "cell_type": "code",
   "execution_count": null,
   "id": "024b6597-ee41-48cc-a7e8-38106f42f63f",
   "metadata": {},
   "outputs": [],
   "source": [
    "# Testiranje metode na naši funkciji\n",
    "eps = 1e-8\n",
    "bisekcija(our_poly, 0., 1., eps);"
   ]
  },
  {
   "cell_type": "markdown",
   "id": "49a591ba-64cf-4c90-ac51-0df29ecc0bc8",
   "metadata": {},
   "source": [
    "Poizkusi različne vrednosti za $\\varepsilon$ in primerjaj rezultat. Izriši graf primerjave iteracije/napaka."
   ]
  },
  {
   "cell_type": "markdown",
   "id": "afa1491e-331f-4d85-94d9-64970ba1ff44",
   "metadata": {},
   "source": [
    "### Kaj pa napaka metode?"
   ]
  },
  {
   "cell_type": "markdown",
   "id": "64d45072-a83a-45ab-8d48-bf5cda23d72d",
   "metadata": {},
   "source": [
    "Napako lahko ocenimo. Recimo, če v začetku pričnemo z intervalom $\\Delta x = \\left|x_1-x_0\\right|$, potem je natančnost bisekcijske metode po prvem koraku: \n",
    "\n",
    "$$\n",
    "    \\varepsilon_1 = \\Delta x/2,\n",
    "$$\n",
    "\n",
    "po drugem koraku: \n",
    "\n",
    "$$\n",
    "    \\varepsilon_2 = \\Delta x/2^2,\n",
    "$$\n",
    "\n",
    "in seveda po poljubno $n$ korakih: \n",
    "\n",
    "$$\n",
    "    \\varepsilon_n = \\Delta x/2^n.\n",
    "$$\n",
    "\n",
    "Ponavadi zahtevamo, da je rešitev podana z določeno natančnostjo, ki jo podamo z  $\\varepsilon$. Iz zgornje enačbe lahko izpeljemo število potrebnih korakov bisekcijske metode:\n",
    "\n",
    "$$\n",
    "    n = \\frac{\\log\\left(\\frac{\\Delta x}{\\varepsilon}\\right)}{\\log(2)}.\n",
    "$$\n",
    "\n",
    "Seveda je število korakov $n$ **celo število**."
   ]
  },
  {
   "cell_type": "markdown",
   "id": "34969fc1-a177-46a6-87bb-db8a921385ff",
   "metadata": {},
   "source": [
    "### Primerjava z metodo scipy.optimize.bisect"
   ]
  },
  {
   "cell_type": "markdown",
   "id": "e843aa4a-4a68-4d95-adad-4085197ba5a6",
   "metadata": {},
   "source": [
    "V paketu **scipy.optimize** imamo tudi metode iskanja ničle, med njimi je tudi bisekcijska metoda, ki se nahaja na povezavi [scipy.optimize.bisect](https://docs.scipy.org/doc/scipy/reference/generated/scipy.optimize.bisect.html)"
   ]
  },
  {
   "cell_type": "code",
   "execution_count": null,
   "id": "d6edd566-6d3c-43df-83d0-99ad6ac4bfe8",
   "metadata": {},
   "outputs": [],
   "source": [
    "# uporaba funkcije bisect\n",
    "\n",
    "root, r = opt.bisect(our_poly, 0.0, 1.0, full_output=True)\n",
    "\n",
    "print('Rešitev:', root)\n",
    "print('Izpis postopeka:\\n', r)"
   ]
  },
  {
   "cell_type": "markdown",
   "id": "710de1a6-e862-4708-9de1-3a2bc601b0d9",
   "metadata": {},
   "source": [
    "<hr>\n",
    "\n",
    "## Sekantna metoda"
   ]
  },
  {
   "cell_type": "markdown",
   "id": "6a4240cb-fd70-448d-8e9a-bd2e79f92203",
   "metadata": {},
   "source": [
    "Sekantna metoda zahteva dva začetna približka $x_0$ in $x_1$ in funkcijo $f(x)$. Ob predpostavki linearne interpolacije med točkama $x_0, f(x_0)$ in $x_1, f(x_1)$ (skozi točki potegnemo *sekanto*, od tukaj tudi ime), se določi $x_2$, kjer ima linearna interpolacijska funkcija ničlo. $x_2$ predstavlja nov približek ničle.\n",
    "\n",
    "Delovanje metode je prikazano na spodnji sliki"
   ]
  },
  {
   "cell_type": "markdown",
   "id": "b844c753-5659-495b-bde4-b3d81dc5f4f2",
   "metadata": {},
   "source": [
    "<center><img src=\"./fig/sekantna.png\" alt=\"drawing\" width=\"400\"/></center>"
   ]
  },
  {
   "cell_type": "markdown",
   "id": "41e6b253-810f-4a0c-a0df-55f7b4be3a02",
   "metadata": {},
   "source": [
    "Zapišimo razmerje stranic (podobna trikotnika sta na sliki označena z rumeno):\n",
    "\n",
    "$$\n",
    "    \\frac{f(x_1)}{x_2 − x_1}= \\frac{f(x_0) − f(x_1)}{x_1 − x_0}.\n",
    "$$\n",
    "\n",
    "Od tod sledi, da je nov približek za ničlo funkcije:\n",
    "\n",
    "$$\n",
    "    x_2= x_1-f(x_1)\\,\\frac{x_1 − x_0}{f(x_1) - f(x_0)}.\n",
    "$$\n",
    "\n",
    "V naslednjem koraku pri sekantni metodi izvedemo sledeče zamenjave: $x_0=x_1$ in $x_1=x_2$.\n",
    "\n",
    "Sekantna metoda spada med **odprte** metode, saj lahko najde ničlo funkcije, ki se nahaja zunaj območja $[x_0, x_1]$."
   ]
  },
  {
   "cell_type": "markdown",
   "id": "2877c5ce-bd50-406a-9ff1-580d5c4513d1",
   "metadata": {},
   "source": [
    "### Implementacija metode"
   ]
  },
  {
   "cell_type": "code",
   "execution_count": null,
   "id": "b5a0c56b-32a6-4cd5-9d4a-25b6dc2ba62e",
   "metadata": {},
   "outputs": [],
   "source": [
    "def sekantna(fun, x0, x1, tol=1e-3, Dtol=1e-1, max_iter=50, izpis=True):\n",
    "    \"\"\" Vrne ničlo z natančnostjo tol\n",
    "    \n",
    "    :param fun: funkcija katere ničlo iščemo\n",
    "    :param x0:  spodnja meja iskanja\n",
    "    :param x1:  zgornja meja iskanja\n",
    "    :param tol: zahtevana natančnost\n",
    "    :max_iter:  maksimalno število iteracij preden se izvajanje prekine\n",
    "    :param Dtol:največja vsota absolutnih vrednosti rešitve \n",
    "    :izpis:     ali na koncu izpiše kratko poročilo\n",
    "    \"\"\"\n",
    "    \n",
    "    if np.sign(fun(x0))==np.sign(fun(x1)):\n",
    "        raise Exception('Napaka: Ničla ni izolirana!')\n",
    "        \n",
    "    for i in range(max_iter):\n",
    "        f0 = fun(x0)\n",
    "        f1 = fun(x1)\n",
    "        x2 = x1 - f1 * (x1 - x0)/(f1 - f0)\n",
    "        x0 = x1\n",
    "        x1 = x2\n",
    "        if izpis:\n",
    "            print('{:g}. korak: x0={:g}, x1={:g}.'.format(i+1, x0, x1))\n",
    "        if np.abs(x1-x0)<tol:\n",
    "            r = (x0+x1)/2\n",
    "            D = np.abs(fun(x0)) + np.abs(fun(x1))\n",
    "            if D > Dtol:\n",
    "                raise Exception('Opozorilo: Verjetnost pola ali več ničel!')\n",
    "            r = (x0+x1)/2\n",
    "            if izpis:\n",
    "                print('Rešitev: {:.8g}, D: {:.5g}'.format(r,D))\n",
    "            return r        "
   ]
  },
  {
   "cell_type": "code",
   "execution_count": null,
   "id": "bfc2b00c-1a71-486d-8903-876e66d8afb6",
   "metadata": {},
   "outputs": [],
   "source": [
    "# Testiramo metodo\n",
    "\n",
    "sekantna(our_poly, 0, 1., tol=1.e-8, izpis=True);"
   ]
  },
  {
   "cell_type": "markdown",
   "id": "eeca8ea9-d85e-4e6c-8df2-e1da691aa43f",
   "metadata": {},
   "source": [
    "<hr>\n",
    "\n",
    "## Newton-Raphson metoda"
   ]
  },
  {
   "cell_type": "markdown",
   "id": "920dc9bb-f64f-4c68-9b47-d0c20f6b499d",
   "metadata": {},
   "source": [
    "V literaturi najdemo za to metodo dve imeni, **tangentna** in **Newton-Raphsonova** metoda. Potrebuje en začetni približek $x_0$, poleg definicije funkcije $f(x)$ pa tudi njen odvod $f'(x)$. \n",
    "\n",
    "Delovanja metode je prikazano na spodnji sliki"
   ]
  },
  {
   "cell_type": "markdown",
   "id": "cdaad4b7-d79c-4777-b00e-e5e4816d6e79",
   "metadata": {},
   "source": [
    "<center><img src=\"./fig/newtonova.png\" alt=\"drawing\" width=\"400\"/></center>"
   ]
  },
  {
   "cell_type": "markdown",
   "id": "8a071dc0-c974-495f-b9f1-805e35a8ba16",
   "metadata": {},
   "source": [
    "Metodo bi lahko izpeljali grafično (s  slike), tukaj pa si poglejmo izpeljavo s pomočjo Taylorjeve vrste:\n",
    "\n",
    "$$\n",
    "    f(x_{i+1})=f(x_i)+f'(x_i)\\,\\left(x_{i+1}-x_i\\right)+O^2\\left(x_{i+1}-x_i\\right),\n",
    "$$\n",
    "\n",
    "če naj bo pri $x_{i+1}$ vrednost funkcije nič, potem velja:\n",
    "\n",
    "$$\n",
    "    0=f(x_i)+f'(x_i)\\,\\left(x_{i+1}-x_i\\right)+O^2\\left(x_{i+1}-x_i\\right).\n",
    "$$\n",
    "\n",
    "Naredimo napako metode in zanemarimo člene višjega reda v Taylorjevi vrsti. Lahko izpeljemo:\n",
    "\n",
    "$$\n",
    "    x_{i+1}=x_i-\\frac{f(x_i)}{f'(x_i)}.\n",
    "$$\n",
    "\n",
    "$x_{i+1}$ je tako nov približek iskane ničle. \n",
    "\n",
    "Algoritem Newtonove metode je:\n",
    "\n",
    "1. izračunamo nov približek $x_{i+1}$,\n",
    "2. računanje prekinemo, če je največje število iteracij doseženo (rešitve enačbe nismo našli),\n",
    "3. če velja $\\left|x_{i+1}-x_i\\right|<\\varepsilon$ računanje prekinemo (izračunali smo približek ničle), sicer povečamo indeks $i$ in gremo v prvi korak.\n",
    "\n",
    "Opombi:\n",
    "\n",
    "* $\\varepsilon$ je zahtevana absolutna natančnost,\n",
    "* *Newtonova* metoda lahko divergira, zato v algoritmu predpišemo največje število iteracij.\n",
    "\n",
    "Zgoraj smo omenili, da je Newtonova metoda ena izmed boljših metod za iskanje ničel funkcij. Ima pa tudi nekaj slabosti/omejitev:\n",
    "\n",
    "* spada med *odprte* metode, \n",
    "* kvadratična konvergenca je zagotovljena le v dovolj majhni okolici rešitve enačbe,\n",
    "* poznati moramo odvod funkcije."
   ]
  },
  {
   "cell_type": "markdown",
   "id": "2ccd72dc-620d-4ac3-b67a-dc1706f8d405",
   "metadata": {},
   "source": [
    "### Red konvergence metode"
   ]
  },
  {
   "cell_type": "markdown",
   "id": "102aee44-d255-4435-9e07-62391d963359",
   "metadata": {},
   "source": [
    "Red konvergence Newtonove metode je kvadraten (ker smo upoštevali še odvod funkcije): \n",
    "\n",
    "$$\n",
    "    \\varepsilon_n = C\\,\\varepsilon_{n-1}^{2},\n",
    "$$\n",
    "\n",
    "kjer je $C$:\n",
    "\n",
    "$$\n",
    "    C=-\\frac{f''(x)}{2\\,f'(x)}.\n",
    "$$\n",
    "\n",
    "Konvergenca je torej hitra, v vsaki novi iteraciji se število točnih števk v približku podvoji."
   ]
  },
  {
   "cell_type": "markdown",
   "id": "8a65a278-70e1-44d4-91b9-5d9a6010177e",
   "metadata": {},
   "source": [
    "### Implementacija metode"
   ]
  },
  {
   "cell_type": "code",
   "execution_count": null,
   "id": "a044c9a8-c0e9-480c-a171-b5bb9e543f1d",
   "metadata": {},
   "outputs": [],
   "source": [
    "def newtonova(fun, dfun, x0, tol=1e-3, Dtol=1e-1, max_iter=50, izpis=True): \n",
    "    # ime `newtonova` zato ker je `newton` vgrajena funkcija v `scipy`\n",
    "    \"\"\" Vrne ničlo z natančnostjo tol\n",
    "    \n",
    "    :param fun:  funkcija katere ničlo iščemo\n",
    "    :param dfun: f'\n",
    "    :param x0:   začetni približek\n",
    "    :param tol:  zahtevana natančnost\n",
    "    :max_iter:  maksimalno število iteracij preden se izvajanje prekine\n",
    "    :param Dtol:največja vsota absolutnih vrednosti rešitve \n",
    "    :izpis:     ali na koncu izpiše kratko poročilo\n",
    "    \"\"\"\n",
    "    \n",
    "    for i in range(max_iter):\n",
    "        x1 = x0 - fun(x0)/dfun(x0)\n",
    "        if np.abs(x1-x0)<tol:\n",
    "            r = (x0+x1)/2\n",
    "            D = np.abs(fun(x0)) + np.abs(fun(x1))\n",
    "            if D > Dtol:\n",
    "                raise Exception('Opozorilo: Verjetnost pola ali več ničel!')\n",
    "            if izpis: \n",
    "                print('Rešitev: {:.5g}, število iteracij: {:d}, D: {:.8g}'.format(x1,i,D))\n",
    "            return x1\n",
    "        x0 = x1\n",
    "    raise Exception('Napaka: Metoda po {:d} iteracijah ne konvergira!'.format(max_iter))"
   ]
  },
  {
   "cell_type": "code",
   "execution_count": null,
   "id": "d374d5f8-b340-4990-908f-da5a14d67140",
   "metadata": {},
   "outputs": [],
   "source": [
    "# Zapišimo naš polinom in njegov odvod\n",
    "\n",
    "def f(x):\n",
    "    return 5 - 10*x**2 + x**3\n",
    "    \n",
    "def dfdx(x):\n",
    "    return -20*x + 3*x**2"
   ]
  },
  {
   "cell_type": "code",
   "execution_count": null,
   "id": "5b608097-f4b4-4aad-994c-292c36e410b7",
   "metadata": {},
   "outputs": [],
   "source": [
    "# Testiramo metodo na naši funkciji\n",
    "\n",
    "newtonova(f, dfdx, 1.0, 1e-8);"
   ]
  },
  {
   "cell_type": "markdown",
   "id": "ac6c611c-7bea-4bca-8c4b-3a1804057761",
   "metadata": {},
   "source": [
    "Tako se vidi, da je potrebno bistveno manj iteracij za doseganje enake natančnosti rezultata. NR metoda v kombiniaciji z bisekcijo se dejansko uporablja kot metoda za reševanje enačb!"
   ]
  },
  {
   "cell_type": "markdown",
   "id": "20597e35-db43-470c-acca-10a9a2e05401",
   "metadata": {},
   "source": [
    "<hr>\n",
    "\n",
    "## Uporaba metode fsolve (scipy.optimize.fsolve)"
   ]
  },
  {
   "cell_type": "markdown",
   "id": "86a0da18-c31a-4afb-8027-ad38b1e5a3cb",
   "metadata": {},
   "source": [
    "V **scipy.optimize** knjižnjici imamo splošno metodo za reševanje enačb **fsolve**, ki se nahaja na povezavi [scipy.optimize.fsolve](https://docs.scipy.org/doc/scipy/reference/generated/scipy.optimize.fsolve.html)."
   ]
  },
  {
   "cell_type": "code",
   "execution_count": null,
   "id": "8874c5ba-9175-4cda-89f0-29a2d38e5125",
   "metadata": {},
   "outputs": [],
   "source": [
    "[root, output, flag, msg] = opt.fsolve(f, 1.0, full_output=True)\n",
    "\n",
    "print('Rešitev: {:8g}'.format(root[0]))\n",
    "print('Izpis sporočila:\\n')\n",
    "print(output)"
   ]
  },
  {
   "cell_type": "code",
   "execution_count": null,
   "id": "55e5c895-47d1-4c18-b4ff-959beb2e6583",
   "metadata": {},
   "outputs": [],
   "source": []
  }
 ],
 "metadata": {
  "kernelspec": {
   "display_name": "Python 3 (ipykernel)",
   "language": "python",
   "name": "python3"
  },
  "language_info": {
   "codemirror_mode": {
    "name": "ipython",
    "version": 3
   },
   "file_extension": ".py",
   "mimetype": "text/x-python",
   "name": "python",
   "nbconvert_exporter": "python",
   "pygments_lexer": "ipython3",
   "version": "3.11.9"
  }
 },
 "nbformat": 4,
 "nbformat_minor": 5
}
