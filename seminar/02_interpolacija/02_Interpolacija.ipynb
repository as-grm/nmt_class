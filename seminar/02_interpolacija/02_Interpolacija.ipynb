{
 "cells": [
  {
   "cell_type": "markdown",
   "metadata": {
    "slideshow": {
     "slide_type": "slide"
    }
   },
   "source": [
    "# Interpolacija merskih podatkov"
   ]
  },
  {
   "cell_type": "markdown",
   "metadata": {},
   "source": [
    "**Datum**: 07/10/2024\n",
    "\n",
    "**Avtor**: Aleksander Grm\n",
    "\n",
    "Zapiski temeljijo na predlogi OnLine knjige [Numerične metode v ekosistemu Pythona, Janko Slavič](https://jankoslavic.github.io/pynm)"
   ]
  },
  {
   "cell_type": "markdown",
   "metadata": {
    "slideshow": {
     "slide_type": "slide"
    }
   },
   "source": [
    "## Uvod"
   ]
  },
  {
   "cell_type": "markdown",
   "metadata": {},
   "source": [
    "Pri **interpolaciji** izhajamo iz tabele (različnih) vrednosti $x_i, y_i$:\n",
    "\n",
    "| $\\mathbf{x}$  | $\\mathbf{y}$  |\n",
    "|:-:|:-:|\n",
    "| $x_0$  | $y_0$  |\n",
    "| $x_1$  | $y_1$  |\n",
    "| $\\dots$   | $\\dots$ |\n",
    "| $x_{n-1}$| $y_{n-1}$|\n",
    "\n",
    "določiti pa želimo vmesne vrednosti. Če želimo določiti vrednosti zunaj območja $x$ v tabeli, govorimo o **ekstrapolaciji**.\n",
    "\n",
    "V okviru **interpolacije** (angl. *interpolation*) točke povežemo tako, da predpostavimo neko funkcijo in dodamo pogoj, da funkcija *mora* potekati skozi podane točke. \n",
    "\n",
    "Pri **aproksimaciji** (angl. *approximation* ali tudi *curve fitting*) pa predpostavimo funkcijo, ki se čimbolj (glede na izbrani kriterij) prilega podatkom. \n",
    "\n",
    "<hr>"
   ]
  },
  {
   "cell_type": "markdown",
   "metadata": {
    "slideshow": {
     "slide_type": "subslide"
    }
   },
   "source": [
    "**Primer**\n",
    "\n",
    "| $\\mathbf{x}$  | $\\mathbf{y}$  |\n",
    "|:-:|:-:|\n",
    "| 1.0  | 0.54030231  |\n",
    "| 2.5  | -0.80114362  |\n",
    "| 4.0   | -0.65364362 |\n",
    "\n",
    "Pri interpolaciji izhajamo iz tabele vrednosti. Da bomo pozneje lahko enostavno prikazali napako, smo zgornjo tabelo generirali s pomočjo izraza $y = \\cos(x)$!"
   ]
  },
  {
   "cell_type": "markdown",
   "metadata": {
    "slideshow": {
     "slide_type": "subslide"
    }
   },
   "source": [
    "Pripravimo numerični zgled; najprej uvozimo pakete:"
   ]
  },
  {
   "cell_type": "code",
   "execution_count": null,
   "metadata": {
    "slideshow": {
     "slide_type": "-"
    }
   },
   "outputs": [],
   "source": [
    "import numpy as np\n",
    "import matplotlib.pyplot as mpl"
   ]
  },
  {
   "cell_type": "markdown",
   "metadata": {
    "slideshow": {
     "slide_type": "subslide"
    }
   },
   "source": [
    "Nato pripravimo tabelo ter prikaz:"
   ]
  },
  {
   "cell_type": "code",
   "execution_count": null,
   "metadata": {
    "scrolled": true
   },
   "outputs": [],
   "source": [
    "n = 3 # number of sample points\n",
    "\n",
    "x = np.linspace(1, 4, n)\n",
    "f = np.cos # posplošimo interpolirano funkcijo (lahko spremenite v drugo funkcijo)\n",
    "f_ime = f.__str__().split('\\'')[1] # avtomatsko vzamemo ime funkcije\n",
    "y = f(x)# + np.random.rand(len(x))*0.3\n",
    "\n",
    "mpl.plot(x, y, 'o', label='Interpolacijske točke');\n",
    "mpl.legend();"
   ]
  },
  {
   "cell_type": "markdown",
   "metadata": {
    "slideshow": {
     "slide_type": "slide"
    }
   },
   "source": [
    "## Interpolacija s polinomom"
   ]
  },
  {
   "cell_type": "markdown",
   "metadata": {},
   "source": [
    "Interpolacija s polinomom se zdi najbolj primerna, saj je enostavna! \n",
    "\n",
    "Polinom stopnje $n-1$:\n",
    "\n",
    "$$\n",
    "y = a_0\\,x^{n-1} +a_1\\,x^{n-2} +\\cdots + a_{n-2}\\,x + a_{n-1}.\n",
    "$$\n",
    "\n",
    "je definiran z $n$ konstantami $a_i$. Da določimo $n$ konstant, potrebujemo $n$ (različnih) enačb. Za vsak par $x_i, y_i$ lahko torej zapišemo:\n",
    "\n",
    "$$\n",
    "y_i = a_{0}\\,x_i^{n-1} +a_{1}\\,x_i^{n-2} +\\cdots + a_{n-2}\\,x_i + a_{n-1}.\n",
    "$$"
   ]
  },
  {
   "cell_type": "markdown",
   "metadata": {
    "slideshow": {
     "slide_type": "subslide"
    }
   },
   "source": [
    "Ker imamo podanih $n$ parov, lahko določimo $n$ neznanih konstant $a_i$, ki definirajo polinom stopnje $n-1$. Sistem $n$ linearnih enačb lahko zapišemo:\n",
    "$$\n",
    "\\begin{bmatrix}\n",
    "x_{0}^{n-1}&x_{0}^{n-2}&\\dots&x_{0}^0\\\\\n",
    "x_{1}^{n-1}&x_{1}^{n-2}&\\dots&x_{1}^0\\\\\n",
    "&&\\vdots&&\\\\\n",
    "x_{n-1}^{n-1}&x_{n-1}^{n-2}&\\dots&x_{n-1}^0\\\\\n",
    "\\end{bmatrix}\n",
    "\\begin{pmatrix}\n",
    "a_{0}\\\\\n",
    "a_{1}\\\\\n",
    "\\vdots\\\\\n",
    "a_{n-1}\n",
    "\\end{pmatrix}=\n",
    "\\begin{pmatrix}\n",
    "y_{0}\\\\\n",
    "y_{1}\\\\\n",
    "\\vdots\\\\\n",
    "y_{n-1}\n",
    "\\end{pmatrix}\n",
    "$$"
   ]
  },
  {
   "cell_type": "markdown",
   "metadata": {
    "slideshow": {
     "slide_type": "subslide"
    }
   },
   "source": [
    "Sistem linearnim enačb zapišemo v obliki:\n",
    "\n",
    "$$\n",
    "\\mathbf{M}\\,\\mathbf{a}=\\mathbf{b}.\n",
    "$$"
   ]
  },
  {
   "cell_type": "markdown",
   "metadata": {
    "slideshow": {
     "slide_type": "subslide"
    }
   },
   "source": [
    "Definirajmo matriko koeficientov $\\mathbf{M}$:"
   ]
  },
  {
   "cell_type": "code",
   "execution_count": null,
   "metadata": {
    "slideshow": {
     "slide_type": "fragment"
    }
   },
   "outputs": [],
   "source": [
    "M = np.asarray([[_**p for p in reversed(range(len(x)))] for _ in x])\n",
    "M  "
   ]
  },
  {
   "cell_type": "markdown",
   "metadata": {
    "slideshow": {
     "slide_type": "subslide"
    }
   },
   "source": [
    "Izračunamo koeficiente $a_{0}, a_{1},\\dots$:"
   ]
  },
  {
   "cell_type": "code",
   "execution_count": null,
   "metadata": {
    "slideshow": {
     "slide_type": "-"
    }
   },
   "outputs": [],
   "source": [
    "resitev = np.linalg.solve(M, y)\n",
    "resitev"
   ]
  },
  {
   "cell_type": "markdown",
   "metadata": {
    "slideshow": {
     "slide_type": "subslide"
    }
   },
   "source": [
    "Pripravimo interpolacijski polinom kot Pythonovo funkcijo:"
   ]
  },
  {
   "cell_type": "code",
   "execution_count": null,
   "metadata": {},
   "outputs": [],
   "source": [
    "def y_function(x, resitev):\n",
    "    A = np.asarray([[_**p for p in reversed(range(len(resitev)))] for _ in x])\n",
    "    return A.dot(resitev)"
   ]
  },
  {
   "cell_type": "markdown",
   "metadata": {
    "slideshow": {
     "slide_type": "subslide"
    }
   },
   "source": [
    "Izris interpolacijskega polinoma pri bolj gosti mreži točk:"
   ]
  },
  {
   "cell_type": "code",
   "execution_count": null,
   "metadata": {
    "scrolled": true
   },
   "outputs": [],
   "source": [
    "xint = np.linspace(np.min(x), np.max(x), 30)\n",
    "yint = y_function(xint, resitev)\n",
    "mpl.plot(x, y, 'o', label='Interpolacijske točke')\n",
    "mpl.plot(xint, yint, '.',label='Interpolacija')\n",
    "mpl.legend();"
   ]
  },
  {
   "cell_type": "markdown",
   "metadata": {
    "slideshow": {
     "slide_type": "subslide"
    }
   },
   "source": [
    "Slabosti zgornjega postopka so:\n",
    "\n",
    " * število numeričnih operacij raste sorazmerno z $n^3$,\n",
    " * problem je lahko slabo pogojen (z večanjem stopnje polinoma slaba pogojenost naglo narašča):"
   ]
  },
  {
   "cell_type": "code",
   "execution_count": null,
   "metadata": {},
   "outputs": [],
   "source": [
    "np.linalg.cond(M)"
   ]
  },
  {
   "cell_type": "markdown",
   "metadata": {},
   "source": [
    "*Navodilo*: vrnite se par vrstic nazaj in spremenite število interpolacijskih točk $n$ na višjo vrednost (npr. 10)."
   ]
  },
  {
   "cell_type": "markdown",
   "metadata": {
    "slideshow": {
     "slide_type": "slide"
    }
   },
   "source": [
    "## Lagrangeva metoda"
   ]
  },
  {
   "cell_type": "markdown",
   "metadata": {
    "slideshow": {
     "slide_type": "fragment"
    }
   },
   "source": [
    "*Lagrangeva* metoda ne zahteva reševanja sistema enačb in je s stališča števila računskih operacij (narašča sorazmerno z $n^2$ ([vir](http://www.ams.org/journals/mcom/1970-24-109/S0025-5718-1970-0258240-X/S0025-5718-1970-0258240-X.pdf))) boljša od predhodno predstavljene polinomske interpolacije (število operacij narašča sorazmerno z $n^3$), kjer smo reševali sistem linearnih enačb. Rešitev pa je seveda popolnoma enaka!"
   ]
  },
  {
   "cell_type": "code",
   "execution_count": null,
   "metadata": {
    "slideshow": {
     "slide_type": "subslide"
    }
   },
   "outputs": [],
   "source": [
    "from IPython.display import YouTubeVideo\n",
    "YouTubeVideo('c_TbU8XBHsw', width=800, height=300)"
   ]
  },
  {
   "cell_type": "markdown",
   "metadata": {
    "slideshow": {
     "slide_type": "subslide"
    }
   },
   "source": [
    "Lagrangev interpolacijski polinom stopnje $n-1$ je definiran kot:\n",
    "\n",
    "$$\n",
    "    L_{n-1}(x)=\\sum_{i=0}^{n-1}y_i\\,l_i(x),\n",
    "$$\n",
    "\n",
    "kjer je $l_i(x)$ Lagrangev polinom stopnje $i$\n",
    "\n",
    "$$\n",
    "    l_i(x)=\\prod_{j=0, j\\ne i}^{n-1} \\frac{x-x_j}{x_i-x_j}.\n",
    "$$"
   ]
  },
  {
   "cell_type": "markdown",
   "metadata": {
    "slideshow": {
     "slide_type": "subslide"
    }
   },
   "source": [
    "Poglejmo si interpolacijo za zgoraj prikazane $x$ in $y$ podatke.\n",
    "\n",
    "Definirajmo najprej Lagrangeve polinom, kjer imamo $i$ znanih točk\n",
    "\n",
    "$$\n",
    "    l_i(x) := \\prod_{j=0, j\\ne i}^{n-1} \\frac{x-x_j}{x_i-x_j}.\n",
    "$$\n",
    "\n",
    "<hr>\n",
    "\n",
    "**Primer**\n",
    "\n",
    "Imamo dane tri meritve $[(x_0,y_0), (x_1,y_1), (x_2,y_2)]$. V tem primeru, kjer želimo izdelati interpolacijski polinom čez celoten interval merilnih točk, imamo tri različne Lagrangejeve interpolacijske polinome, ki so stopnje 2\n",
    "\n",
    "$$\n",
    "    l_0(x) = \\frac{x - x_1}{x_0-x_1}\\frac{x - x_2}{x_0-x_2}, ~~ l_1(x) = \\frac{x - x_0}{x_1-x_0}\\frac{x - x_2}{x_1-x_2}, ~~ l_2(x) = \\frac{x - x_0}{x_0-x_2}\\frac{x - x_1}{x_1-x_2},\n",
    "$$\n",
    "\n",
    "kar pomeni, da lahko skozi tri točke napeljemo Lagrangejev polinom stopnje 2.\n",
    "\n",
    "<hr>"
   ]
  },
  {
   "cell_type": "markdown",
   "metadata": {},
   "source": [
    "Zapišimo splošen Lagrangejev polinom $l_i(x)$ v obliki Python funkcije:"
   ]
  },
  {
   "cell_type": "code",
   "execution_count": null,
   "metadata": {},
   "outputs": [],
   "source": [
    "def lagrange(x, x_int, i):\n",
    "    \"\"\" Vrne vrednosti i-tega Lagrangevega polinoma\n",
    "    \n",
    "    x: neodvisna spremenljivka\n",
    "    x_int: seznam interpolacijskih točk\n",
    "    i: indeks polinoma\n",
    "    \"\"\"\n",
    "    Lx = 1.0\n",
    "    for j in range(len(x_int)):\n",
    "        if j != i:\n",
    "            Lx *= (x-x_int[j]) / (x_int[i]-x_int[j])\n",
    "    return Lx"
   ]
  },
  {
   "cell_type": "markdown",
   "metadata": {},
   "source": [
    "in izris lepege grafa:"
   ]
  },
  {
   "cell_type": "code",
   "execution_count": null,
   "metadata": {
    "slideshow": {
     "slide_type": "subslide"
    }
   },
   "outputs": [],
   "source": [
    "def slika(i=0):\n",
    "    xint = np.linspace(np.min(x), np.max(x), 30)\n",
    "    mpl.plot(x, y, 'o', label='Interpolacijske točke')\n",
    "    mpl.axhline(0, color='k', linewidth=0.3);\n",
    "    mpl.plot(xint, lagrange(xint, x_int=x, i=i), '.',label=f'Lagrangev polinom i={i}');\n",
    "    for _ in x:\n",
    "        mpl.axvline(_, color='r', linewidth=0.5);\n",
    "    mpl.legend()\n",
    "    mpl.show()"
   ]
  },
  {
   "cell_type": "code",
   "execution_count": null,
   "metadata": {
    "slideshow": {
     "slide_type": "subslide"
    }
   },
   "outputs": [],
   "source": [
    "slika(i=1)"
   ]
  },
  {
   "cell_type": "markdown",
   "metadata": {
    "slideshow": {
     "slide_type": "subslide"
    }
   },
   "source": [
    "Opazimo, da ima $i$-ti Lagrangev polinom v $x_i$ vrednost 1, v ostalih podanih točkah pa nič!"
   ]
  },
  {
   "cell_type": "markdown",
   "metadata": {},
   "source": [
    "Če torej Lagrangev polinom za $i=0$ pomnožimo z $y_0$, bomo pri $x=x_0$ dobili pravo vrednost, v ostalih interpolacijskih točkah pa nič; implementirajmo torej Lagrangev interpolacijski polinom:\n",
    "\n",
    "$$\n",
    "    L_{n-1}(x)=\\sum_{i=0}^{n-1}y_i\\,l_i(x),\n",
    "$$\n"
   ]
  },
  {
   "cell_type": "code",
   "execution_count": null,
   "metadata": {
    "slideshow": {
     "slide_type": "subslide"
    }
   },
   "outputs": [],
   "source": [
    "def lagrange_interpolacija(x, x_int, y_int):\n",
    "    \"\"\" Vrne vrednosti Lagrangeve interpolacije\n",
    "    \n",
    "    x: neodvisna spremenljivka (skalar ali numerično polje)\n",
    "    x_int: abscisa interpolacijskih točk\n",
    "    y_int: ordinata interpolacijskih točk\n",
    "    \"\"\"\n",
    "    y = 0.\n",
    "    for i in range(len(x_int)):\n",
    "        Lx = 1.0\n",
    "        for j in range(len(x_int)):\n",
    "            if j != i:\n",
    "                Lx *= (x-x_int[j]) / (x_int[i]-x_int[j])\n",
    "        y += y_int[i] * Lx\n",
    "    return y"
   ]
  },
  {
   "cell_type": "markdown",
   "metadata": {
    "slideshow": {
     "slide_type": "subslide"
    }
   },
   "source": [
    "Pripravimo sliko:"
   ]
  },
  {
   "cell_type": "code",
   "execution_count": null,
   "metadata": {
    "slideshow": {
     "slide_type": "subslide"
    }
   },
   "outputs": [],
   "source": [
    "def slika(i=0):\n",
    "    xint = np.linspace(np.min(x), np.max(x), 30)\n",
    "    mpl.plot(x, y, 'o', label='Interpolacijske točke')\n",
    "    mpl.plot(xint, lagrange(xint, x_int=x, i=i), '.',label=f'Lagrangev polinom i={i}');\n",
    "    mpl.plot(xint, lagrange_interpolacija(xint, x_int=x, y_int=y), '.',label=f'Lagrangev int polinom');\n",
    "    mpl.axhline(0, color='k', linewidth=0.3);\n",
    "    for _ in x:\n",
    "        mpl.axvline(_, color='r', linewidth=0.5);\n",
    "    mpl.legend()\n",
    "    mpl.show()"
   ]
  },
  {
   "cell_type": "markdown",
   "metadata": {
    "slideshow": {
     "slide_type": "subslide"
    }
   },
   "source": [
    "Iz `ipywidgets` uvozimo ``interact``, ki je močno orodje za avtomatsko generiranje (preprostega) uporabniškega vmesnika znotraj `jupyter` okolja. Tukaj bomo uporabili relativno preprosto interakcijo s sliko; za pregled vseh zmožnosti pa radovednega bralca naslavljamo na [dokumentacijo](http://ipywidgets.readthedocs.io/en/latest/examples/Using%20Interact.html)."
   ]
  },
  {
   "cell_type": "markdown",
   "metadata": {
    "slideshow": {
     "slide_type": "subslide"
    }
   },
   "source": [
    "Uvoz funkcije ``interact``"
   ]
  },
  {
   "cell_type": "code",
   "execution_count": null,
   "metadata": {
    "slideshow": {
     "slide_type": "-"
    }
   },
   "outputs": [],
   "source": [
    "from ipywidgets import interact"
   ]
  },
  {
   "cell_type": "code",
   "execution_count": null,
   "metadata": {
    "slideshow": {
     "slide_type": "subslide"
    }
   },
   "outputs": [],
   "source": [
    "interact(slika);"
   ]
  },
  {
   "cell_type": "markdown",
   "metadata": {
    "slideshow": {
     "slide_type": "subslide"
    }
   },
   "source": [
    "Iz slike vidimo, da ima Lagrangev polinom $i$ samo pri $x_i$ vrednost 1 v ostalih točkah $\\ne i$ pa ima vrednosti nič; ko Lagrangev polinom $l_i(x)$ pomnožimo z $y_i$ zadostimo $i$-ti točki iz tabele. Posledično Lagrangeva interpolacija z vsoto Lagrangevih polinomov interpolira tabelo."
   ]
  },
  {
   "cell_type": "markdown",
   "metadata": {
    "slideshow": {
     "slide_type": "-"
    }
   },
   "source": [
    "Polinomska interpolacija pri velikem številu točk je lahko slabo pogojena naloga in zato jo odsvetujemo. "
   ]
  },
  {
   "cell_type": "markdown",
   "metadata": {
    "slideshow": {
     "slide_type": "subslide"
    }
   },
   "source": [
    "### Ocena napake"
   ]
  },
  {
   "cell_type": "markdown",
   "metadata": {},
   "source": [
    "Če je $f(x)$ funkcija, ki jo interpoliramo in je $P_{n-1}(x)$ interpolacijski polinom stopnje $n-1$, potem se lahko pokaže (glejte npr.: Burden, Faires, Burden: Numerical Analysis), da je napaka interpolacije s polinomom:\n",
    "\n",
    "$$\n",
    "e=f(x)-P_{n-1}(x)=\\frac{f^{(n)}(\\xi)}{n!}\\,(x-x_0)\\,(x-x_1)\\,\\cdots\\,(x-x_{n-1}),\n",
    "$$\n",
    "\n",
    "kjer je $f^{(n)}$ odvod funkcije, $n-1$ stopnja interpolacijskega polinoma in $\\xi$ vrednost na interpoliranem intervalu $[x_0, x_{n-1}]$."
   ]
  },
  {
   "cell_type": "markdown",
   "metadata": {
    "slideshow": {
     "slide_type": "subslide"
    }
   },
   "source": [
    "### Zgled"
   ]
  },
  {
   "cell_type": "markdown",
   "metadata": {},
   "source": [
    "Tukaj si bomo ogledali interpolacijo točk:"
   ]
  },
  {
   "cell_type": "code",
   "execution_count": null,
   "metadata": {},
   "outputs": [],
   "source": [
    "x = np.array([0.        ,  0.52359878,  1.04719755,  1.57079633])\n",
    "y = np.array([ 0.       ,  0.5      ,  0.8660254,  1.       ])"
   ]
  },
  {
   "cell_type": "markdown",
   "metadata": {
    "slideshow": {
     "slide_type": "subslide"
    }
   },
   "source": [
    "Točke prikažimo:"
   ]
  },
  {
   "cell_type": "code",
   "execution_count": null,
   "metadata": {},
   "outputs": [],
   "source": [
    "mpl.plot(x, y, 'o');"
   ]
  },
  {
   "cell_type": "markdown",
   "metadata": {
    "slideshow": {
     "slide_type": "subslide"
    }
   },
   "source": [
    "Linearna interpolacija za vrednost pri `x=1.57079633/2`:"
   ]
  },
  {
   "cell_type": "code",
   "execution_count": null,
   "metadata": {},
   "outputs": [],
   "source": [
    "y_linearna = lagrange_interpolacija(x=x[-1]/2, x_int=x[1:3], y_int=y[1:3])\n",
    "y_linearna"
   ]
  },
  {
   "cell_type": "markdown",
   "metadata": {
    "slideshow": {
     "slide_type": "subslide"
    }
   },
   "source": [
    "Kvadratna:"
   ]
  },
  {
   "cell_type": "code",
   "execution_count": null,
   "metadata": {},
   "outputs": [],
   "source": [
    "y_kvadratna = lagrange_interpolacija(x=x[-1]/2, x_int=x[0:3], y_int=y[0:3])\n",
    "y_kvadratna"
   ]
  },
  {
   "cell_type": "markdown",
   "metadata": {},
   "source": [
    "Kubična"
   ]
  },
  {
   "cell_type": "code",
   "execution_count": null,
   "metadata": {},
   "outputs": [],
   "source": [
    "y_kubična = lagrange_interpolacija(x=x[-1]/2, x_int=x, y_int=y)\n",
    "y_kubična"
   ]
  },
  {
   "cell_type": "markdown",
   "metadata": {
    "slideshow": {
     "slide_type": "subslide"
    }
   },
   "source": [
    "### Zgled ocene napake"
   ]
  },
  {
   "cell_type": "markdown",
   "metadata": {},
   "source": [
    "Pri interpolaciji ponavadi funkcije $f(x)$ ne poznamo in napako ocenimo s pomočjo formule:\n",
    "\n",
    "$$\n",
    "e=\\frac{f^{(n)}(\\xi)}{n!}\\,(x-x_0)\\,(x-x_1)\\,\\cdots\\,(x-x_n).\n",
    "$$\n",
    "\n",
    "Pri tem vrednost $\\xi$  ni znana; ker je v primeru linearne interpolacije ($n=2$) drugi odvod sinusne funkcije ($f^{(n)}$) med -1 in +1, velja:\n",
    "\n",
    "$$\n",
    "|e|\\le\\left|\\frac{-1}{2!}\\,(\\pi/4-\\pi/6)\\,(\\pi/4-\\pi/3)\\right|=\\frac{1}{2}\\,\\frac{\\pi}{12}\\,\\frac{\\pi}{12}=\\frac{\\pi^2}{288}=0,034\n",
    "$$"
   ]
  },
  {
   "cell_type": "markdown",
   "metadata": {
    "slideshow": {
     "slide_type": "subslide"
    }
   },
   "source": [
    "Poleg **Lagrangeve metode** bi si tukaj lahko pogledali še **Newtonovo metodo** interpolacije."
   ]
  },
  {
   "cell_type": "markdown",
   "metadata": {
    "slideshow": {
     "slide_type": "subslide"
    }
   },
   "source": [
    "### Interpolacija z uporabo `scipy`"
   ]
  },
  {
   "cell_type": "markdown",
   "metadata": {},
   "source": [
    "Poglejmo si interpolacijo v okviru modula `scipy.interpolate` ([dokumentacija](https://docs.scipy.org/doc/scipy/reference/interpolate.html))."
   ]
  },
  {
   "cell_type": "markdown",
   "metadata": {
    "slideshow": {
     "slide_type": "subslide"
    }
   },
   "source": [
    "Uporabili bomo funkcijo za interpoliranje tabele z zlepki, `scipy.interpolate.interp1d` ([dokumentacija](https://docs.scipy.org/doc/scipy/reference/generated/scipy.interpolate.interp1d.html#scipy.interpolate.interp1d)):\n",
    "\n",
    "```python\n",
    "interp1d(x, y, kind='linear', axis=-1, copy=True, bounds_error=None, fill_value=nan, assume_sorted=False)\n",
    "```\n",
    "\n",
    "Podati moramo vsaj dva parametra: seznama interpolacijskih točk `x` in `y`. Privzeti parameter `kind='linear'` pomeni, da inteproliramo z odsekoma linearno funkcijo. `interp1d` vrne funkcijo `f`, ki jo kličemo (npr. `y = f(x)`) za izračun interpolirane vrednosti. \n",
    "\n",
    "Parameter `kind` je lahko npr. tudi: `'zero'`, `'slinear'`, `'quadratic'` in `'cubic'`; takrat se uporabi interpolacijski zlepek (ang. *spline*) reda 0, 1, 2 oz. 3. Zlepke si bomo pogledali v naslednjem poglavju."
   ]
  },
  {
   "cell_type": "code",
   "execution_count": null,
   "metadata": {},
   "outputs": [],
   "source": [
    "from scipy.interpolate import interp1d"
   ]
  },
  {
   "cell_type": "markdown",
   "metadata": {
    "slideshow": {
     "slide_type": "subslide"
    }
   },
   "source": [
    "Definirajmo tabelo podatkov:"
   ]
  },
  {
   "cell_type": "code",
   "execution_count": null,
   "metadata": {},
   "outputs": [],
   "source": [
    "x = np.array([ 1.        ,  2.14285714,  3.28571429,  4.42857143,  5.57142857,\n",
    "        6.71428571,  7.85714286,  9.        ])\n",
    "\n",
    "y = np.array([ 0.84147098,  0.84078711, -0.14362322, -0.95999344, -0.65316501,\n",
    "        0.41787078,  0.999995  ,  0.41211849])"
   ]
  },
  {
   "cell_type": "code",
   "execution_count": null,
   "metadata": {},
   "outputs": [],
   "source": [
    "len(x)"
   ]
  },
  {
   "cell_type": "code",
   "execution_count": null,
   "metadata": {},
   "outputs": [],
   "source": [
    "from scipy.interpolate import interp1d"
   ]
  },
  {
   "cell_type": "code",
   "execution_count": null,
   "metadata": {
    "slideshow": {
     "slide_type": "subslide"
    }
   },
   "outputs": [],
   "source": [
    "f = interp1d(x, y, kind='linear')\n",
    "x_g = np.linspace(x[0], x[-1], 20*len(x)-1)\n",
    "mpl.plot(x, y, 'o', label='Interpolacijske točke')\n",
    "mpl.plot(x_g, f(x_g), '-', label='Interpolacija')\n",
    "mpl.legend();"
   ]
  },
  {
   "cell_type": "markdown",
   "metadata": {
    "slideshow": {
     "slide_type": "slide"
    }
   },
   "source": [
    "## Kubični zlepki"
   ]
  },
  {
   "cell_type": "markdown",
   "metadata": {},
   "source": [
    "Preden gremo v teorijo zlepkov, si poglejmo rezultat, ki ga dobimo s klicanjem funkcije `interp1d` s parametrom `kind='cubic'` (rezultat je kubični zlepek)."
   ]
  },
  {
   "cell_type": "code",
   "execution_count": null,
   "metadata": {
    "slideshow": {
     "slide_type": "subslide"
    }
   },
   "outputs": [],
   "source": [
    "f = interp1d(x, y, kind='cubic')\n",
    "mpl.plot(x, y, 'o', label='Interpolacijske točke')\n",
    "mpl.plot(x_g, f(x_g), '-', label='Kubični zlepek')\n",
    "mpl.plot(x_g, np.sin(x_g), label='sin', alpha=0.5)\n",
    "mpl.legend();"
   ]
  },
  {
   "cell_type": "markdown",
   "metadata": {
    "slideshow": {
     "slide_type": "subslide"
    }
   },
   "source": [
    "Kubični zlepki so pogost način interpolacije. \n",
    "\n",
    "Zahtevamo, da je: $x_0<x_1< \\cdots <x_n$.\n",
    "\n",
    "Od točke $x_i$ do $x_{i+1}$ naj bo zlepek \n",
    "polinom:\n",
    "\n",
    "$$\n",
    "f_{i,i+1}(x)= a_{i,3}\\,x^3+a_{i,2}\\,x^2+a_{i,1}\\,x+a_{i,0},\n",
    "$$\n",
    "\n",
    "pri čemer so neznane vrednosti konstant $a_{i,j}$. "
   ]
  },
  {
   "cell_type": "markdown",
   "metadata": {
    "slideshow": {
     "slide_type": "subslide"
    }
   },
   "source": [
    "Če imamo na primer $n+1$ točk, potem je treba določiti $n$ polinomov. \n",
    "\n",
    "Celotni zlepek čez $n+1$ točk je definiran z:\n",
    "\n",
    "$$\n",
    "f(x) = \\left\\{\n",
    "\\begin{array}{rcl}\n",
    "f_{0,1}(x); && x\\in[x_0, x_1)\\\\\n",
    "f_{1,2}(x); && x\\in[x_1, x_2)\\\\\n",
    "&\\vdots&\\\\\n",
    "f_{n-1,n}(x); && x\\in[x_{n-1}, x_n]\n",
    "\\end{array}\n",
    "\\right.\n",
    "$$\n",
    "\n",
    "Vsak polinom $f_{i,i+1}$ je definiran s 4 konstantami $a_{i,j}$; skupaj torej moramo izračunati $4n$ konstant $a_{i,j}$.\n"
   ]
  },
  {
   "cell_type": "markdown",
   "metadata": {
    "slideshow": {
     "slide_type": "subslide"
    }
   },
   "source": [
    "**Kako določimo konstante $a_{i,j}$?**\n",
    "\n",
    "Za določitev $4n$ neznak potrebujemo $4n$ enačb. Poglejmo si, kako jih dobimo:\n",
    "\n",
    "* $n$ enačb dobimo iz interpolacijskega pogoja: $$y_i=f_{i,i+1}(x_i),\\quad i=0,1,2,\\dots,n-1$$\n",
    "* 1 enačbo iz zadnje točke: $$y_n=f_{n-1,n}(x_n)$$\n",
    "* $3(n-1)$ enačb dobimo iz pogoja $C^2$zveznosti: \n",
    "\n",
    "$$\n",
    "\\lim_{x\\rightarrow x_i^-}f(x)=\\lim_{x\\rightarrow x_i^+}f(x),\n",
    "$$\n",
    "\n",
    "$$\n",
    "\\lim_{x\\rightarrow x_i^-}f'(x)=\\lim_{x\\rightarrow x_i^+}f'(x)\n",
    "$$\n",
    "\n",
    "in\n",
    "\n",
    "$$\n",
    "\\lim_{x\\rightarrow x_i^-}f''(x)=\\lim_{x\\rightarrow x_i^+}f''(x).\n",
    "$$"
   ]
  },
  {
   "cell_type": "markdown",
   "metadata": {
    "slideshow": {
     "slide_type": "subslide"
    }
   },
   "source": [
    "Skupaj imamo definiranih $4n-2$ enačbi, manjkata torej še dve! \n",
    "\n",
    "Različni tipi zlepkov se ločijo po tem, kako ti dve enačbi določimo. V nadaljevanju si bomo pogledali *naravne kubične zlepke*."
   ]
  },
  {
   "cell_type": "markdown",
   "metadata": {
    "slideshow": {
     "slide_type": "subslide"
    }
   },
   "source": [
    "### Naravni kubični zlepki"
   ]
  },
  {
   "cell_type": "markdown",
   "metadata": {},
   "source": [
    "*Naravni kubični zlepki* temeljijo na ideji Eulerjevega nosilca:\n",
    "\n",
    "$$\n",
    "E\\,I\\,\\frac{\\textrm{d}^4y}{\\textrm{d}x^4}=q(x),\n",
    "$$\n",
    "\n",
    "kjer je $E$ elastični modul, $I$ drugi moment preseka in $q(x)$ zunanja porazdeljena sila. Ker zunanje porazdeljene sile ni ($q(x)=0$), velja:\n",
    "\n",
    "$$\n",
    "E\\,I\\,\\frac{\\textrm{d}^4y}{\\textrm{d}x^4}=0.\n",
    "$$\n",
    "\n",
    "Sledi, da lahko v vsaki točki tanek nosilec popišemo s polinomom tretje stopnje. "
   ]
  },
  {
   "cell_type": "markdown",
   "metadata": {
    "slideshow": {
     "slide_type": "subslide"
    }
   },
   "source": [
    "$C^2$ zveznost je zagotovljena v kolikor so vmesne podpore nosilca členki (moment zato nima nezvezne spremembe).\n",
    "\n",
    "Manjkajoči 2 neznanki pri naravnih kubičnih zlepkih določimo iz pogoja, da je moment na koncih enak nič (členkasto vpetje):\n",
    "\n",
    "$$\n",
    "f''(x_{0})=0\\qquad\\textrm{in}\\qquad f''(x_{n})=0\n",
    "$$\n",
    "\n",
    "Izpeljava je natančneje prikazana v knjigi Kiusalaas J: Numerical Methods in Engineering with Python 3, 2013, stran 120 (glejte tudi J. Petrišič: Interpolacija, Fakulteta za strojništvo, 1999); podrobna izpeljava presega namen te knjige. "
   ]
  },
  {
   "cell_type": "markdown",
   "metadata": {
    "slideshow": {
     "slide_type": "subslide"
    }
   },
   "source": [
    "Tukaj si bomo pogledali samo končni rezultat, ki ga lahko izpeljemo ob zgornjih pogojih. V primeru ekvidistantne delitve $h=x_{i+1}-x_i$ tako izpeljemo sistem enačb ($i=1,\\dots,n-1$):\n",
    "\n",
    "$$\n",
    "k_{i-1} + 4 k_{i} + k_{i+1}  =  \\frac{6}{h^2} \\left(y_{i-1} -2 y_{i} +y_{i+1} \\right).\n",
    "$$\n",
    "\n",
    "kjer je neznanka $k_i$ drugi odvod odsekovne funkcije $k_i = f''_{i,i+1}(x_i)$.\n",
    "\n",
    "Rešljiv sistem enačb dobimo, če dodamo še robna pogoja za naravne kubične zlepke:\n",
    "\n",
    "$$\n",
    "k_0=k_n=0.\n",
    "$$"
   ]
  },
  {
   "cell_type": "markdown",
   "metadata": {
    "slideshow": {
     "slide_type": "subslide"
    }
   },
   "source": [
    "Ko določimo neznake $k_i$, jih uporabimo v odsekoma definirani funkciji:\n",
    "\n",
    "$$\n",
    "f_{i,i+1}(x)=\\frac{k_i}{6}\\left(\\frac{(x-x_{i+1})^3}{h}-(x-x_{i+1})\\,h\\right)\n",
    "-\\frac{k_{i+1}}{6}\\left(\\frac{(x-x_{i})^3}{h}-(x-x_{i})\\,h\\right)\n",
    "+\\frac{y_i\\,(x-x_{i+1})-y_{i+1}\\,(x-x_{i})}{h}.\n",
    "$$"
   ]
  },
  {
   "cell_type": "markdown",
   "metadata": {
    "slideshow": {
     "slide_type": "subslide"
    }
   },
   "source": [
    "### Numerična implementacija"
   ]
  },
  {
   "cell_type": "markdown",
   "metadata": {},
   "source": [
    "Najprej pripravimo funkcijo, katera za podane interpolacijske točke reši sistem linearnih enačb in vrne koeficiente $k_i$:"
   ]
  },
  {
   "cell_type": "code",
   "execution_count": null,
   "metadata": {
    "slideshow": {
     "slide_type": "subslide"
    }
   },
   "outputs": [],
   "source": [
    "def kubicni_zlepki_koeficient(x, y):\n",
    "    \"\"\" Vrne koeficiente kubičnih zlepkov `k`, matriko koeficientov `A` in konstant.\n",
    "    \n",
    "    x in y predstavljata seznam znanih vrednosti; x mora biti ekvidistanten.\n",
    "    \"\"\"\n",
    "    n = len(x)\n",
    "    A = np.zeros((n, n)) # pripravimo matriko koeficientov\n",
    "    h = x[1]-x[0] # korak h\n",
    "    for i in range(n):\n",
    "        if i==0 or i==n-1:\n",
    "            A[i,i] = 1. # k_0 in k_n sta nič zato tukaj damo 1\n",
    "                       # pri vektorju konstant pa bomo dali 0, k_0 in k_n bosta torej 0\n",
    "        else:\n",
    "            A[i, i-1:i+2] = np.asarray([1., 4., 1.])\n",
    "    b = np.zeros(n)\n",
    "    b[1:-1] = (6/h**2)*(y[:-2] - 2*y[1:-1] + y[2:]) # desna stran zgornje enačbe\n",
    "    k = np.linalg.solve(A,b)\n",
    "    return k, A, b"
   ]
  },
  {
   "cell_type": "markdown",
   "metadata": {
    "slideshow": {
     "slide_type": "subslide"
    }
   },
   "source": [
    "Opomba: pri zgornjem linearnem problemu, lahko izračun zelo pohitrimo, če upoštevamo tridiagonalnost matrike koeficientov! (Glejte [odgovor na stackoverflow.com](https://stackoverflow.com/questions/23120164/optimize-ax-b-solution-for-a-tridiagonal-coefficient-matrix))."
   ]
  },
  {
   "cell_type": "markdown",
   "metadata": {
    "slideshow": {
     "slide_type": "subslide"
    }
   },
   "source": [
    "Poglejmo si primer izračuna koeficientov:"
   ]
  },
  {
   "cell_type": "code",
   "execution_count": null,
   "metadata": {
    "slideshow": {
     "slide_type": "-"
    }
   },
   "outputs": [],
   "source": [
    "x = np.asarray([1, 2, 3, 4, 5])\n",
    "y = np.asarray([0, 1, 0, 1, 0])\n",
    "\n",
    "k, A, b = kubicni_zlepki_koeficient(x, y)\n",
    "print('Matrika koeficientov A lin. sistema:\\n', A)\n",
    "print('Vektor konstant b lin. sistema:     ', b)\n",
    "print('Koeficienti k so:', k)"
   ]
  },
  {
   "cell_type": "markdown",
   "metadata": {
    "slideshow": {
     "slide_type": "subslide"
    }
   },
   "source": [
    "Nato potrebujemo še kubični polinom v določenem intervalu; implementirajmo izraz:\n",
    "\n",
    "$$\n",
    "f_{i,i+1}(x)=\\frac{k_i}{6}\\left(\\frac{(x-x_{i+1})^3}{h}-(x-x_{i+1})\\,h\\right)\n",
    "-\\frac{k_{i+1}}{6}\\left(\\frac{(x-x_{i})^3}{h}-(x-x_{i})\\,h\\right)\n",
    "+\\frac{y_i\\,(x-x_{i+1})-y_{i+1}\\,(x-x_{i})}{h}\n",
    "$$"
   ]
  },
  {
   "cell_type": "code",
   "execution_count": null,
   "metadata": {
    "slideshow": {
     "slide_type": "subslide"
    }
   },
   "outputs": [],
   "source": [
    "def kubicni_zlepki(k, x, y, x_najdi):\n",
    "    \"\"\" Vrne kubicni zlepek pri delitvi `xint`.\n",
    "    \n",
    "    :param k: koeficienti kubičnih zlepkov\n",
    "    :param x in y: znane vrednosti, x mora biti ekvidistanten\n",
    "    :param x_najdi: vrednosti kjer želimo izračunati kubični zlepek\n",
    "    \"\"\"  \n",
    "    h = x[0] - x[1]\n",
    "    i = int((x_najdi-x[0])//(-h))\n",
    "    if i >= len(k)-1:\n",
    "        i = len(k)-2\n",
    "    out = ((x_najdi - x[i+1])**3/h - (x_najdi - x[i+1])*h)*k[i]/6.0 \\\n",
    "        - ((x_najdi - x[i])**3/h - (x_najdi - x[i])*h)*k[i+1]/6.0 \\\n",
    "        + (y[i]*(x_najdi - x[i+1]) \\\n",
    "        - y[i+1]*(x_najdi - x[i]))/h\n",
    "    return out"
   ]
  },
  {
   "cell_type": "markdown",
   "metadata": {
    "slideshow": {
     "slide_type": "subslide"
    }
   },
   "source": [
    "Izračunamo interpolirane vrednosti:"
   ]
  },
  {
   "cell_type": "code",
   "execution_count": null,
   "metadata": {},
   "outputs": [],
   "source": [
    "xint = np.linspace(np.min(x), np.max(x), 50)\n",
    "yint = np.asarray([kubicni_zlepki(k, x, y, _) for _ in xint])"
   ]
  },
  {
   "cell_type": "code",
   "execution_count": null,
   "metadata": {
    "slideshow": {
     "slide_type": "subslide"
    }
   },
   "outputs": [],
   "source": [
    "mpl.plot(x, y, 'o', label='Interpolacijske točke')\n",
    "mpl.plot(xint, yint, label='Naravni kubični zlepek')\n",
    "mpl.legend();"
   ]
  },
  {
   "cell_type": "markdown",
   "metadata": {
    "slideshow": {
     "slide_type": "slide"
    }
   },
   "source": [
    "## Nekaj vprašanj za razmislek!"
   ]
  },
  {
   "cell_type": "markdown",
   "metadata": {},
   "source": [
    "\n",
    "1. Preštudirajte Lagrangevo polinomsko interpolacijo in pripravite funkcijo za Lagrangeve polinome. Pojasnite (z grafičnim prikazom) Lagrangeve polinome.\n",
    "2. Definirajte funkcijo za Lagrangevo polinomsko interpolacijo. Na primeru pojasnite, kako deluje.\n",
    "3. Pojasnite teoretično ozadje naravnih kubičnih zlepkov.\n",
    "4. Naravne kubične zlepke smo izpeljali pod pogojem, da momenta na koncu ni; včasih želimo drugačne pogoje na koncih (npr. znani naklon ali znani moment). Modificirajte na predavanjih predstavljeno kodo za primer, da je na koncih moment $\\ne 0$ (predpostavite neko numerično vrednost).\n",
    "5. Podatke:\n",
    "    ```python\n",
    "    x = np.linspace(0, 10, 10)\n",
    "    y = np.random.rand(10)-0.5\n",
    "    ```\n",
    "  interpolirajte z uporabo ``scipy.InterpolatedUnivariateSpline``. Podatke prikažite.\n",
    "6. Za zgoraj definirane podatke preučite pomoč in najdite vse ničle. Prikažite jih na predhodni sliki.\n",
    "7. Za zgoraj definirani zlepek izračunajte prvi odvod in ga prikažite.\n",
    "8. Za zgoraj definirani zlepek izračunajte določeni integral od začetka do konca.\n",
    "9. Za zgoraj definirane podatke z uporabo vgrajenih funkcij prikažite izračun linearnega in kvadratnega zlepka. Prikažite na sliki.\n",
    "10. Preučite pomoč za funkcijo ``scipy.interpolate.lagrange`` in k predhodni sliki dodajte Lagrangev interpolacijski polinom. Komentirajte rezultate.\n",
    "11. Preučite pomoč za funkcijo ``scipy.interpolate.interp1d`` in k predhodni sliki dodajte kvadratni zlepek.\n",
    "12. Preučite pomoč za funkcijo ``scipy.interpolate.BarycentricInterpolator`` in pojasnite ter prikažite njeno prednost.\n",
    "13. Preučite pomoč za funkcijo ``scipy.interpolate.KroghInterpolator`` in pojasnite njeno prednost."
   ]
  },
  {
   "cell_type": "markdown",
   "metadata": {
    "slideshow": {
     "slide_type": "subslide"
    }
   },
   "source": [
    "### Dodatno"
   ]
  },
  {
   "cell_type": "markdown",
   "metadata": {},
   "source": [
    "* 2D interpolacija: https://www.youtube.com/watch?v=_cJLVhdj0j4\n",
    "* Strojno prevajanje: https://pypi.org/project/goslate)"
   ]
  },
  {
   "cell_type": "markdown",
   "metadata": {
    "slideshow": {
     "slide_type": "subslide"
    }
   },
   "source": [
    "### Nekaj komentarjev modula ``scipy.interpolate``"
   ]
  },
  {
   "cell_type": "markdown",
   "metadata": {},
   "source": [
    "SciPy ima implementiranih večje število različnih interpolacij ([glejte dokumentacijo](https://docs.scipy.org/doc/scipy/reference/interpolate.html)). S stališča uporabe se bomo tukaj dotaknili  objektne implementacije `scipy.interpolate.InterpolatedUnivariateSpline` ([dokumentacija](https://docs.scipy.org/doc/scipy/reference/generated/scipy.interpolate.InterpolatedUnivariateSpline.html)) (starejši pristop temelji na funkcijskem programiranju, glejte  [dokumentacijo](https://docs.scipy.org/doc/scipy/reference/generated/scipy.interpolate.splrep.html) `scipy.interpolate.splrep`):"
   ]
  },
  {
   "cell_type": "markdown",
   "metadata": {},
   "source": [
    "```python\n",
    "InterpolatedUnivariateSpline(x, y, w=None, bbox=[None, None], k=3, ext=0, check_finite=False)\n",
    "```\n",
    "\n",
    "Pri inicializaciji objekta `InterpolatedUnivariateSpline` moramo posredovati interpolacijske točke `x` in `y`. Argument `k` s privzeto vrednostjo `k=3` definira red intepolacijskega zlepka (`1<=k<=5`). Pomemben opcijski parameter je tudi `w`, ki definira uteži posameznim interpolacijskim točkam (uporabimo ga, če želimo določenim področjem dati večji poudarek)."
   ]
  },
  {
   "cell_type": "code",
   "execution_count": null,
   "metadata": {
    "slideshow": {
     "slide_type": "subslide"
    }
   },
   "outputs": [],
   "source": [
    "from scipy.interpolate import InterpolatedUnivariateSpline"
   ]
  },
  {
   "cell_type": "code",
   "execution_count": null,
   "metadata": {
    "slideshow": {
     "slide_type": "subslide"
    }
   },
   "outputs": [],
   "source": [
    "spl = InterpolatedUnivariateSpline(x, y, k=3) # poglejte opcije!\n",
    "mpl.plot(x, y, 'o', label='Interpolacijske točke')\n",
    "mpl.plot(xint, spl(xint), label='Kubični zlepek');\n",
    "mpl.plot(spl.get_knots(), spl(spl.get_knots()), 'r.', label='Vozli B-zlepkov')\n",
    "mpl.plot(xint, yint, label='Naravni kubični zlepki - lastna koda');\n",
    "mpl.legend();"
   ]
  },
  {
   "cell_type": "markdown",
   "metadata": {
    "slideshow": {
     "slide_type": "subslide"
    }
   },
   "source": [
    "Ker gre za B-zlepke, je rezultat drugačen kot tisti, ki smo ga izpeljali z naravnimi kubičnimi zlepki. V nasprotju z naravnimi kubičnimi zlepki, ki imajo vozle (angl. *knots*) v interpolacijskih točkah, se vozli B-zlepkov prilagodijo podatkom. V konkretnem primeru so vozli v točkah:"
   ]
  },
  {
   "cell_type": "code",
   "execution_count": null,
   "metadata": {},
   "outputs": [],
   "source": [
    "spl.get_knots()"
   ]
  },
  {
   "cell_type": "markdown",
   "metadata": {
    "slideshow": {
     "slide_type": "subslide"
    }
   },
   "source": [
    "### Odvajanje, integriranje ... zlepkov"
   ]
  },
  {
   "cell_type": "markdown",
   "metadata": {},
   "source": [
    "Zlepke lahko odvajamo in integriramo, saj so polinomi. Objekt ``InterpolatedUnivariateSpline`` je tako že pripravljen za odvajanje, integriranje, iskanje korenov (ničel), vozlov ... (glejte [dokumentacijo](https://docs.scipy.org/doc/scipy/reference/generated/scipy.interpolate.InterpolatedUnivariateSpline.html)).\n",
    "\n",
    "Za prvi odvod zlepka v objektu `spl` na primer uporabimo metodo ``spl.derivative(1)``, ki vrne nov objekt zlepka (njen red je sedaj za 1 nižji):"
   ]
  },
  {
   "cell_type": "code",
   "execution_count": null,
   "metadata": {
    "slideshow": {
     "slide_type": "subslide"
    }
   },
   "outputs": [],
   "source": [
    "spl1 = spl.derivative(1)\n",
    "#spl2 = spl.derivative(2)\n",
    "#spl3 = spl.derivative(3)\n",
    "mpl.plot(xint, spl(xint), lw=3, label='Zlepek')\n",
    "mpl.plot(xint, spl1(xint), label='Prvi odvod')\n",
    "#mpl.plot(xint, spl2(xint), label='Drugi odvod')\n",
    "#mpl.plot(xint, spl3(xint), label='Tretji odvod')\n",
    "mpl.plot(x, y, 'ro', label='Znane vrednosti')\n",
    "#mpl.plot(spl.get_knots(), spl(spl.get_knots()), 'k.', label='Vozli B-zlepka')\n",
    "mpl.legend(loc=(1.01, 0));"
   ]
  }
 ],
 "metadata": {
  "anaconda-cloud": {},
  "celltoolbar": "Slideshow",
  "kernelspec": {
   "display_name": "Python 3 (ipykernel)",
   "language": "python",
   "name": "python3"
  },
  "language_info": {
   "codemirror_mode": {
    "name": "ipython",
    "version": 3
   },
   "file_extension": ".py",
   "mimetype": "text/x-python",
   "name": "python",
   "nbconvert_exporter": "python",
   "pygments_lexer": "ipython3",
   "version": "3.11.9"
  },
  "latex_envs": {
   "bibliofile": "biblio.bib",
   "cite_by": "apalike",
   "current_citInitial": 1,
   "eqLabelWithNumbers": true,
   "eqNumInitial": 0
  },
  "livereveal": {
   "theme": "sky",
   "transition": "default",
   "width": 1200
  },
  "nav_menu": {},
  "toc": {
   "base_numbering": 1,
   "nav_menu": {
    "height": "299px",
    "width": "252px"
   },
   "number_sections": true,
   "sideBar": true,
   "skip_h1_title": false,
   "title_cell": "Kazalo",
   "title_sidebar": "Kazalo",
   "toc_cell": false,
   "toc_position": {},
   "toc_section_display": false,
   "toc_window_display": false
  }
 },
 "nbformat": 4,
 "nbformat_minor": 4
}
