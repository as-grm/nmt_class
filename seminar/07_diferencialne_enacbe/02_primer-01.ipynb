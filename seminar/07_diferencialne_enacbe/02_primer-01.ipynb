{
 "cells": [
  {
   "cell_type": "markdown",
   "id": "e8eb0d54-92f7-45ea-8190-c64098269f49",
   "metadata": {},
   "source": [
    "# Numerične metode v tehniki\n",
    "## Diferencialne enačbe - 2. del - BVP\n",
    "\n",
    "- **avtor**: A.S. Grm\n",
    "- **date**: 22/11/2023\n",
    "- **primer**: 01\n",
    "\n",
    "<hr>"
   ]
  },
  {
   "cell_type": "markdown",
   "id": "a73fc6e5-7942-4b49-b66f-5bc11fae0f48",
   "metadata": {},
   "source": [
    "## Robni problem (linearni 2. stopnje)\n",
    "\n",
    "S pomočjo RK metode 2. reda reši linearni robni problem\n",
    "\n",
    "\\begin{align}\n",
    "    (1 + x^2)y'' + 2xy' - x^2y & = 1,\\\\\n",
    "       y(-1) & = 0,\\\\\n",
    "       y(1) & = 0,\n",
    "\\end{align}\n",
    "\n",
    "z uporabo **metode kombinacije dveh začetnih problemov**.\n",
    "\n",
    "<hr>"
   ]
  },
  {
   "cell_type": "markdown",
   "id": "b708a1d0-d843-4a32-9d28-5a2e8c902e74",
   "metadata": {},
   "source": [
    "Problem, ki ga rešujemo je NDE 2. stopnje, ki jo je najprej potrebno pretvoriti v sistem 1. reda\n",
    "\n",
    "\\begin{align}\n",
    "    y' & = p,\\\\\n",
    "    p' & = \\frac{-2xy' + x^2y + 1}{1 + x^2}, \\\\[2mm]\n",
    "    y(-1) & = 0,\\\\\n",
    "    p(-1) & = \\{\\xi_1, \\xi_2\\},\n",
    "\\end{align}\n",
    "\n",
    "Vrednosti za $\\xi_i$ je potrebno poiskati na podlagi poiskusa, da bo\n",
    "\n",
    "- $y(1)$ > 0: za $\\xi_1$\n",
    "- $y(1)$ < 0: za $\\xi_2$\n",
    "\n",
    "Nato lahko določimo vrednost parametra za konveksno kombinacijo \n",
    "\n",
    "$$\\lambda = \\frac{y(1) - y_2(1)}{y_1(1) - y_2(1)}$$\n",
    "\n",
    "in je rešitev podana kot \n",
    "\n",
    "$$y = \\lambda y_1 + (1-\\lambda)y_2$$"
   ]
  },
  {
   "cell_type": "code",
   "execution_count": null,
   "id": "239ad874-f7d0-48f0-be46-f4ad759afd79",
   "metadata": {},
   "outputs": [],
   "source": [
    "import math as mat\n",
    "import numpy as np\n",
    "import matplotlib.pyplot as mpl\n",
    "\n",
    "# MatPlotLib set fonts\n",
    "mpl.rcParams['font.family'] = 'serif'\n",
    "mpl.rcParams['font.serif'] = ['DejaVu Serif']\n",
    "\n",
    "# MatPlotLib set LaTeX use\n",
    "mpl.rcParams['text.usetex'] = True\n",
    "mpl.rcParams['text.latex.preamble'] = r'\\usepackage{siunitx}'"
   ]
  },
  {
   "cell_type": "code",
   "execution_count": null,
   "id": "23f319cb-3c93-48f1-838a-7bb5ea433207",
   "metadata": {},
   "outputs": [],
   "source": [
    "# zapiši funkcijo odvoda v obliki python funkcije\n",
    "def dydx(x,y):\n",
    "\n",
    "    yp = np.zeros(2) #odvodi\n",
    "    yp[0] = y[1]\n",
    "    yp[1] = (-2*x*y[1] + x**2*y[0] + 1)/(1 + x**2)\n",
    "    \n",
    "    return yp\n",
    "\n",
    "# zapišimo člen RK metode 2. reda\n",
    "def rk2(x,y,h):\n",
    "    T2 = dydx(x + h/2,y + h/2*dydx(x,y))\n",
    "    return T2"
   ]
  },
  {
   "cell_type": "code",
   "execution_count": null,
   "id": "61c7770c-f52e-4c61-b807-5649ddb9cb52",
   "metadata": {},
   "outputs": [],
   "source": [
    "def solveIVP(xs, xe, N, y0, p0):\n",
    "\n",
    "    # korak\n",
    "    h = (xe - x0)/N\n",
    "\n",
    "    # rezerviramo prostor za vektorje\n",
    "    x = np.zeros(N+1)\n",
    "    y = np.zeros(N+1)\n",
    "    p = np.zeros(N+1)\n",
    "\n",
    "    # postavimo začetne vrednosti\n",
    "    x[0] = x0 # x točke\n",
    "    y[0] = y0 # y točke\n",
    "    p[0] = p0 # odvodi y točke\n",
    "    \n",
    "    # izvedemo izračun v obliki zanke\n",
    "    for i in range(N):\n",
    "        # postavimo začetne vrednosti\n",
    "        x_i = x0 + i*h\n",
    "        y_old = [y[i],p[i]]\n",
    "    \n",
    "        # izračunamo y v novi točki\n",
    "        y_new = y_old + h*rk2(x_i, y_old,h)\n",
    "    \n",
    "        # zapišemo rezultate v vektor\n",
    "        x[i+1] = x0 + (i+1)*h\n",
    "        y[i+1] = y_new[0]\n",
    "        p[i+1] = y_new[1]\n",
    "\n",
    "    return [x,y]"
   ]
  },
  {
   "cell_type": "code",
   "execution_count": null,
   "id": "bc5cffb1-dd9c-47e7-b8c9-c98db92f702d",
   "metadata": {},
   "outputs": [],
   "source": [
    "# Glavni program\n",
    "N = 1000\n",
    "x0 = -1\n",
    "xe = 1\n",
    "y0 = 0 # leva roba vrednost, y(x0)\n",
    "ye = 0 # desna robna vrednost, y (xe)\n",
    "\n",
    "xi1 = -0.3 # izbira odvoda 1\n",
    "xi2 = -0.7 # izbira odvoda 2\n",
    "\n",
    "# reši začetni problem\n",
    "[x,y1] = solveIVP(x0, xe, N, y0, xi1)\n",
    "[x,y2] = solveIVP(x0, xe, N, y0, xi2)"
   ]
  },
  {
   "cell_type": "code",
   "execution_count": null,
   "id": "97667552-b158-4b55-a01e-4854df05a749",
   "metadata": {},
   "outputs": [],
   "source": [
    "fig, ax = mpl.subplots()\n",
    "fig.suptitle(r'RK2 metoda -- Linearni robni problem ($N={:d}$)'.format(N)) # Figure title\n",
    "\n",
    "ax.plot(x,y1, 'g', label=r'$\\xi_1={:.2f}$'.format(xi1))\n",
    "ax.plot(x,y2, 'r', label=r'$\\xi_2={:.2f}$'.format(xi2))\n",
    "ax.set_xlabel(r'$x_i$')\n",
    "ax.set_ylabel(r'$y_i$')\n",
    "ax.grid()\n",
    "ax.legend()\n",
    "\n",
    "fig.tight_layout()"
   ]
  },
  {
   "cell_type": "markdown",
   "id": "6115d705-d437-4e48-ab79-acb830d8752c",
   "metadata": {},
   "source": [
    "## Določitev koeficienta konveksne kombinacije\n",
    "\n",
    "$$\\lambda = \\frac{y(1) - y_2(1)}{y_1(1) - y_2(1)}$$\n",
    "\n",
    "in je rešitev podana kot \n",
    "\n",
    "$$y = \\lambda y_1 + (1-\\lambda)y_2$$"
   ]
  },
  {
   "cell_type": "code",
   "execution_count": null,
   "id": "811de3c8-719e-4f55-8af6-9d7de77e9d38",
   "metadata": {},
   "outputs": [],
   "source": [
    "# določitev koeficienta\n",
    "la = (ye - y2[-1])/(y1[-1] - y2[-1])\n",
    "print('lambda:', la)\n",
    "\n",
    "# rešitev problema\n",
    "y = la*y1 + (1-la)*y2\n",
    "\n",
    "# ocena odvoda v točki x=h/2\n",
    "dydx1 = (y1[0] - y1[1])/(x[0] - x[1])\n",
    "dydx2 = (y2[0] - y2[1])/(x[0] - x[1])\n",
    "\n",
    "print('y\\'(h/2) =', la*dydx1 + (1-la)*dydx2)"
   ]
  },
  {
   "cell_type": "code",
   "execution_count": null,
   "id": "091eb13f-17f9-40e7-826e-16036eb08f54",
   "metadata": {},
   "outputs": [],
   "source": [
    "fig, ax = mpl.subplots()\n",
    "fig.suptitle(r'RK2 metoda -- Linearni robni problem ($N={:d}$)'.format(N)) # Figure title\n",
    "\n",
    "ax.plot(x,y1, 'b', label=r'$\\xi_1={:.2f}$'.format(xi1))\n",
    "ax.plot(x,y2, 'g', label=r'$\\xi_2={:.2f}$'.format(xi2))\n",
    "ax.plot(x,y, 'r', label=r'$\\lambda={:.5f}$'.format(la))\n",
    "ax.set_xlabel(r'$x_i$')\n",
    "ax.set_ylabel(r'$y_i$')\n",
    "ax.grid()\n",
    "ax.legend()\n",
    "\n",
    "fig.tight_layout()\n",
    "fig.savefig('02_primer-01.pdf')"
   ]
  }
 ],
 "metadata": {
  "kernelspec": {
   "display_name": "Python 3 (ipykernel)",
   "language": "python",
   "name": "python3"
  },
  "language_info": {
   "codemirror_mode": {
    "name": "ipython",
    "version": 3
   },
   "file_extension": ".py",
   "mimetype": "text/x-python",
   "name": "python",
   "nbconvert_exporter": "python",
   "pygments_lexer": "ipython3",
   "version": "3.11.6"
  }
 },
 "nbformat": 4,
 "nbformat_minor": 5
}
