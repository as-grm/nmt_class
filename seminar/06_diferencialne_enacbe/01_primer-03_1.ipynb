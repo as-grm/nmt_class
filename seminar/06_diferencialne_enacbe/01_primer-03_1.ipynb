{
 "cells": [
  {
   "cell_type": "markdown",
   "id": "cfd93f61-21b3-4ba6-89c7-929340fbbd3f",
   "metadata": {},
   "source": [
    "# Numerične metode v tehniki - Diferencialne enačbe - IVP\n",
    "\n",
    "- **avtor**: A.S. Grm\n",
    "- **date**: 18/11/2023\n",
    "- **primer**: 03/1\n",
    "\n",
    "<hr>"
   ]
  },
  {
   "cell_type": "markdown",
   "id": "a334e6cd-f508-4d88-920a-2fa2e300b191",
   "metadata": {},
   "source": [
    "## NDE višjega reda - Sistem NDE 1.reda - Eulerjeva metoda\n",
    "\n",
    "S pomočjo Eulerjeve metode reši primer gibanja planetov\n",
    "\n",
    "\\begin{align}\n",
    "    y'_1 & = y_2,\\\\\n",
    "    y'_2 & = -\\kappa \\frac{y_1}{(y_1^2 + y_3^2)^{3/2}},\\\\\n",
    "    y'_3 & = y_4,\\\\\n",
    "    y'_4 & = -\\kappa \\frac{y_3}{(y_1^2 + y_3^2)^{3/2}},\n",
    "\\end{align}\n",
    "\n",
    "z začetnimi pogoji\n",
    "\n",
    "\\begin{align}\n",
    "    y_1(x_0) & = y_{10}, \\\\\n",
    "    y_2(x_0) & = y_{20}, \\\\\n",
    "    y_3(x_0) & = y_{30}, \\\\\n",
    "    y_4(x_0) & = y_{40}.\n",
    "\\end{align}\n",
    "\n",
    "**PAZI**\n",
    "\n",
    "Sedaj je preslikava med koordinatami \n",
    "\n",
    "$y_1 = x, ~y_2 = v_x, ~ y_3 = y, ~ y_4 = v_y$"
   ]
  },
  {
   "cell_type": "code",
   "execution_count": null,
   "id": "c1c332fa-8835-4509-b665-655739796fef",
   "metadata": {},
   "outputs": [],
   "source": [
    "import math as mat\n",
    "import numpy as np\n",
    "import matplotlib.pyplot as mpl\n",
    "\n",
    "# MatPlotLib set fonts\n",
    "mpl.rcParams['font.family'] = 'serif'\n",
    "mpl.rcParams['font.serif'] = ['DejaVu Serif']\n",
    "\n",
    "# MatPlotLib set LaTeX use\n",
    "mpl.rcParams['text.usetex'] = True\n",
    "mpl.rcParams['text.latex.preamble'] = r'\\usepackage{siunitx}'"
   ]
  },
  {
   "cell_type": "code",
   "execution_count": null,
   "id": "5116e98e-8070-490e-9d0c-1e050e08abf2",
   "metadata": {},
   "outputs": [],
   "source": [
    "# Pazi v Pythonu se indeksi pričnejo z 0!\n",
    "# Funkcija vrne podatke za 1. odvode\n",
    "def func(y,k):\n",
    "    dydx = np.zeros(4) # 1. odvodi\n",
    "    dydx[0] = y[1]\n",
    "    dydx[1] = -k*y[0]/(y[0]**2 + y[2]**2)**(3/2)\n",
    "    dydx[2] = y[3]\n",
    "    dydx[3] = -k*y[2]/(y[0]**2 + y[2]**2)**(3/2)\n",
    "\n",
    "    return dydx"
   ]
  },
  {
   "cell_type": "code",
   "execution_count": null,
   "id": "6fa30f2a-4e05-4b69-97cb-5ba52fa268d2",
   "metadata": {},
   "outputs": [],
   "source": [
    "# Določi novo točko po Eulerjevi metodi\n",
    "def euler(y_old, h, k):\n",
    "\n",
    "    y_new = y_old + h * func(y_old,k)\n",
    "\n",
    "    return y_new"
   ]
  },
  {
   "cell_type": "code",
   "execution_count": null,
   "id": "f9cfd3e4-b1e3-44d1-9128-e925097a22b9",
   "metadata": {},
   "outputs": [],
   "source": [
    "# Glavni program\n",
    "\n",
    "N = 200 # delitev časovnega intervala\n",
    "t0 = 0; te = 200 # časovni interval\n",
    "x0 = 1; y0 = 0 # začetna točka\n",
    "vx0 = 0; vy0 = 0.15 # začetna hitrost\n",
    "k = 0.015  # konstanta sistema\n",
    "\n",
    "# korak\n",
    "h = (te - t0)/N\n",
    "\n",
    "# rezerviramo prostor za vektorje\n",
    "x = np.zeros(N+1)\n",
    "vx = np.zeros(N+1)\n",
    "y = np.zeros(N+1)\n",
    "vy = np.zeros(N+1)\n",
    "\n",
    "# postavimo začetne vrednosti\n",
    "x[0] = x0\n",
    "vx[0] = vx0\n",
    "y[0] = y0\n",
    "vy[0] = vy0\n",
    "\n",
    "# inicializiramo sistem\n",
    "vec_y_old = np.zeros(4)\n",
    "vec_y_new = np.array([x0,vx0,y0,vy0])\n",
    "\n",
    "# izvedemo izračun v obliki zanke\n",
    "for i in range(N):\n",
    "    # postavimo začetne vrednosti\n",
    "    vec_y_old = vec_y_new\n",
    "\n",
    "    # izračunamo y v novi točki\n",
    "    vec_y_new = euler(vec_y_old,h,k)\n",
    "\n",
    "    # zapišemo rezultate v vektor\n",
    "    x[i+1] = vec_y_new[0]\n",
    "    vx[i+1] = vec_y_new[1]\n",
    "    y[i+1] = vec_y_new[2]\n",
    "    vy[i+1] = vec_y_new[3]"
   ]
  },
  {
   "cell_type": "code",
   "execution_count": null,
   "id": "f068bf90-8f2a-45b7-ac75-46b62919f70a",
   "metadata": {},
   "outputs": [],
   "source": [
    "fig, ax = mpl.subplots()\n",
    "fig.suptitle(r'Eulerjeva metoda -- Primer: gibanje planetov') # Figure title\n",
    "\n",
    "ax.plot(x,y, 'g')\n",
    "#ax.quiver(x,y,vx,vy, width=0.004)\n",
    "#ax.plot(x,y, 'r', marker='', markersize=0.001)\n",
    "ax.add_patch(mpl.Circle([0,0], radius=0.05, color='red'))\n",
    "ax.set_xlabel(r'$x$')\n",
    "ax.set_ylabel(r'$y$')\n",
    "ax.grid()\n",
    "ax.set_aspect('equal')\n",
    "\n",
    "fig.tight_layout()\n",
    "fig.savefig('01_primer-03_1.pdf')"
   ]
  }
 ],
 "metadata": {
  "kernelspec": {
   "display_name": "Python 3 (ipykernel)",
   "language": "python",
   "name": "python3"
  },
  "language_info": {
   "codemirror_mode": {
    "name": "ipython",
    "version": 3
   },
   "file_extension": ".py",
   "mimetype": "text/x-python",
   "name": "python",
   "nbconvert_exporter": "python",
   "pygments_lexer": "ipython3",
   "version": "3.11.6"
  }
 },
 "nbformat": 4,
 "nbformat_minor": 5
}
