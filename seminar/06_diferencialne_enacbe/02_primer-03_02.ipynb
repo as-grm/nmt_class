{
 "cells": [
  {
   "cell_type": "markdown",
   "id": "e8eb0d54-92f7-45ea-8190-c64098269f49",
   "metadata": {},
   "source": [
    "# Numerične metode v tehniki\n",
    "## Diferencialne enačbe - 2. del - BVP\n",
    "\n",
    "- **avtor**: A.S. Grm\n",
    "- **date**: 22/11/2023\n",
    "- **primer**: 03-2\n",
    "\n",
    "<hr>"
   ]
  },
  {
   "cell_type": "markdown",
   "id": "a73fc6e5-7942-4b49-b66f-5bc11fae0f48",
   "metadata": {},
   "source": [
    "## Robni problem (ne-linearni 2. stopnje)\n",
    "\n",
    "S pomočjo **metode končnih diferenc** reši ne-linearni robni problem\n",
    "\n",
    "\\begin{align}\n",
    "    (2 - x^2)y'' - 2 x y' + \\sin x \\: y^2 & = x^2,\\\\\n",
    "       y(-1) & = 1,\\\\\n",
    "       y(1) & = -1.\n",
    "\\end{align}\n",
    "\n",
    "<hr>"
   ]
  },
  {
   "cell_type": "markdown",
   "id": "b708a1d0-d843-4a32-9d28-5a2e8c902e74",
   "metadata": {},
   "source": [
    "V zgornji enačbi nadomestitimo prvi in drugi odvod s končnimi diferencami\n",
    "\n",
    " $$(2-x_i^2) \\frac{y_{i+1} - 2 y_i + y_{i-1}}{h^2} - 2x_i \\frac{y_{i+1} - y_i}{2 h} + \\sin x_i \\: y_i^2 = x_i^2$$\n",
    "\t\n",
    "Rešujemo sistem nelinearnih enačb $F(x,y_{i-1},y_i,y_{i+1}) = 0$ ($i=1,\\dots,N$), s funkcijo\n",
    "\t\n",
    "$$F(x_i,y_{i-1},y_i,y_{i+1}) = (2-x_i^2) \\frac{y_{i+1} - 2 y_i + y_{i-1}}{h^2} - 2x_i \\frac{y_{i+1} - y_i}{2 h} + \\sin x_i \\: y_i^2 - x_i^2,$$\n",
    "\t\n",
    "kjer je upoštevan robni pogoj $y(-1) = y_0 = 1$ in $y(1) = y_{N+1} = -1$."
   ]
  },
  {
   "cell_type": "code",
   "execution_count": null,
   "id": "239ad874-f7d0-48f0-be46-f4ad759afd79",
   "metadata": {},
   "outputs": [],
   "source": [
    "import sys\n",
    "import math as mat\n",
    "import numpy as np\n",
    "import matplotlib.pyplot as mpl\n",
    "import scipy.optimize as spo\n",
    "\n",
    "# MatPlotLib set fonts\n",
    "mpl.rcParams['font.family'] = 'serif'\n",
    "mpl.rcParams['font.serif'] = ['DejaVu Serif']\n",
    "\n",
    "# MatPlotLib set LaTeX use\n",
    "mpl.rcParams['text.usetex'] = True\n",
    "mpl.rcParams['text.latex.preamble'] = r'\\usepackage{siunitx}'"
   ]
  },
  {
   "cell_type": "code",
   "execution_count": null,
   "id": "23f319cb-3c93-48f1-838a-7bb5ea433207",
   "metadata": {},
   "outputs": [],
   "source": [
    "# Poiščemo vredost funkcije F=F(x,y)\n",
    "def func(y, x, ys, ye, h, N):\n",
    "    \n",
    "    F = np.zeros(N) # optimizacijska funkcija\n",
    "\n",
    "    F[0] = fF(x[0],h,ys,y[0],y[1])\n",
    "    \n",
    "    for i in range(1,N-1):\n",
    "        F[i] = fF(x[i],h,y[i-1],y[i],y[i+1])\n",
    "\n",
    "    F[N-1] = fF(x[N-1],h,y[N-2],y[N-1],ye)\n",
    "    return F\n",
    "\n",
    "def fF(x,h,y1,y2,y3):\n",
    "\n",
    "    f = (2 - x**2) * (y3 - 2*y2 + y1)/(h**2) - 2*x * (y3 - y2)/(2*h) + np.sin(x)*y2**2 - x**2\n",
    "\n",
    "    return f"
   ]
  },
  {
   "cell_type": "code",
   "execution_count": null,
   "id": "61c7770c-f52e-4c61-b807-5649ddb9cb52",
   "metadata": {},
   "outputs": [],
   "source": [
    "def solveBVP(xs, ys, xe, ye, N):\n",
    "\n",
    "    # korak\n",
    "    h = (xe - xs)/N\n",
    "    k = (ye - ys)/(xe - xs)\n",
    "\n",
    "    # rezerviramo prostor za vektorje\n",
    "    x = np.zeros(N+1)\n",
    "    y = np.zeros(N+1)\n",
    "\n",
    "    # postavimo začetne vrednosti\n",
    "    for i in range(N+1):\n",
    "        x[i] = xs + i*h     # vmesne točke x_i\n",
    "        y[i] = ys + k*(i*h) # inicializacija y_i\n",
    "\n",
    "    # vmesne točke in vmesne vrednosti, ki jih iščemo\n",
    "    x0 = x[1:N]\n",
    "    y0 = y[1:N]\n",
    "    nn = x0.size\n",
    "    \n",
    "    [sol,ds,cc,msg] = spo.fsolve(func,y0, args=(x0,ys,ye,h,nn), full_output=True)\n",
    "\n",
    "    if cc == 1:\n",
    "        print('Number of function calls:', ds['nfev'])\n",
    "        print('norm(F):', np.linalg.norm(ds['fvec']))\n",
    "        y[1:N] = sol\n",
    "        return [x,y]\n",
    "    else:\n",
    "        print('ERROR:', msg)\n",
    "        sys.exit()"
   ]
  },
  {
   "cell_type": "code",
   "execution_count": null,
   "id": "bc5cffb1-dd9c-47e7-b8c9-c98db92f702d",
   "metadata": {},
   "outputs": [],
   "source": [
    "# Glavni program\n",
    "N = 200\n",
    "x0 = -1\n",
    "xe = 1\n",
    "y0 = 0 # leva roba vrednost, y(x0)\n",
    "ye = 0 # desna robna vrednost, y (xe)\n",
    "\n",
    "# reši začetni problem\n",
    "[x,y] = solveBVP(x0, y0, xe, ye, N)\n",
    "\n",
    "dydx = (y[1] - y[0])/(x[1] - x[0])\n",
    "print('approx y\\'=', dydx)"
   ]
  },
  {
   "cell_type": "code",
   "execution_count": null,
   "id": "97667552-b158-4b55-a01e-4854df05a749",
   "metadata": {},
   "outputs": [],
   "source": [
    "fig, ax = mpl.subplots()\n",
    "fig.suptitle(r'MKD metoda -- Ne-Linearni robni problem ($N={:d}$)'.format(N)) # Figure title\n",
    "\n",
    "ax.plot(x,y)\n",
    "ax.set_xlabel(r'$x_i$')\n",
    "ax.set_ylabel(r'$y_i$')\n",
    "ax.grid()\n",
    "\n",
    "fig.tight_layout()\n",
    "fig.savefig('02_primer-03-2.pdf')"
   ]
  }
 ],
 "metadata": {
  "kernelspec": {
   "display_name": "Python 3 (ipykernel)",
   "language": "python",
   "name": "python3"
  },
  "language_info": {
   "codemirror_mode": {
    "name": "ipython",
    "version": 3
   },
   "file_extension": ".py",
   "mimetype": "text/x-python",
   "name": "python",
   "nbconvert_exporter": "python",
   "pygments_lexer": "ipython3",
   "version": "3.11.6"
  }
 },
 "nbformat": 4,
 "nbformat_minor": 5
}
