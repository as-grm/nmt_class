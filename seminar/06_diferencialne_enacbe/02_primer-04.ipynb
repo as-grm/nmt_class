{
 "cells": [
  {
   "cell_type": "markdown",
   "id": "e8eb0d54-92f7-45ea-8190-c64098269f49",
   "metadata": {},
   "source": [
    "# Numerične metode v tehniki\n",
    "## Diferencialne enačbe - 2.del - BVP\n",
    "\n",
    "- **avtor**: A.S. Grm\n",
    "- **date**: 22/11/2023\n",
    "- **primer**: 02\n",
    "\n",
    "<hr>"
   ]
  },
  {
   "cell_type": "markdown",
   "id": "a73fc6e5-7942-4b49-b66f-5bc11fae0f48",
   "metadata": {},
   "source": [
    "## Robni problem (ne-linearni 2. stopnje)\n",
    "\n",
    "S pomočjo RK metode 2. reda reši linearni robni problem\n",
    "\n",
    "\\begin{align}\n",
    "    (1 + x^2)y'' + 2xy' - x^2y & = 1,\\\\\n",
    "       y(-1) & = 0,\\\\\n",
    "       y(1) & = 0,\n",
    "\\end{align}\n",
    "\n",
    "z uporabo **metode končnih diferenc**.\n",
    "\n",
    "<hr>"
   ]
  },
  {
   "cell_type": "code",
   "execution_count": null,
   "id": "239ad874-f7d0-48f0-be46-f4ad759afd79",
   "metadata": {},
   "outputs": [],
   "source": [
    "import math as mat\n",
    "import numpy as np\n",
    "import matplotlib.pyplot as mpl\n",
    "\n",
    "# MatPlotLib set fonts\n",
    "mpl.rcParams['font.family'] = 'serif'\n",
    "mpl.rcParams['font.serif'] = ['DejaVu Serif']\n",
    "\n",
    "# MatPlotLib set LaTeX use\n",
    "mpl.rcParams['text.usetex'] = True\n",
    "mpl.rcParams['text.latex.preamble'] = r'\\usepackage{siunitx}'"
   ]
  },
  {
   "cell_type": "code",
   "execution_count": null,
   "id": "23f319cb-3c93-48f1-838a-7bb5ea433207",
   "metadata": {},
   "outputs": [],
   "source": [
    "# zapiši funkcijo odvoda v obliki python funkcije\n",
    "def getSystem(x,h,ya,yb):\n",
    "\n",
    "    N = x.size\n",
    "    A = np.zeros((N,N), dtype=np.double)\n",
    "    b = np.zeros(N, dtype=np.double)\n",
    "\n",
    "    [p,q,r] = getPQR(x[0])\n",
    "    A[0,0] = -2/h**2 + p/(2*h) - q\n",
    "    A[0,1] = 1/h**2 - p/(2*h)\n",
    "    b[0] = r - ya/h**2\n",
    "    \n",
    "    for i in range(1,N-1):\n",
    "        [p,q,r] = getPQR(x[i])\n",
    "        A[i,i-1] = 1/h**2\n",
    "        A[i,i] = -2/h**2 + p/(2*h) - q\n",
    "        A[i,i+1] = 1/h**2 - p/(2*h)\n",
    "        b[i] = r\n",
    "        \n",
    "    [p,q,r] = getPQR(x[-1])\n",
    "    A[N-1,N-2] = 1/h**2\n",
    "    A[N-1,N-1] = -2/h**2 + p/(2*h) - q\n",
    "    b[N-1] = r - yb*(1/h**2 - p/(2*h))\n",
    "\n",
    "    return [A,b]\n",
    "\n",
    "# zapišimo člen RK metode 2. reda\n",
    "def getPQR(x):\n",
    "    dn = 1/(1 + x**2)\n",
    "    p = -2*x * dn\n",
    "    q = x**2 *dn\n",
    "    r = dn\n",
    "    \n",
    "    return [p,q,r]"
   ]
  },
  {
   "cell_type": "code",
   "execution_count": null,
   "id": "61c7770c-f52e-4c61-b807-5649ddb9cb52",
   "metadata": {},
   "outputs": [],
   "source": [
    "def solveBVP(xs, xe, N, ya, yb):\n",
    "\n",
    "    nn = N-1\n",
    "    # korak\n",
    "    h = (xe - x0)/N\n",
    "    \n",
    "    # nafilamo vektor x, z vemesnimi točkami\n",
    "    x = np.zeros(nn)\n",
    "    for i in range(N-1):\n",
    "        x[i] = xs + (i+1)*h\n",
    "\n",
    "    # naloži matriko A in vektor b, po metodi končnih diferenc\n",
    "    [A,b] = getSystem(x,h,ya,yb)\n",
    "\n",
    "    # rešimo sistem linearnih enačb in dobimo rešitev v vmesnih točkah\n",
    "    y = np.linalg.solve(A,b)\n",
    "\n",
    "    #Popravimo še x in y, kjer dodamo začetno in končno točko\n",
    "    xn = np.append(np.insert(x,0,xs),xe)\n",
    "    yn = np.append(np.insert(y,0,ya),yb)\n",
    "    \n",
    "    return [xn,yn]"
   ]
  },
  {
   "cell_type": "code",
   "execution_count": null,
   "id": "bc5cffb1-dd9c-47e7-b8c9-c98db92f702d",
   "metadata": {},
   "outputs": [],
   "source": [
    "# Glavni program\n",
    "N = 1000\n",
    "x0 = -1\n",
    "xe = 1\n",
    "y0 = 0 # leva roba vrednost, y(x0)\n",
    "ye = 0 # desna robna vrednost, y (xe)\n",
    "\n",
    "[x,y] = solveBVP(x0,xe,N,y0,ye)"
   ]
  },
  {
   "cell_type": "code",
   "execution_count": null,
   "id": "97667552-b158-4b55-a01e-4854df05a749",
   "metadata": {},
   "outputs": [],
   "source": [
    "fig, ax = mpl.subplots()\n",
    "fig.suptitle(r'Metoda končnih diferenc -- Linearni robni problem ($N={:d}$)'.format(N)) # Figure title\n",
    "\n",
    "ax.plot(x,y)\n",
    "ax.set_xlabel(r'$x_i$')\n",
    "ax.set_ylabel(r'$y_i$')\n",
    "ax.grid()\n",
    "\n",
    "fig.tight_layout()\n",
    "fig.savefig('02_primer-02.pdf')\n",
    "\n",
    "dydx0 = (y[1] - y[0])/(x[1] - x[0])\n",
    "print('y\\'(h/2) =', dydx0)"
   ]
  }
 ],
 "metadata": {
  "kernelspec": {
   "display_name": "Python 3 (ipykernel)",
   "language": "python",
   "name": "python3"
  },
  "language_info": {
   "codemirror_mode": {
    "name": "ipython",
    "version": 3
   },
   "file_extension": ".py",
   "mimetype": "text/x-python",
   "name": "python",
   "nbconvert_exporter": "python",
   "pygments_lexer": "ipython3",
   "version": "3.11.6"
  }
 },
 "nbformat": 4,
 "nbformat_minor": 5
}
