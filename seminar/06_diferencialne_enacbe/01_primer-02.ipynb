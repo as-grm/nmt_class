{
 "cells": [
  {
   "cell_type": "markdown",
   "id": "e8eb0d54-92f7-45ea-8190-c64098269f49",
   "metadata": {},
   "source": [
    "# Numerične metode v tehniki\n",
    "## Diferencialne enačbe - 1.del - IVP\n",
    "\n",
    "- **avtor**: A.S. Grm\n",
    "- **date**: 14/11/2023\n",
    "- **primer**: 02\n",
    "\n",
    "<hr>"
   ]
  },
  {
   "cell_type": "markdown",
   "id": "a73fc6e5-7942-4b49-b66f-5bc11fae0f48",
   "metadata": {},
   "source": [
    "## RK metoda 2. reda\n",
    "\n",
    "S pomočjo RK metode 2. reda reši primer\n",
    "\n",
    "\\begin{align}\n",
    "    y' -y & = 1 - x^2,\\\\\n",
    "       & x \\in [x_0,x_e], ~~~ x_0 = 0, x_e = \\{2,4\\}\\\\\n",
    "       & y_0 = 0.5\n",
    "\\end{align}\n",
    "\n",
    "Točna rešitev zgornjega IVP je\n",
    "\n",
    "$$y = x^2 + 2 x - \\frac{1}{2} e^x + 1$$\n",
    "\n"
   ]
  },
  {
   "cell_type": "code",
   "execution_count": null,
   "id": "239ad874-f7d0-48f0-be46-f4ad759afd79",
   "metadata": {},
   "outputs": [],
   "source": [
    "import math as mat\n",
    "import numpy as np\n",
    "import matplotlib.pyplot as mpl\n",
    "\n",
    "# MatPlotLib set fonts\n",
    "mpl.rcParams['font.family'] = 'serif'\n",
    "mpl.rcParams['font.serif'] = ['DejaVu Serif']\n",
    "\n",
    "# MatPlotLib set LaTeX use\n",
    "mpl.rcParams['text.usetex'] = True\n",
    "mpl.rcParams['text.latex.preamble'] = r'\\usepackage{siunitx}'"
   ]
  },
  {
   "cell_type": "code",
   "execution_count": null,
   "id": "23f319cb-3c93-48f1-838a-7bb5ea433207",
   "metadata": {},
   "outputs": [],
   "source": [
    "# zapiši funkcijo odvoda v obliki python funkcije\n",
    "def dydx(x,y):\n",
    "    return y - x**2 + 1\n",
    "\n",
    "# zapišimo člen RK metode 2. reda\n",
    "def rk2(x,y,h):\n",
    "    T2 = dydx(x + h/2,y + h/2*dydx(x,y))\n",
    "    return T2"
   ]
  },
  {
   "cell_type": "code",
   "execution_count": null,
   "id": "99cccece-c2d4-4c8e-835a-72ec1e8a1c9b",
   "metadata": {},
   "outputs": [],
   "source": [
    "# pridobi vsak n-ti element iz vektorja\n",
    "def get_nth(x,n):\n",
    "    if n == 0:\n",
    "        return x\n",
    "        \n",
    "    v = x[0:-1:n]\n",
    "    nn = v.size\n",
    "    y = np.zeros(nn+1)\n",
    "    y[0:nn] = v\n",
    "    y[-1] = x[-1]\n",
    "    return y"
   ]
  },
  {
   "cell_type": "code",
   "execution_count": null,
   "id": "c274ac70-5161-442d-b311-addca375ffa7",
   "metadata": {},
   "outputs": [],
   "source": [
    "def analytical(x):\n",
    "    y = x**2 + 2*x - 1/2*np.exp(x) + 1\n",
    "    return y"
   ]
  },
  {
   "cell_type": "markdown",
   "id": "b6569570-778a-438a-81a3-1be362ecaecd",
   "metadata": {},
   "source": [
    "Izvedi glavni program za \n",
    "\n",
    "- $x_e=2$, $N=10$ \n",
    "- $x_e=4$, $N=10,20,40,80$"
   ]
  },
  {
   "cell_type": "code",
   "execution_count": null,
   "id": "bc5cffb1-dd9c-47e7-b8c9-c98db92f702d",
   "metadata": {},
   "outputs": [],
   "source": [
    "# Glavni program\n",
    "N = 10\n",
    "x0 = 0\n",
    "xe = 2\n",
    "y0 = 0.5\n",
    "\n",
    "# analitična rešitev\n",
    "xa = np.linspace(x0,xe,100)\n",
    "ya = analytical(xa)\n",
    "\n",
    "# korak\n",
    "h = (xe - x0)/N\n",
    "\n",
    "# rezerviramo prostor za vektorje\n",
    "x = np.zeros(N+1)\n",
    "y = np.zeros(N+1)\n",
    "\n",
    "# postavimo začetne vrednosti\n",
    "x[0] = x0\n",
    "y[0] = y0\n",
    "\n",
    "# izvedemo izračun v obliki zanke\n",
    "for i in range(N):\n",
    "    # postavimo začetne vrednosti\n",
    "    x_i = x0 + i*h\n",
    "    y_old = y[i]\n",
    "\n",
    "    # izračunamo y v novi točki\n",
    "    y_new = y_old + h*rk2(x_i, y_old,h)\n",
    "\n",
    "    # zapišemo rezultate v vektor\n",
    "    x[i+1] = x0 + (i+1)*h\n",
    "    y[i+1] = y_new\n",
    "\n",
    "print('zadnja vrednost y({:d})={:.5f}'.format(N,y[N]))"
   ]
  },
  {
   "cell_type": "code",
   "execution_count": null,
   "id": "97667552-b158-4b55-a01e-4854df05a749",
   "metadata": {},
   "outputs": [],
   "source": [
    "fig, ax = mpl.subplots()\n",
    "fig.suptitle(r'Eulerjeva metoda -- Primer: $dy/dx = y - x^2 +1 $, $y_0=0.5$') # Figure title\n",
    "\n",
    "ax.plot(xa,ya, 'b', label='exact')\n",
    "ax.plot(x,y, 'g', label='implicite')\n",
    "ax.plot(x,y, '.r')\n",
    "ax.set_xlabel(r'$x_i$')\n",
    "ax.set_ylabel(r'$y_i$')\n",
    "ax.grid()\n",
    "\n",
    "fig.tight_layout()\n",
    "fig.savefig('01_primer-02.pdf')"
   ]
  },
  {
   "cell_type": "markdown",
   "id": "6115d705-d437-4e48-ab79-acb830d8752c",
   "metadata": {},
   "source": [
    "## Določitev napake metode"
   ]
  },
  {
   "cell_type": "code",
   "execution_count": null,
   "id": "811de3c8-719e-4f55-8af6-9d7de77e9d38",
   "metadata": {},
   "outputs": [],
   "source": [
    "# izvedemo izračun v obliki zanke\n",
    "Nv = np.array([10,20,40,80])\n",
    "sNv = Nv.size\n",
    "hv = np.zeros(Nv.size)\n",
    "\n",
    "# inicializiramo vektorje za shranjevanje delnih rezultatov\n",
    "xv = []\n",
    "yv = []\n",
    "\n",
    "for j in range(Nv.size):\n",
    "    # inicializiramo stanje integracije\n",
    "    h = (xe - x0)/Nv[j]\n",
    "    hv[j] = h\n",
    "    \n",
    "    # rezerviramo prostor za zapis rezultatov\n",
    "    x = np.zeros(Nv[j]+1)\n",
    "    y = np.zeros(Nv[j]+1)\n",
    "    y[0] = y0\n",
    "\n",
    "    # izvedemo izračun\n",
    "    for i in range(Nv[j]):\n",
    "        # postavimo začetne vrednosti\n",
    "        x_i = x0 + i*h\n",
    "        y_old = y[i]\n",
    "    \n",
    "        # izračunamo y v novi točki\n",
    "        y_new = y_old + h*rk2(x_i, y_old, h)\n",
    "    \n",
    "        # zapišemo rezultate v vektor\n",
    "        x[i+1] = x0 + (i+1)*h\n",
    "        y[i+1] = y_new\n",
    "\n",
    "    xv.append(x)\n",
    "    yv.append(y)\n",
    "\n",
    "xa = xv[0]\n",
    "ya = analytical(xa)\n",
    "xv.append(xa)\n",
    "yv.append(ya)"
   ]
  },
  {
   "cell_type": "code",
   "execution_count": null,
   "id": "570fc0cc-95bc-4d58-a3ac-cba9659707bd",
   "metadata": {},
   "outputs": [],
   "source": [
    "# napako določimo kot povprečno na celem intervalu\n",
    "errv = []\n",
    "for i in range(4):\n",
    "    if i == 0:\n",
    "        k = 0\n",
    "    else:\n",
    "        k = 2**i\n",
    "        \n",
    "    errv.append(np.mean(np.abs(yv[-1] - get_nth(yv[i],k))))"
   ]
  },
  {
   "cell_type": "code",
   "execution_count": null,
   "id": "35381f89-d06f-4bd5-b458-dcee92827b31",
   "metadata": {},
   "outputs": [],
   "source": [
    "fig, ax = mpl.subplots()\n",
    "fig.suptitle(r'Eulers method -- Error ($\\Delta y_i = yi - y_{i+1}$)') # Figure title\n",
    "\n",
    "ax.plot(hv,errv, '-g')\n",
    "ax.plot(hv,errv, '.r')\n",
    "\n",
    "ax.set_xscale('log')\n",
    "ax.set_yscale('log')\n",
    "\n",
    "ax.set_xlabel(r'step size $h$')\n",
    "ax.set_ylabel(r'error $\\Delta y$')\n",
    "ax.grid()\n",
    "\n",
    "fig.tight_layout()\n",
    "fig.savefig('01_primer-02_error.pdf')"
   ]
  },
  {
   "cell_type": "code",
   "execution_count": null,
   "id": "b5a63305-aeeb-48af-9382-34e3b9db471c",
   "metadata": {},
   "outputs": [],
   "source": [
    "# izračunam razlike v rešitvah v istih točkah, ki pomenijo napako\n",
    "err = []\n",
    "for i in range(4):\n",
    "    if i == 0:\n",
    "        k = 0\n",
    "    else:\n",
    "        k = 2**i\n",
    "        \n",
    "    err.append(yv[-1] - get_nth(yv[i],k))\n",
    "    #err.append(np.divide(yv[-1] - get_nth(yv[i],k)),yv[-1]))"
   ]
  },
  {
   "cell_type": "code",
   "execution_count": null,
   "id": "4653750f-e858-4bbb-884c-bb783934eae5",
   "metadata": {},
   "outputs": [],
   "source": [
    "fig, ax = mpl.subplots()\n",
    "fig.suptitle(r'Eulers method -- Error ($\\Delta y_i = yi - y_{i+1}$)') # Figure title\n",
    "\n",
    "for i in range(Nv.size):\n",
    "    ax.plot(xv[0],err[i], label='{:d}'.format(Nv[i]))\n",
    "\n",
    "ax.set_xscale('log')\n",
    "ax.set_yscale('log')\n",
    "\n",
    "ax.set_xlabel(r'$x_i$')\n",
    "ax.set_ylabel(r'error')\n",
    "ax.legend()\n",
    "ax.grid()"
   ]
  }
 ],
 "metadata": {
  "kernelspec": {
   "display_name": "Python 3 (ipykernel)",
   "language": "python",
   "name": "python3"
  },
  "language_info": {
   "codemirror_mode": {
    "name": "ipython",
    "version": 3
   },
   "file_extension": ".py",
   "mimetype": "text/x-python",
   "name": "python",
   "nbconvert_exporter": "python",
   "pygments_lexer": "ipython3",
   "version": "3.11.6"
  }
 },
 "nbformat": 4,
 "nbformat_minor": 5
}
