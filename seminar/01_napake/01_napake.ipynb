{
 "cells": [
  {
   "cell_type": "markdown",
   "id": "a23b043b-7013-4fcb-901f-af5b73c53185",
   "metadata": {},
   "source": [
    "# Numerične metode v tehniki"
   ]
  },
  {
   "cell_type": "markdown",
   "id": "6f4713b8-b307-4f12-ba71-e4bf7ba2e536",
   "metadata": {},
   "source": [
    "**Datum**: 07/10/2024\n",
    "\n",
    "**Avtor**: Aleksander Grm"
   ]
  },
  {
   "cell_type": "markdown",
   "id": "d4b0f37f-e1df-4ad7-808d-fa9042f78c43",
   "metadata": {},
   "source": [
    "## Uvod v numerične metode"
   ]
  },
  {
   "cell_type": "markdown",
   "id": "0099ca03-a394-439f-9bce-890a892124d1",
   "metadata": {},
   "source": [
    "Kadar želimo simulirati izbrani fizikalni proces, ponavadi postopamo takole:\n",
    "\n",
    "1. postavimo matematični model*,\n",
    "1. izberemo numerično metodo in njene parametre,\n",
    "1. pripravimo program (pomagamo si z vgrajenimi funkcijami),\n",
    "1. izvedemo izračun, rezultate analiziramo in vrednotimo.\n",
    "\n",
    "\\* Če lahko matematični model rešimo analitično, numerično reševanje ni potrebno.\n",
    "\n",
    "<br>\n",
    "\n",
    "Matematični model poskušamo rešiti analitično, saj taka rešitev ni obremenjena z napakami. Iz tega razloga se v okviru matematike učimo reševanja sistema enačb, integriranja, odvajanja in podobno. Bistvo **numeričnih metod** je, da matematične modele rešujemo **numerično**, torej na podlagi **diskretnih vrednosti**. Kakor bomo spoznali pozneje, nam numerični pristop v primerjavi z analitičnim omogoča reševanje bistveno obsežnejših in kompleksnejših problemov."
   ]
  },
  {
   "cell_type": "markdown",
   "id": "0eac2031-1d83-4688-a98b-0f928b077799",
   "metadata": {},
   "source": [
    "## Napake pri numeričnem računanju"
   ]
  },
  {
   "cell_type": "markdown",
   "id": "44292bef-bdd1-4f91-9b3a-ef50d933ae5f",
   "metadata": {},
   "source": [
    "### Zaokrožitvena napaka \n",
    "\n",
    "V nadaljevanju si bomo pogledali nekatere omejitve in izzive numeričnega pristopa. Prva omejitev je, da so v računalniku realne vrednosti vedno zapisane s končno natančnostjo. V Pythonu se števila pogosto zapišejo v dvojni natančnosti s približno 15 signifikantnimi števkami. \n",
    "\n",
    "Število z dvojno natančnostjo se v Pythonu imenuje **float64** in je zapisano v spomin v binarni obliki v 64 bitih (11 bitov eksponent in 53 bitov mantisa (1 bit za predznak)). Ker je mantisa definirana na podlagi 52 binarnih števk, se lahko pojavi pri njegovem zapisu *relativna napaka* največ $\\epsilon\\approx2.2\\cdot 10^{-16}$. Ta napaka se imenuje **osnovna zaokrožitvena napaka** in se lahko pojavi pri vsakem vmesnem\n",
    "izračunu!\n",
    "\n",
    "Če je korakov veliko, lahko napaka zelo naraste in zato je pomembno, da je njen vpliv na rezultat čim manjši!\n",
    "\n",
    "Spodaj je primer podrobnejših informacij za tip podatkov z dvojno natančnostjo (`float`); pri tem si pomagamo z vgrajenim modulom `sys` za klic parametrov in funkcij python sistema ([dokumentacija](https://docs.python.org/3/library/sys.html)):"
   ]
  },
  {
   "cell_type": "code",
   "execution_count": null,
   "id": "c15b70f7-b427-433f-a322-c635bdedd328",
   "metadata": {},
   "outputs": [],
   "source": [
    "import sys\n",
    "sys.float_info.epsilon\n",
    "1e16+2\n",
    "#sys.float_info #preverite tudi širši izpis!"
   ]
  },
  {
   "cell_type": "markdown",
   "id": "d6556257-8713-481e-963f-96c6b14d3d59",
   "metadata": {},
   "source": [
    "Poleg števila z dvojno natančnostjo se uporabljajo drugi tipi podatkov; dober pregled različnih tipov je prikazan v okviru [numpy](https://docs.scipy.org/doc/numpy-1.10.1/user/basics.types.html) in [python](https://docs.python.org/3/library/stdtypes.html) dokumentacije.\n",
    "\n",
    "Tukaj si poglejmo primer tipa `int8`, kar pomeni celo število zapisano z 8 biti (8 bit = 1 byte). Z njim lahko v dvojiškem sistemu zapišemo cela števila od -128 do +127:"
   ]
  },
  {
   "cell_type": "code",
   "execution_count": null,
   "id": "760832fb-1ec7-42e9-96cf-49087d3c9a1d",
   "metadata": {},
   "outputs": [],
   "source": [
    "import numpy as np\n",
    "število = np.int8(1) # poskušite še števila: -128 in nato 127, 128, 129. Kaj se dogaja?\n",
    "f'Število {število} tipa {type(število)} zapisano v binari obliki:{število:8b}'"
   ]
  },
  {
   "cell_type": "markdown",
   "id": "ad9743e1-ae49-4b31-8f74-3bc94064b803",
   "metadata": {},
   "source": [
    "### Napaka metode\n",
    "\n",
    "Poleg zaokrožitvene napake pa se pogosto srečamo tudi z **napako metode** ali **metodično napako**, ki jo naredimo takrat, ko natančen analitični postopek reševanja matematičnega modela zamenjamo s približnim numeričnim.\n",
    "\n",
    "Pomembna lastnost numeričnih algoritmov je **stabilnost**. To pomeni, da majhna sprememba vhodnih podatkov povzroči majhno spremembo rezultatov. Če se ob majhni spremembi na vhodu rezultati zelo spremenijo, pravimo, da je **algoritem nestabilen**. V praksi torej uporabljamo stabilne algoritme; bomo pa pozneje spoznali, da je stabilnost lahko pogojena tudi z vhodnimi podatki!\n",
    "\n",
    "Poznamo pa tudi nestabilnost matematičnega modela/naloge/enačbe; v tem primeru govorimo o **slabi pogojenosti**.\n",
    "\n",
    "Med izvajanjem numeričnega izračuna se napake lahko širijo. Posledično je rezultat operacije manj natančen (ima manj zanesljivih števk), kakor pa je zanesljivost podatkov izračuna.\n",
    "\n",
    "Poglejmo si sedaj splošen pristop k oceni napake. Točno vrednost označimo z $r$, približek z $a_1$; velja $r=a_1+e_1$, kjer je $e_1$ napaka. Če z numeričnim algoritmom  izračunamo bistveno boljši približek $a_2$, velja $r=a_2+e_2$. \n",
    "\n",
    "Ker velja $a_1+e_1=a_2+e_2$, lahko ob predpostavki $\\left|e_1\\right|>>\\left|e_2\\right|$ in $\\left|e_2\\right|\\approx 0$ izpeljemo $a_2-a_1=e_1-e_2\\approx e_1$.\n",
    "\n",
    "$\\left|a_1-a_2\\right|$ je torej pesimistična ocena absolutne napake,\n",
    "\n",
    "$\\left|\\frac{a_1-a_2}{a_2}\\right|$ pa ocena relativne napake."
   ]
  },
  {
   "cell_type": "markdown",
   "id": "fbc3aa59-8489-47ae-b342-7bd49bac112a",
   "metadata": {},
   "source": [
    "### Primer\n",
    "\n",
    "Obravnavaj približen način izračuna za naslednjo algebraično enačbo\n",
    "\n",
    "$$\n",
    "x^2 + \\varepsilon x - 1 = 0,\n",
    "$$\n",
    "\n",
    "kjer igra parameter $\\varepsilon$ vlogo igre drame v postopku reševanja. Njeno točno rešitev poznamo in je \n",
    "\n",
    "$$\n",
    "x_{1/2} = -\\frac{1}{2} \\varepsilon \\pm \\sqrt{1 + \\frac{1}{4} \\varepsilon^2}\n",
    "$$\n",
    "\n",
    "Tako lahko vsak približen način izračuna primerjamo z znano rešitvijo in ocenimo napako izračuna.\n",
    "\n",
    "<hr>"
   ]
  },
  {
   "cell_type": "markdown",
   "id": "4125aca0-be37-41c5-8239-f65dab40c223",
   "metadata": {},
   "source": [
    "**1. Reševanje z razvojem v vrsto**\n",
    "\n",
    "Za majhne vrednosti parametra $\\varepsilon \\ll 1$, lahko koren razvijemo v vrsto in dobimo razultat, ki je rešljiv z navadnim kalkulatorjem\n",
    "\n",
    "$$\n",
    "\\sqrt{1 + \\frac{1}{4} \\varepsilon^2} \\approx 1 + \\frac{1}{8}\\varepsilon^2 - \\frac{1}{128}\\varepsilon^4 + \\mathcal{O}(\\varepsilon^5)  \n",
    "$$\n",
    "\n",
    "tako je potem rešitev poenostavljena\n",
    "\n",
    "$$\n",
    "x_{1/2} = \n",
    "\\begin{cases}\n",
    "1 - \\frac{1}{2}\\varepsilon + \\frac{1}{8}\\varepsilon^2 - \\frac{1}{128}\\varepsilon^4 + \\mathcal{O}(\\varepsilon^5) \\\\\n",
    "-1 - \\frac{1}{2}\\varepsilon - \\frac{1}{8}\\varepsilon^2 + \\frac{1}{128}\\varepsilon^4 + \\mathcal{O}(\\varepsilon^5)\n",
    "\\end{cases}\n",
    "$$"
   ]
  },
  {
   "cell_type": "code",
   "execution_count": null,
   "id": "dacafe82-02ae-4742-8cd6-ad5876f02b68",
   "metadata": {},
   "outputs": [],
   "source": [
    "import math as mat\n",
    "import numpy as np\n",
    "import matplotlib.pyplot as mpl\n",
    "\n",
    "# MatPlotLib set fonts\n",
    "mpl.rcParams['font.family'] = 'serif'\n",
    "mpl.rcParams['font.serif'] = ['DejaVu Serif']\n",
    "\n",
    "# MatPlotLib set LaTeX use\n",
    "mpl.rcParams['text.usetex'] = True\n",
    "mpl.rcParams['text.latex.preamble'] = r'\\usepackage{siunitx}'"
   ]
  },
  {
   "cell_type": "code",
   "execution_count": null,
   "id": "d20e22be-0289-489f-8534-84a392c65d36",
   "metadata": {},
   "outputs": [],
   "source": [
    "def func_series(e):\n",
    "    x1 = 1 - e/2 + e**2/8 - e**4/128\n",
    "    x2 = -1 - e/2 - e**2/8 + e**4/128\n",
    "\n",
    "    return [x1,x2]"
   ]
  },
  {
   "cell_type": "code",
   "execution_count": null,
   "id": "a1f962ac-73bf-45f7-af46-a724524c8a23",
   "metadata": {},
   "outputs": [],
   "source": [
    "eps = np.linspace(0.1, 2, 30)\n",
    "\n",
    "result = []\n",
    "for ei in eps:\n",
    "    sq = mat.sqrt(1 + ei**2/4)\n",
    "    xe1 = -0.5*ei + sq\n",
    "    xe2 = -0.5*ei - sq\n",
    "    [x1, x2] = func_series(ei)\n",
    "    result.append([[x1,xe1],[x2,xe2]])\n",
    "\n",
    "result = np.array(result)"
   ]
  },
  {
   "cell_type": "code",
   "execution_count": null,
   "id": "16fc5362-97eb-4064-a4bc-a41cfedee273",
   "metadata": {},
   "outputs": [],
   "source": [
    "x1 = result[:,0] # prvi del rešitve\n",
    "x2 = result[:,1] # drugi del rešitve"
   ]
  },
  {
   "cell_type": "code",
   "execution_count": null,
   "id": "6e722efe-3a2c-42db-8443-3588536d239b",
   "metadata": {},
   "outputs": [],
   "source": [
    "fig, ax = mpl.subplots(3)\n",
    "fig.suptitle(r'Napaka pri izračunu - razvoj v vrsto') # Figure title\n",
    "\n",
    "ax[0].plot(eps,x1[:,0],'g', label='točna')\n",
    "ax[0].plot(eps,x1[:,1],'r', label='vrsta')\n",
    "ax[1].plot(eps,np.abs(x1[:,0] - x1[:,1]))\n",
    "ax[2].plot(eps,np.abs((x1[:,0] - x1[:,1])/x1[:,0]))\n",
    "\n",
    "ax[0].set_xticklabels([])\n",
    "ax[0].set_ylabel(r'rešitev')\n",
    "ax[0].legend()\n",
    "ax[0].grid()\n",
    "\n",
    "ax[1].set_xticklabels([])\n",
    "ax[1].set_ylabel(r'abs. napaka')\n",
    "ax[1].grid()\n",
    "\n",
    "ax[2].set_xlabel(r'$\\varepsilon$')\n",
    "ax[2].set_ylabel(r'rel. napaka')\n",
    "ax[2].grid()\n",
    "\n",
    "fig.tight_layout()\n",
    "fig.savefig('sol_x1.pdf')"
   ]
  },
  {
   "cell_type": "code",
   "execution_count": null,
   "id": "07c9ae5b-7486-4f37-89cd-5f1c66ee8bc7",
   "metadata": {},
   "outputs": [],
   "source": [
    "fig, ax = mpl.subplots(3)\n",
    "fig.suptitle(r'Napaka pri izračunu - razvoj v vrsto') # Figure title\n",
    "\n",
    "ax[0].plot(eps,x2[:,0],'g', label='točna')\n",
    "ax[0].plot(eps,x2[:,1],'r', label='vrsta')\n",
    "ax[1].plot(eps,np.abs(x2[:,0] - x2[:,1]))\n",
    "ax[2].plot(eps,np.abs((x2[:,0] - x2[:,1])/x2[:,0]))\n",
    "\n",
    "ax[0].set_xticklabels([])\n",
    "ax[0].set_ylabel(r'rešitev')\n",
    "ax[0].legend()\n",
    "ax[0].grid()\n",
    "\n",
    "ax[1].set_xticklabels([])\n",
    "ax[1].set_ylabel(r'abs. napaka')\n",
    "ax[1].grid()\n",
    "\n",
    "ax[2].set_xlabel(r'$\\varepsilon$')\n",
    "ax[2].set_ylabel(r'rel. napaka')\n",
    "ax[2].grid()\n",
    "\n",
    "fig.tight_layout()\n",
    "fig.savefig('sol_x2.pdf')"
   ]
  },
  {
   "cell_type": "markdown",
   "id": "1c7bb5c7-cdf0-4cb0-ad2b-7a9cdbac2980",
   "metadata": {},
   "source": [
    "<hr>\n",
    "\n",
    "**2. Računanje z iterativno metodo**\n",
    "\n",
    "Začetno enačbo $x^2 + \\varepsilon x - 1 = 0$ nekoliko predrugačimo, da bo uporabna za izračun s pomočjo iterativne metode\n",
    "\n",
    "$$\n",
    "    x = \\pm \\sqrt{1 - \\varepsilon x}.\n",
    "$$\n",
    "\n",
    "Vsaka rešitev te enačbe, je tako rešitev začetne enačbe in obratno!\n",
    "\n",
    "Če sedaj uporabimo iterativni postopek, kjer seveda potrebujemo začetni približek rešitve, imamo tako rekurzivno enačbo, ki jo rešujemo\n",
    "\n",
    "$$\n",
    "    x_{n+1} = \\pm \\sqrt{1 - \\varepsilon x_{n}}.\n",
    "$$\n",
    "\n",
    "Vzemimo samo pozitivno vejo in enako kakor prej, korenov ne znamo izračunat in si pomagamo z izračunom, ki ni natančen ampak približen. Enako je tudi tukaj potrebno oceniti napako.\n",
    "\n",
    "Zgornjo enačbo razvijemo v vrsto\n",
    "\n",
    "$$\n",
    "    x_{n+1} = \\sqrt{1 - \\varepsilon x_{n}} \\approx 1 - \\frac{1}{2} \\varepsilon x_{n}.\n",
    "$$\n",
    "\n",
    "Pri nekem $\\varepsilon$ pričnemo z reševanjem, kjer lahko pričnemo z iterativnim postopkom za $x_0 = 1$ ($\\varepsilon = 0$)."
   ]
  },
  {
   "cell_type": "code",
   "execution_count": null,
   "id": "f9c07d2f-8423-4816-98cd-e4bcf28661e2",
   "metadata": {},
   "outputs": [],
   "source": [
    "x_old = 1\n",
    "err = 1e-8\n",
    "e_par = np.linspace(0.1,1.5,100)\n",
    "\n",
    "data = []\n",
    "for ei in e_par:\n",
    "    xe = -0.5*ei + mat.sqrt(1 + ei**2/4)\n",
    "    sol = []\n",
    "    idx = 0\n",
    "    x_old = 1\n",
    "    x = 1 - 0.5*ei*x_old\n",
    "    \n",
    "    while np.abs(x_old - x) > err:\n",
    "        x_old = x\n",
    "        x = 1 - 0.5*ei*x_old\n",
    "        sol.append([idx, x])\n",
    "        idx += 1\n",
    "\n",
    "    data.append([ei, xe, np.array(sol)])"
   ]
  },
  {
   "cell_type": "code",
   "execution_count": null,
   "id": "dd13653a-6213-4498-8eda-57df859f083a",
   "metadata": {},
   "outputs": [],
   "source": [
    "fig, ax = mpl.subplots()\n",
    "fig.suptitle(r'Iterativna metoda ($\\varepsilon = {:.2f}$)'.format(ei)) # Figure title\n",
    "\n",
    "ax.plot(data[0][2][:,0],data[0][2][:,1])\n",
    "        \n",
    "ax.set_xlabel('$n$ - iterativni korak')\n",
    "ax.set_ylabel(r'$x_n$ - rešitev')\n",
    "ax.grid()\n",
    "ax.autoscale_view()\n",
    "\n",
    "fig.tight_layout()\n",
    "fig.savefig('sol_iteracija.pdf')"
   ]
  },
  {
   "cell_type": "code",
   "execution_count": null,
   "id": "c91b713f-97c3-4801-9366-3984aec393ac",
   "metadata": {},
   "outputs": [],
   "source": [
    "error = []\n",
    "for d in data:\n",
    "    error.append([d[0], d[2][-1,0], np.abs(d[1] - d[2][-1,1])])\n",
    "error = np.array(error)"
   ]
  },
  {
   "cell_type": "code",
   "execution_count": null,
   "id": "d7d25c1e-c72d-4de7-afca-b83cf45f1916",
   "metadata": {},
   "outputs": [],
   "source": [
    "fig, ax = mpl.subplots(2)\n",
    "fig.suptitle(r'Iterativna metoda - napaka'.format(ei)) # Figure title\n",
    "\n",
    "ax[0].plot(error[:,0],error[:,2])\n",
    "ax[1].plot(error[:,0],error[:,1])\n",
    "\n",
    "ax[0].set_xticklabels([])\n",
    "ax[0].set_ylabel(r'napaka')\n",
    "ax[0].grid()\n",
    "\n",
    "ax[1].set_xlabel(r'$\\varepsilon$')\n",
    "ax[1].set_ylabel(r'$n$ korakov')\n",
    "ax[1].grid()\n",
    "\n",
    "fig.tight_layout()\n",
    "fig.savefig('err_iteracija.pdf')"
   ]
  },
  {
   "cell_type": "code",
   "execution_count": null,
   "id": "9f594879-5aa3-4ac0-af4a-134e68c19a38",
   "metadata": {},
   "outputs": [],
   "source": []
  }
 ],
 "metadata": {
  "kernelspec": {
   "display_name": "Python 3 (ipykernel)",
   "language": "python",
   "name": "python3"
  },
  "language_info": {
   "codemirror_mode": {
    "name": "ipython",
    "version": 3
   },
   "file_extension": ".py",
   "mimetype": "text/x-python",
   "name": "python",
   "nbconvert_exporter": "python",
   "pygments_lexer": "ipython3",
   "version": "3.11.9"
  }
 },
 "nbformat": 4,
 "nbformat_minor": 5
}
