{
 "cells": [
  {
   "cell_type": "markdown",
   "id": "adcc8340-1fbd-428f-9e4d-51acfc73f4a2",
   "metadata": {},
   "source": [
    "# Numerično odvajanje"
   ]
  },
  {
   "cell_type": "markdown",
   "id": "85b1fa07-1d18-4094-8dd6-94331fb50aa6",
   "metadata": {},
   "source": [
    "**Datum**: 10/11/2024\n",
    "\n",
    "**Avtor**: Aleksander Grm\n",
    "\n",
    "V zapiskih so uporabljeni primeri iz OnLine knjige [Numerične metode v ekosistemu Pythona, Janko Slavič](https://jankoslavic.github.io/pynm)\n",
    "\n",
    "<hr>"
   ]
  },
  {
   "cell_type": "markdown",
   "id": "106ef1fe-f230-476b-a55d-d8829cd318d4",
   "metadata": {},
   "source": [
    "Najprej naložimo celoten potreben Python ekosistem"
   ]
  },
  {
   "cell_type": "code",
   "execution_count": null,
   "id": "6c4f3a61-526b-42c0-b582-4b7ee06fc5e6",
   "metadata": {},
   "outputs": [],
   "source": [
    "import numpy as np              # orodja za numeriko\n",
    "import matplotlib.pyplot as mpl # izdelava grafov\n",
    "\n",
    "from IPython.display import YouTubeVideo"
   ]
  },
  {
   "cell_type": "markdown",
   "id": "4e1fd4ea-9c9b-4d64-946f-568c5282637c",
   "metadata": {},
   "source": [
    "## Uvod"
   ]
  },
  {
   "cell_type": "markdown",
   "id": "7600295b-c8f9-4192-91ea-2560cbd85f51",
   "metadata": {},
   "source": [
    "Vsako elementarno funkcijo lahko analitično odvajamo. Definicija odvoda je:\n",
    "\n",
    "$$\n",
    "    f'(x)=\\lim_{\\Delta x \\rightarrow 0}\\frac{f(x+\\Delta x)-f(x)}{\\Delta x}.\n",
    "$$\n",
    "\n",
    "Neposredna uporaba zgornje enačbe vodi v odštevanje zelo podobnih funkcijskih vrednostih ($f(x+\\Delta x)$, $f(x)$), obremenjenih z zaokrožitveno napako, ki jih delimo z majhno vrednostjo $\\Delta x$; posledično ima odvod bistveno manj signifikantnih števk kakor pa funkcijske vrednosti. Numeričnemu odvajanju se izognemo, če imamo to možnost; je pa v nekaterih primerih (npr. reševanje diferencialnih enačb) nepogrešljivo orodje!\n",
    "\n",
    "Pri numeričnem odvajanju imamo dva, v principu različna, pristopa:\n",
    "\n",
    "1. najprej izvedemo **interpolacijo/aproksimacijo**, nato pa na podlagi znanih interpolacijskih/aproksimacijskih funkcij izračunamo odvod (o tej temi smo že govorili pri interpolaciji oz. aproksimaciji) in \n",
    "2. računanje odvoda **neposredno iz vrednosti iz tabele**.\n",
    "\n",
    "V okviru tega poglavja se bomo seznanili s tem, kako numerično izračunamo odvod funkcije $f(x)$; pri tem so vrednosti funkcije $f(x)$ podane tabelarično (pari $x_i$, $y_i$), kakor je prikazano na sliki"
   ]
  },
  {
   "cell_type": "markdown",
   "id": "ad7b1ff2-6aca-4ff7-8852-8b94b9b798cb",
   "metadata": {},
   "source": [
    "<center><img src=\"./fig/odvajanje_tabela.png\" alt=\"drawing\" width=\"400\"/></center>"
   ]
  },
  {
   "cell_type": "markdown",
   "id": "f3de7b97-2d22-48a7-bead-f10955cb4085",
   "metadata": {},
   "source": [
    "Najprej se bomo osredotočili na ekvidistantno, s korakom $h$, razporejene vrednosti $x_i$; vrednosti funkcije pa bodo $y_i=f(x_i)$.\n",
    "\n",
    "Glede na zgornjo definicijo odvoda, bi prvi odvod (za mesto $i$) lahko zapisali:\n",
    "\n",
    "$$\n",
    "    y_i'=\\frac{y_{i+1}-y_{i}}{h},\n",
    "$$\n",
    "kjer je $h=x_{i+1}-x_{i}$. S preoblikovanjem enačbe:\n",
    "\n",
    "$$\n",
    "    y_i'=-\\frac{y_{i}}{h}+\\frac{y_{i+1}}{h},\n",
    "$$\n",
    "\n",
    "lahko tudi rečemo, da za prvi odvod funkcije na mestu $i$, **utežimo** funkcijsko vrednost pri $i$ z $-1/h$ in funkcijsko vrednost pri $i+1$ z $+1/h$."
   ]
  },
  {
   "cell_type": "markdown",
   "id": "fafaacfa-4822-40ef-8441-d6ef0467e89c",
   "metadata": {},
   "source": [
    "## Metoda končnih diferenc"
   ]
  },
  {
   "cell_type": "markdown",
   "id": "7cbadbaa-1306-4fc4-b474-a10b2c7c25d4",
   "metadata": {},
   "source": [
    "Kot uvod v aproksimacijo odvoda s pomočjo končnih diferenc si oglejte spodnji video!"
   ]
  },
  {
   "cell_type": "code",
   "execution_count": null,
   "id": "67c8ace3-7b66-4295-a8cf-83957940c124",
   "metadata": {},
   "outputs": [],
   "source": [
    "from IPython.display import YouTubeVideo\n",
    "YouTubeVideo('YYuGL-VP2BE', width=800, height=300)"
   ]
  },
  {
   "cell_type": "markdown",
   "id": "f1e38ddb-e5fd-4adb-b342-d7fae757146e",
   "metadata": {},
   "source": [
    "Odvod $f'(x)$ lahko aproksimiramo na podlagi razvoja Taylorjeve vrste. To metodo imenujemo **metoda končnih razlik** ali tudi **diferenčna metoda**.\n",
    "\n",
    "Razvijmo **Taylorjevo vrsto naprej** (naprej, zaradi člena $+h$):\n",
    "\n",
    "$$\n",
    "    f{\\left (x + h \\right )} =\\sum_{n=0}^{\\infty}\\frac{h^n}{n!}\\frac{d^n}{dx^n}f(x)= f{\\left (x \\right )} + h\\, f'\\left (x \\right ) + \\underbrace{\\frac{h^2}{2}\\,f''(x)+\\cdots}_{\\mathcal{O}\\left(h^{2}\\right)}\n",
    "$$\n",
    "\n",
    "Člen $\\mathcal{O}\\left(h^{2}\\right)$ označuje napako drugega reda. Če iz enačbe izrazimo prvi odvod:\n",
    "\n",
    "$$\n",
    "    f'{\\left (x \\right )}=\\frac{1}{h}\\left(f{\\left (x + h \\right )} - f{\\left (x \\right )}\\right) - \\underbrace{\\frac{h}{2}\\,f''(x)+\\cdots}_{\\mathcal{O}\\left(h^{1}\\right)}\n",
    "$$\n",
    "\n",
    "Ugotovimo, da lahko ocenimo prvi odvod v točki $x_i$ (to je: $f_o'(x_i)$) na podlagi dveh zaporednih funkcijskih vrednosti:\n",
    "\n",
    "$$\n",
    "    f_o'(x_i)=\\frac{1}{h}\\left(y_{i+1}-y_i\\right)\n",
    "$$\n",
    "\n",
    "in pri tem naredimo **napako metode**, ki je prvega reda $\\mathcal{O}\\left(h^{1}\\right)$. \n",
    "\n",
    "Uporabili smo $y_i=f(x_i)$ (glejte sliko zgoraj).\n",
    "\n",
    "Napaka je:\n",
    "\n",
    "$$\n",
    "    e=-\\frac{h}{2}\\,f''(\\xi),\n",
    "$$\n",
    "\n",
    "kjer je $\\xi$ neznana vrednost na intervalu $[x_i, x_{i+1}]$ in smo zanemarili višje člene.\n",
    "\n",
    "Velja torej izraz:\n",
    "\n",
    "$$\n",
    "    f'(x_i) = f_o'(x_i) + e.\n",
    "$$"
   ]
  },
  {
   "cell_type": "markdown",
   "id": "0246a7f1-7da9-4bd3-844e-431074fa7e14",
   "metadata": {},
   "source": [
    "### Uporaba `SymPy` paketa za simbolično odvajanje"
   ]
  },
  {
   "cell_type": "markdown",
   "id": "a98c0ace-3533-402a-a3a6-279fffbeb66f",
   "metadata": {},
   "source": [
    "Paket `sympy` nam omogoča uporabo algebrajičnega ali simboličnega sistema za izpeljevanje komliciranih matematičnih izrazov. Kaj več o samem paketu [SymPy](https://www.sympy.org) si lahko pogledate v dokumentaciji [SymPy dokumentacija](https://docs.sympy.org/latest/index.html)"
   ]
  },
  {
   "cell_type": "code",
   "execution_count": null,
   "id": "996bf340-b09f-4471-a60d-0f75053ed154",
   "metadata": {},
   "outputs": [],
   "source": [
    "import sympy as sym # naložimo sympy paket\n",
    "sym.init_printing() # postavimo izpis rezultata v pretty način"
   ]
  },
  {
   "cell_type": "code",
   "execution_count": null,
   "id": "4bd8d8e5-a1ce-44a5-94f5-0060c56d235e",
   "metadata": {},
   "outputs": [],
   "source": [
    "# Za algebrajične manipulacije je najprej potrebno definirati finkcije in simbole, ki služijo v izpeljavi\n",
    "\n",
    "f = sym.Function('f')\n",
    "x, h = sym.symbols('x, h')"
   ]
  },
  {
   "cell_type": "code",
   "execution_count": null,
   "id": "d343b08b-6aae-4958-bf26-b524d2cd34db",
   "metadata": {},
   "outputs": [],
   "source": [
    "display(f)"
   ]
  },
  {
   "cell_type": "code",
   "execution_count": null,
   "id": "8b2c4d94-7a1b-4ce9-a6f7-99ce8723ba76",
   "metadata": {},
   "outputs": [],
   "source": [
    "# Nato nadaljujemo z razvojem **Taylorjeve vrste naprej** (angl. *forward Taylor series*)\n",
    "\n",
    "f(x+h).series(h, n=2)"
   ]
  },
  {
   "cell_type": "markdown",
   "id": "62145b2d-b5b4-42ce-bf05-aca7eedd8fae",
   "metadata": {},
   "source": [
    "Člen $\\mathcal{O}\\left(h^{2}\\right)$ vsebuje člene drugega in višjega reda. V zgornji enačbi je uporabljena začasna spremenljivko za odvajanje $\\xi_1$; izvedmo odvajanje in vstavimo $\\xi_1=x$:"
   ]
  },
  {
   "cell_type": "code",
   "execution_count": null,
   "id": "841da9d4-a4d5-4de3-95af-feabb4277356",
   "metadata": {},
   "outputs": [],
   "source": [
    "f(x+h).series(h, n=3).doit()"
   ]
  },
  {
   "cell_type": "code",
   "execution_count": null,
   "id": "1ba4dacd-4091-491c-9c42-9f9f5f7f4800",
   "metadata": {},
   "outputs": [],
   "source": [
    "# Zapišemo enačbo, ki jo bomo manipulirali, ki vsebuje 1. odvod\n",
    "\n",
    "eqn_01 = sym.Eq(f(x+h), f(x+h).series(h, n=2).doit())\n",
    "eqn_01"
   ]
  },
  {
   "cell_type": "code",
   "execution_count": null,
   "id": "432ab0f4-7411-45ca-8bab-80964e621dda",
   "metadata": {},
   "outputs": [],
   "source": [
    "# Izrazimo 1. odvod kot spremenljivko\n",
    "diff_f = f(x).diff(x)\n",
    "display(diff_f)\n",
    "\n",
    "# Sedaj poiščimo kako se izraža 1. odvod, s pomočjo rešitve enačbe\n",
    "f1_fwd_exact = sym.solve(eqn_01, diff_f)[0]\n",
    "display(f1_fwd_exact)"
   ]
  },
  {
   "cell_type": "code",
   "execution_count": null,
   "id": "2ae67199-d025-4cd3-a41c-6f5917dca108",
   "metadata": {},
   "outputs": [],
   "source": [
    "f1_fwd_exact.expand()"
   ]
  },
  {
   "cell_type": "code",
   "execution_count": null,
   "id": "d706864f-fa25-4894-bd3e-a33fa26221af",
   "metadata": {},
   "outputs": [],
   "source": [
    "# V kolikor drugega in višjih odvodov ne upoštevamo, storimo napako:\n",
    "\n",
    "f1_fwd_O = f1_fwd_exact.expand().getO()\n",
    "f1_fwd_O"
   ]
  },
  {
   "cell_type": "markdown",
   "id": "7ad4bf9e-3c58-49e4-b934-7d348f680db6",
   "metadata": {},
   "source": [
    "Napaka $\\mathcal{O}\\left(h\\right) = \\mathcal{O}\\left(h^{1}\\right)$ je torej prvega reda in če ta člen zanemarimo, naredimo *napako metode* in dobimo oceno odvoda:"
   ]
  },
  {
   "cell_type": "code",
   "execution_count": null,
   "id": "02155796-2a97-49e4-8537-746be62d9609",
   "metadata": {},
   "outputs": [],
   "source": [
    "f1_fwd_est = f1_fwd_exact.expand().removeO()\n",
    "f1_fwd_est"
   ]
  },
  {
   "cell_type": "markdown",
   "id": "0f62dd52-c257-4acf-923f-0fd991990478",
   "metadata": {},
   "source": [
    "Ugotovimo, da gre za isti izraz, kakor smo ga izpeljali zgoraj, torej je:\n",
    "\n",
    "$$\n",
    "    y_i'=\\frac{1}{h}\\left(-y_i+y_{i+1}\\right).\n",
    "$$\n",
    "\n",
    "Uteži torej so:\n",
    "\n",
    "|    Odvod$\\downarrow$ $\\backslash$ Vrednosti $\\rightarrow$   | $y_{i}$   |$y_{i+1}$|\n",
    "|:----------:|:----------:|:----------:|\n",
    "|$y_i'=\\frac{1}{h}\\cdot$| -1 | 1 |"
   ]
  },
  {
   "cell_type": "markdown",
   "id": "1f2ec94d-a19f-48a0-9690-b5229ebd39e6",
   "metadata": {},
   "source": [
    "## Centralna diferenčna shema"
   ]
  },
  {
   "cell_type": "markdown",
   "id": "3cca7492-006b-48b8-a06a-78385f0215fb",
   "metadata": {},
   "source": [
    "### 1. odvod"
   ]
  },
  {
   "cell_type": "markdown",
   "id": "37aa1bb6-6ecc-41bc-8856-587b519f4bae",
   "metadata": {},
   "source": [
    "Najprej si poglejmo razvoj **Taylorjeve vrste nazaj** (angl. *backward Taylor series*):"
   ]
  },
  {
   "cell_type": "code",
   "execution_count": null,
   "id": "992cbfd2-bbb4-4c6b-9cac-372b299cc8e2",
   "metadata": {},
   "outputs": [],
   "source": [
    "sym.Eq(f(x-h), f(x-h).series(h, n=3).doit())"
   ]
  },
  {
   "cell_type": "markdown",
   "id": "3ad08a71-7fd7-4509-bea0-44def61d4a0f",
   "metadata": {},
   "source": [
    "razvoj **Taylorjeve vrste naprej** (angl. forwward Taylor series):"
   ]
  },
  {
   "cell_type": "code",
   "execution_count": null,
   "id": "bd76f908-6061-436d-a739-25cc20fdf874",
   "metadata": {},
   "outputs": [],
   "source": [
    "sym.Eq(f(x+h), f(x+h).series(h, n=3).doit())"
   ]
  },
  {
   "cell_type": "markdown",
   "id": "5bd42180-b5a3-443a-b9e7-7202df56abd8",
   "metadata": {},
   "source": [
    "Ugotovimo, da se pri razliki vrste naprej in nazaj odštevajo členi sodega reda; definirajmo:"
   ]
  },
  {
   "cell_type": "code",
   "execution_count": null,
   "id": "b4b6767e-ba4e-4999-8b19-c7822c8017cb",
   "metadata": {},
   "outputs": [],
   "source": [
    "def difference(n=3):\n",
    "    return f(x+h).series(h, n=n).doit()-f(x-h).series(h, n=n).doit()\n",
    "\n",
    "difference(n=3)"
   ]
  },
  {
   "cell_type": "markdown",
   "id": "38e7bfd5-2c50-4c43-907e-f1f7693c9b6a",
   "metadata": {},
   "source": [
    "Izvedemo sledeče korake:\n",
    "\n",
    "1. Taylorjevo vrsto nazaj odštejemo od vrste naprej, sodi odvodi se odštejejo,\n",
    "2. rešimo enačbo za prvi odvod,\n",
    "3. določimo napako metode,\n",
    "4. določimo oceno odvoda.\n",
    "\n",
    "Izvedimo zgornje korake:"
   ]
  },
  {
   "cell_type": "code",
   "execution_count": null,
   "id": "60802fb2-c1c3-4b3f-b629-4ed17cb324a2",
   "metadata": {},
   "outputs": [],
   "source": [
    "f1_cent_exact = sym.solve(\n",
    "           sym.Eq(f(x+h) - f(x-h), difference(n=3)), # 1 korak\n",
    "           f(x).diff(x))[0]                          # 2.korak\n",
    "f1_cent_O = f1_cent_exact.expand().getO()            # 3.korak\n",
    "f1_cent_est = f1_cent_exact.expand().removeO()       # 4.korak"
   ]
  },
  {
   "cell_type": "code",
   "execution_count": null,
   "id": "39948ce4-6be2-49be-b700-8cc65cc4e6c5",
   "metadata": {},
   "outputs": [],
   "source": [
    "# 1. odvod za centralno diferenčno shemo\n",
    "\n",
    "f1_cent_est"
   ]
  },
  {
   "cell_type": "markdown",
   "id": "6d3cdc27-af78-44f6-bc1a-940606989d74",
   "metadata": {},
   "source": [
    "Ali zapisano drugače\n",
    "\n",
    "$$\n",
    "    y_i'=\\frac{1}{2h}\\left(-y_{i-1}+y_{i+1}\\right)\n",
    "$$\n",
    "\n",
    "Uteži torej so:\n",
    "\n",
    "|    Odvod$\\downarrow$ $\\backslash$ Vrednosti $\\rightarrow$   |$y_{i-1}$ | $y_{i}$   |$y_{i+1}$|\n",
    "|:--------:|:-------------------:|:----------:|:----------:|\n",
    "|$y_i'=\\frac{1}{2h}\\cdot$| -1 | 0 | 1 |"
   ]
  },
  {
   "cell_type": "code",
   "execution_count": null,
   "id": "e1708767-69cc-4d4a-9451-08a4f9ba4fb3",
   "metadata": {},
   "outputs": [],
   "source": [
    "# Napaka metode je enaka drugemu redu, akr je bistveno bolje od prej\n",
    "\n",
    "f1_cent_O"
   ]
  },
  {
   "cell_type": "markdown",
   "id": "edc8fd71-ef6c-4d76-aae3-74e9318e355f",
   "metadata": {},
   "source": [
    "### 2. odvod"
   ]
  },
  {
   "cell_type": "markdown",
   "id": "6c7d079a-1216-4ea6-842a-95b368a349df",
   "metadata": {},
   "source": [
    "Če Taylorjevo vrsto naprej in nazaj seštejemo, se odštejejo lihi odvodi:"
   ]
  },
  {
   "cell_type": "code",
   "execution_count": null,
   "id": "60368aac-d677-4a58-944e-72066e7e9e18",
   "metadata": {},
   "outputs": [],
   "source": [
    "def sum_prts(n=3):\n",
    "    return f(x+h).series(h, n=n).doit() + f(x-h).series(h, n=n).doit()\n",
    "\n",
    "sum_prts(n=4)"
   ]
  },
  {
   "cell_type": "code",
   "execution_count": null,
   "id": "653b6931-cb04-4762-87f0-0429a2e0257a",
   "metadata": {},
   "outputs": [],
   "source": [
    "# Določimo 2. odvod\n",
    "\n",
    "f2_cent_exact = sym.solve(\n",
    "           sym.Eq(f(x+h) + f(x-h), sum_prts(n=4)),   # 1 korak\n",
    "           f(x).diff(x,2))[0]                       # 2.korak\n",
    "f2_cent_O = f2_cent_exact.expand().getO()           # 3.korak\n",
    "f2_cent_est = f2_cent_exact.expand().removeO()      # 4.korak"
   ]
  },
  {
   "cell_type": "markdown",
   "id": "69aed773-5f42-4a57-8684-347ee040217f",
   "metadata": {},
   "source": [
    "In dobimo za oceno 2. odvoda"
   ]
  },
  {
   "cell_type": "code",
   "execution_count": null,
   "id": "db3c53bf-30f6-44e1-aec9-7a096551f040",
   "metadata": {},
   "outputs": [],
   "source": [
    "f2_cent_est"
   ]
  },
  {
   "cell_type": "markdown",
   "id": "c47782fe-2a78-4845-be15-497196fd6b08",
   "metadata": {},
   "source": [
    "Ali zapisano drugače\n",
    "\n",
    "$$\n",
    "    y_i''=\\frac{1}{h^2}\\left(y_{i-1}-2\\,y_{i}+y_{i+1}\\right)\n",
    "$$\n",
    "\n",
    "Uteži torej so:\n",
    "\n",
    "|    Odvod$\\downarrow$ $\\backslash$ Vrednosti $\\rightarrow$   |$y_{i-1}$ | $y_{i}$   |$y_{i+1}$ |\n",
    "|:--------:|:-------------------:|:----------:|:----------:|\n",
    "|$y_i''=\\frac{1}{h^2}\\cdot$ | 1 | -2 | 1 |\n"
   ]
  },
  {
   "cell_type": "markdown",
   "id": "3a394008-9eca-4dbe-b73a-ba35cc9fe9b8",
   "metadata": {},
   "source": [
    "Napaka metode je v tem primeru enaka"
   ]
  },
  {
   "cell_type": "code",
   "execution_count": null,
   "id": "a2bb44d0-be36-4f0f-952a-a6a8bcbec7f5",
   "metadata": {},
   "outputs": [],
   "source": [
    "f2_cent_O"
   ]
  },
  {
   "cell_type": "markdown",
   "id": "eedd493d-94a8-428d-b2bf-17c0a9cbb414",
   "metadata": {},
   "source": [
    "<hr>\n",
    "\n",
    "## Necentralne diferenčne sheme"
   ]
  },
  {
   "cell_type": "markdown",
   "id": "74651b4c-0dc9-4667-952d-49d1f62dd8be",
   "metadata": {},
   "source": [
    "Centralna diferenčna shema, ki smo jo spoznali zgoraj, je zelo uporabna in relativno natančna. Ker pa je ne moremo vedno uporabiti (recimo na začetku ali koncu tabele), si moramo pomagati z **necentralnimi diferenčnimi shemami** za računanje odvodov.\n",
    "\n",
    "Poznamo:\n",
    "\n",
    "* **diferenčno shemo naprej**, ki odvod točke aproksimira z vrednostmi funkcije v naslednjih  točkah in \n",
    "* **diferenčno shemo nazaj**, ki odvod točke aproksimira z vrednostmi v predhodnih točkah.\n",
    "\n",
    "Izpeljave so podobne, kakor smo prikazali za centralno diferenčno shemo, zato jih tukaj ne bomo obravnavali in bomo prikazali samo končni rezultat."
   ]
  },
  {
   "cell_type": "markdown",
   "id": "56c0ae4c-7315-4078-b50f-eba7110e1c98",
   "metadata": {},
   "source": [
    "### Diferenčna shema - Naprej (Forward)"
   ]
  },
  {
   "cell_type": "markdown",
   "id": "7f8165bc-33a2-4c48-9d7e-7f51008d7bc9",
   "metadata": {},
   "source": [
    "Diferenčna shema naprej z redom napake $\\mathcal{O}(h^{1})$:\n",
    "\n",
    "|  Odvod$\\downarrow$ $\\backslash$ Vrednosti $\\rightarrow$        |$y_{i}$|$y_{i+1}$ | $y_{i+2}$   |$y_{i+3}$ |$y_{i+4}$|\n",
    "|:--------:|:-------------------:|:----------:|:----------:|:----------:|:----------:|\n",
    "|$y_i'=\\frac{1}{h}\\cdot$| -1     | 1 | 0 | 0 | 0|\n",
    "|$y_i''=\\frac{1}{h^2}\\cdot$| 1 | -2 | 1 | 0 | 0|\n",
    "|$y_i'''=\\frac{1}{h^3}\\cdot$| -1 | 3 | -3| 1 | 0|\n",
    "|$y_i^{(4)}=\\frac{1}{h^4}\\cdot$| 1 | -4 | 6 | -4 | 1|"
   ]
  },
  {
   "cell_type": "markdown",
   "id": "7d450dd1-5cd0-4174-a638-47ca2b7110b0",
   "metadata": {},
   "source": [
    "Diferenčna shema naprej z redom napake $\\mathcal{O}(h^{2})$:\n",
    "\n",
    "|  Odvod$\\downarrow$ $\\backslash$ Vrednosti $\\rightarrow$        |$y_{i}$|$y_{i+1}$ | $y_{i+2}$   |$y_{i+3}$ |$y_{i+4}$|$y_{i+5}$|\n",
    "|:--------:|:-------------------:|:----------:|:----------:|:----------:|:----------:|:----------:|\n",
    "|$y_i'=\\frac{1}{2h}\\cdot$| -3 | 4 | -1| 0 | 0|  0| \n",
    "|$y_i''=\\frac{1}{h^2}\\cdot$| 2 | -5 | 4 | -1| 0| 0| \n",
    "|$y_i'''=\\frac{1}{2h^3}\\cdot$| -5 | 18| -24| 14| -3| 0| \n",
    "|$y_i^{(4)}=\\frac{1}{h^4}\\cdot$| 3 | -14 | 26 | -24 | 11| -2| "
   ]
  },
  {
   "cell_type": "markdown",
   "id": "fe6f3b08-6593-4b78-b9a5-7939fb28f7a8",
   "metadata": {},
   "source": [
    "## Diferenčna shema - Nazaj (Backward)"
   ]
  },
  {
   "cell_type": "markdown",
   "id": "8ab68ff8-4a42-4a87-8a4c-42a488208506",
   "metadata": {},
   "source": [
    "Diferenčna shema nazaj z redom napake $\\mathcal{O}(h^{1})$:\n",
    "\n",
    "| Odvod$\\downarrow$ $\\backslash$ Vrednosti $\\rightarrow$         |$y_{i-4}$|$y_{i-3}$ | $y_{i-2}$   |$y_{i-1}$ |$y_{i}$|\n",
    "|:--------:|:-------------------:|:----------:|:----------:|:----------:|:----------:|\n",
    "|$y_i'=\\frac{1}{h}\\cdot$| 0 | 0| 0 | -1| 1|\n",
    "|$y_i''=\\frac{1}{h^2}\\cdot$| 0 | 0 | 1 | -2| 1|\n",
    "|$y_i'''=\\frac{1}{h^3}\\cdot$| 0 | -1| 3| -3| 1|\n",
    "|$y_i^{(4)}=\\frac{1}{h^4}\\cdot$| 1 | -4 | 6 | -4 | 1|"
   ]
  },
  {
   "cell_type": "markdown",
   "id": "68a4f852-acd6-479a-a5c8-a32528864167",
   "metadata": {},
   "source": [
    "Diferenčna shema nazaj z redom napake $\\mathcal{O}(h^{2})$:\n",
    "\n",
    "| Odvod$\\downarrow$ $\\backslash$ Vrednosti $\\rightarrow$         |$y_{i-5}$|$y_{i-4}$|$y_{i-3}$ | $y_{i-2}$   |$y_{i-1}$ |$y_{i}$|\n",
    "|:--------:|:-------------------:|:----------:|:----------:|:----------:|:----------:|:----------:|\n",
    "|$y_i'=\\frac{1}{2h}\\cdot$| 0 | 0| 0| 1 |-4| 3| \n",
    "|$y_i''=\\frac{1}{h^2}\\cdot$| 0 | 0 | -1| 4|-5| 2| \n",
    "|$y_i'''=\\frac{1}{2h^3}\\cdot$| 0 | 3| -14| 24|-18| 5| \n",
    "|$y_i^{(4)}=\\frac{1}{h^4}\\cdot$| -2| 11| -24| 26 | -14| 3| "
   ]
  },
  {
   "cell_type": "markdown",
   "id": "fe008282-9f28-4c9f-b136-e9a511d053b7",
   "metadata": {},
   "source": [
    "<hr>\n",
    "\n",
    "## Uporaba `numpy` knjižnice za odvajanje - `numpy.gradient`"
   ]
  },
  {
   "cell_type": "markdown",
   "id": "8700499e-39bc-4d54-aa5d-ab09a1551376",
   "metadata": {},
   "source": [
    "Za izračun numeričnih odvodov (centralna diferenčna shema 2. reda) lahko uporabimo tudi ``numpy.gradient()`` ([dokumentacija](https://numpy.org/doc/stable/reference/generated/numpy.gradient.html)):\n",
    "\n",
    "```python\n",
    "gradient(f, *varargs, **kwargs)\n",
    "```\n",
    "\n",
    "kjer `f` predstavlja tabelo vrednosti (v obliki numeričnega polja) funkcije, katere odvod iščemo. `f` je lahko ene ali več dimenzij. Pozicijski parametri `varargs` definirajo razdaljo med vrednostmi argumenta funkcije `f`; privzeta vrednost je 1. Ta vrednost je lahko skalar, lahko pa tudi seznam vrednosti neodvisne spremenljivke (ali tudi kombinacija obojega). Gradientna metoda na robovih uporabi shemo naprej oziroma nazaj; parameter `edge_order` definira red sheme, ki se uporabi na robovih (izbiramo lahko med 1 ali 2, privzeta vrednost je 1). \n",
    "\n",
    "Rezultat funkcije `gradient` je numerični seznam (ali seznam numeričnih seznamov) z izračunanimi odvodi.\n",
    "\n",
    "Za podrobnosti glejte [dokumentacijo](https://numpy.org/doc/stable/reference/generated/numpy.gradient.html)."
   ]
  },
  {
   "cell_type": "markdown",
   "id": "bc497c21-e2b9-4247-a086-816e4da28cbd",
   "metadata": {},
   "source": [
    "### Zgled"
   ]
  },
  {
   "cell_type": "markdown",
   "id": "62b38b8b-4580-4839-8ef8-b38b72987615",
   "metadata": {},
   "source": [
    "Pogledali si bomo zgled, kako uporabimo **uteži**, funkcijo gradient in posebnosti na robovih. Najprej pripravimo tabelo podatkov:"
   ]
  },
  {
   "cell_type": "code",
   "execution_count": null,
   "id": "f0f37379-26fb-4273-8164-d6d169047f86",
   "metadata": {},
   "outputs": [],
   "source": [
    "x, h = np.linspace(0, 1, 20, retstep=True)\n",
    "y = np.sin(2*np.pi*x)"
   ]
  },
  {
   "cell_type": "markdown",
   "id": "8be27ea2-ebc2-446f-bb66-6abf5cc5dcbf",
   "metadata": {},
   "source": [
    "Uteži difernečnih shem:"
   ]
  },
  {
   "cell_type": "code",
   "execution_count": null,
   "id": "3ea68357-0794-482e-bc5f-476b5f44899a",
   "metadata": {},
   "outputs": [],
   "source": [
    "centralna = np.array([-0.5, 0, 0.5]) # bi lahko tudi pridobili prek central_diff_weights(3,1)\n",
    "naprej = np.array([-3/2, 2, -1/2])\n",
    "nazaj = np.array([1/2, -2, 3/2])"
   ]
  },
  {
   "cell_type": "markdown",
   "id": "00a7715d-3613-417d-bf65-10cd9ff2198a",
   "metadata": {},
   "source": [
    "Sedaj izvedemo odvod notranjih točk (prvi način je z izpeljevanjem seznamov, drugi je vektoriziran):"
   ]
  },
  {
   "cell_type": "code",
   "execution_count": null,
   "id": "1150a574-46b4-4ebb-aa3a-6cf4cd70bfc5",
   "metadata": {},
   "outputs": [],
   "source": [
    "odvod_notranje = np.array([y[i-1:i+2] @ centralna/h for i in range(1, len(x)-1)]) # izpeljevanje seznamov\n",
    "odvod_notranje = np.convolve(y, centralna[::-1], mode='valid') / h # vektoriziran"
   ]
  },
  {
   "cell_type": "markdown",
   "id": "df1676a8-8d7c-4d4f-8fce-e9a63d39a3eb",
   "metadata": {},
   "source": [
    "Na robovih uporabimo diferenčno shemo naprej oziroma nazaj:"
   ]
  },
  {
   "cell_type": "code",
   "execution_count": null,
   "id": "43d5bdad-16e1-4f0b-a355-27153bef7d96",
   "metadata": {},
   "outputs": [],
   "source": [
    "odvod_prva = y[:len(naprej)] @ naprej / h  # naprej\n",
    "odvod_zadnja = y[-len(nazaj):] @ nazaj / h # nazaj"
   ]
  },
  {
   "cell_type": "markdown",
   "id": "fc808153-e6b5-47a4-a597-0cbaa89ca5a5",
   "metadata": {},
   "source": [
    "Sestavimo rezultat:"
   ]
  },
  {
   "cell_type": "code",
   "execution_count": null,
   "id": "95d8d0d3-d5f1-4337-9654-f543cb048bf2",
   "metadata": {},
   "outputs": [],
   "source": [
    "odvod_cel = np.hstack([odvod_prva, odvod_notranje, odvod_zadnja])"
   ]
  },
  {
   "cell_type": "markdown",
   "id": "2b104c26-8122-4c54-b5cc-9e60ba2948dc",
   "metadata": {},
   "source": [
    "Prikažemo rezultat skupaj z rezultatom funkcije `np.gradient`:"
   ]
  },
  {
   "cell_type": "code",
   "execution_count": null,
   "id": "f2da50c9-d83e-4eeb-87d5-7c2fad6c89bc",
   "metadata": {},
   "outputs": [],
   "source": [
    "mpl.plot(x, odvod_cel, 'ko', lw=3, label='lastna implementacija')\n",
    "mpl.plot(x, np.gradient(y, h), 'g.', label='np.gradient, edge_order=1')\n",
    "mpl.plot(x, np.gradient(y, h, edge_order=2), 'r.', label='np.gradient, edge_order=2')\n",
    "mpl.legend();"
   ]
  }
 ],
 "metadata": {
  "kernelspec": {
   "display_name": "Python 3 (ipykernel)",
   "language": "python",
   "name": "python3"
  },
  "language_info": {
   "codemirror_mode": {
    "name": "ipython",
    "version": 3
   },
   "file_extension": ".py",
   "mimetype": "text/x-python",
   "name": "python",
   "nbconvert_exporter": "python",
   "pygments_lexer": "ipython3",
   "version": "3.11.9"
  }
 },
 "nbformat": 4,
 "nbformat_minor": 5
}
