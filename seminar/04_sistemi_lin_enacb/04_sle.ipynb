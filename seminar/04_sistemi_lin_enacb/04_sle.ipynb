{
 "cells": [
  {
   "cell_type": "markdown",
   "id": "26f38c75-4228-4efc-bdd1-b980cce939ca",
   "metadata": {},
   "source": [
    "# Sistemi Linearnih Enačb"
   ]
  },
  {
   "cell_type": "markdown",
   "id": "b6aaa7f4-5f6b-4726-9638-20e02eb83a03",
   "metadata": {},
   "source": [
    "**Datum**: 04/11/2024\n",
    "\n",
    "**Avtor**: Aleksander Grm\n",
    "\n",
    "V zapiskih so uporabljeni primeri iz OnLine knjige [Numerične metode v ekosistemu Pythona, Janko Slavič](https://jankoslavic.github.io/pynm)\n",
    "\n",
    "<hr>"
   ]
  },
  {
   "cell_type": "markdown",
   "id": "229bdbad-9b57-4967-b971-720ae3abc5a3",
   "metadata": {},
   "source": [
    "Najprej naložimo celoten potreben Python ekosistem"
   ]
  },
  {
   "cell_type": "code",
   "execution_count": null,
   "id": "5a66b4a0-f861-404e-b4bb-4cf4152ece61",
   "metadata": {},
   "outputs": [],
   "source": [
    "import numpy as np              # orodja za numeriko\n",
    "import matplotlib.pyplot as mpl # izdelava grafov\n",
    "import numpy.polynomial as poly # paket za podporo polinomov\n",
    "import scipy.optimize as opt    # uporaba fsolve() funkcije\n",
    "\n",
    "from IPython.display import YouTubeVideo"
   ]
  },
  {
   "cell_type": "markdown",
   "id": "18424da1-a66f-42d6-9758-e49314a420e2",
   "metadata": {},
   "source": [
    "## Uvod v sisteme linearnih enačb"
   ]
  },
  {
   "cell_type": "markdown",
   "id": "9bf63a51-c5b7-4d22-ae4e-4bb196e9466c",
   "metadata": {},
   "source": [
    "Pod zgornjim naslovom razumemo sistem $m$ linearnih enačb ($E_i, i=0, 1,\\dots,m-1$) z $n$ neznankami ($x_j, j=0,1,\\dots,n-1$):\n",
    "\n",
    "$$\n",
    "    \\begin{array}{rllllllll}\n",
    "        E_0: & A_{0,0}\\,x_0 &+&A_{0,1}\\,x_1&+& \\ldots &+&A_{0,n-1}\\,x_{n-1}&=&b_0\\\\\n",
    "        E_1: & A_{1,0}\\,x_0 &+&A_{1,1}\\,x_1&+& \\ldots &+&A_{1,n-1}\\,x_{n-1}&=&b_1\\\\\n",
    "        \\vdots && &&& \\vdots\\\\\n",
    "        E_{m-1}: & A_{m-1,0}\\,x_0&+&A_{m-1,1}\\,x_1&+& \\ldots &+&A_{m-1,n-1}\\,x_{n-1}&=&b_{m-1}.\\\\\n",
    "    \\end{array}\n",
    "$$\n",
    "\n",
    "Koeficienti $A_{i,j}$ in $b_i$ so znana, ponavadi realna števila. V posebnih primerih so lahko tudi kompleksna števila. \n",
    "\n",
    "V kolikor je desna stran enaka nič, torej $b_i=0$, imenujemo sistem **homogenem**, sicer je sistem **nehomogen**.\n",
    "\n",
    "Sistem enačb lahko zapišemo tudi v matrični obliki:\n",
    "\n",
    "$$\n",
    "    \\mathbf{A}\\,\\mathbf{x}=\\mathbf{b},\n",
    "$$\n",
    "\n",
    "kjer sta $\\mathbf{A}$ in $\\mathbf{b}$ znana matrika in vektor, vektor $\\mathbf{x}$ vsebuje neznanke in tako ni znan. Matriko $\\mathbf{A}$ imenujemo **matrika koeficientov**, vektor $\\mathbf{b}$ **vektor konstant** (tudi: vektor prostih členov ali vektor stolpec desnih strani) in $\\mathbf{x}$ **vektor neznank**. Če matriki $\\mathbf{A}$ dodamo kot stolpec vektor $\\mathbf{b}$, dobimo t. i. **razširjeno matriko** in jo označimo $[\\mathbf{A}|\\mathbf{b}]$.\n",
    "\n",
    "Opomba glede zapisa:\n",
    "\n",
    "* skalarne spremenljivke pišemo poševno, npr.: $a, A$,\n",
    "* vektorske spremenljivke pišemo z majhno črko poudarjeno, npr.: $\\mathbf{a}$,\n",
    "* matrične  spremenljivke pišemo z veliko črko poudarjeno, npr.: $\\mathbf{A}$."
   ]
  },
  {
   "cell_type": "markdown",
   "id": "0750ce5d-909e-4d7b-8f36-460df3799754",
   "metadata": {},
   "source": [
    "## Postopek reševanja sistema linearnih enačb\n",
    "\n",
    "Spodaj si lahko ogledate kratko video predstavitev"
   ]
  },
  {
   "cell_type": "code",
   "execution_count": null,
   "id": "8674c707-11af-4dcc-9ffb-cc823bdb36a9",
   "metadata": {},
   "outputs": [],
   "source": [
    "from IPython.display import YouTubeVideo\n",
    "YouTubeVideo('7YbyijGUbYw', width=800, height=300)"
   ]
  },
  {
   "cell_type": "markdown",
   "id": "f39405b2-a85c-478c-9ed8-c0ff174d5a86",
   "metadata": {},
   "source": [
    "Če nad sistemom linearnih enačb izvajamo **elementarne operacije**:\n",
    "\n",
    "* množenje poljubne enačbe s konstanto (ki je različna od nič),\n",
    "* spreminjanje vrstnega reda enačb,\n",
    "* prištevanje ene enačbe (pomnožene s konstanto) drugi enačbi. \n",
    "\n",
    "Z opisanimi opreacijami **rešitve sistema ne spremenimo** in dobimo ekvivalentni sistem enačb.\n",
    "\n",
    "S pomočjo elementarnih operacij nad vrsticami matrike $\\mathbf{A}$ jo lahko preoblikujemo v t. i. **vrstično kanonično obliko**:\n",
    "\n",
    "1. če obstajajo ničelne vrstice, so te na dnu matrike,\n",
    "2. prvi neničelni element se nahaja desno od prvih neničelnih elementov predhodnih vrstic,\n",
    "3. prvi neničelni element v *vrstici* imenujemo **pivot** in je enak 1,\n",
    "4. pivot je edini neničelni element v *stolpcu*.\n",
    "\n",
    "\n",
    "**Rang matrike** predstavlja število neničelnih vrstic v vrstični kanonični obliki matrike; število neničelnih vrstic predstavlja **število linearno neodvisnih enačb in je enako številu pivotnih elementov**. **Rang matrike je torej enak številu linearno neodvisnih vrstic matrike**. Transponiranje matrike njenega ranga ne spremeni, zato je rang matrike enak tudi številu linearno neodvisnih *stolpcev* matrike. "
   ]
  },
  {
   "cell_type": "markdown",
   "id": "588108fa-48bf-49ad-89c4-4cf118461336",
   "metadata": {},
   "source": [
    "<hr>\n",
    "\n",
    "Primer preoblikovanja matrike $\\mathbf{A}$:"
   ]
  },
  {
   "cell_type": "code",
   "execution_count": null,
   "id": "600ba2eb-ba5b-44a5-b512-cab02948c31e",
   "metadata": {},
   "outputs": [],
   "source": [
    "A_org = np.arange(9).reshape((3,3))+1\n",
    "A = A_org\n",
    "print(A)"
   ]
  },
  {
   "cell_type": "markdown",
   "id": "d75c1816-f962-4a5c-9814-91b1c7dc729b",
   "metadata": {},
   "source": [
    "Element `A[0,0]` je neničelen in ima vrednost 1 tako je **pivotni element**. \n",
    "\n",
    "Prvo vrstico `A[0,:]` pomnožimo z $-4$ in produkt prištejemo drugi vrstici `A[1,:]-4A[0,:]`:"
   ]
  },
  {
   "cell_type": "code",
   "execution_count": null,
   "id": "e91c2b6c-126f-493c-a3b8-d4325bae3940",
   "metadata": {},
   "outputs": [],
   "source": [
    "A[1,:] -= A[1,0]*A[0,:]\n",
    "print(A)"
   ]
  },
  {
   "cell_type": "markdown",
   "id": "44b150cd-560c-46c8-89b4-6dfcf2c9f25c",
   "metadata": {},
   "source": [
    "V enakem stilu naredimo tudi za tretjo vrstico."
   ]
  },
  {
   "cell_type": "code",
   "execution_count": null,
   "id": "eee75f17-2df4-4151-a21f-39aa0a8aa56c",
   "metadata": {},
   "outputs": [],
   "source": [
    "A[2,:] -= A[2,0]*A[0,:]\n",
    "print(A)"
   ]
  },
  {
   "cell_type": "markdown",
   "id": "ac0e8107-b008-4e43-9652-e5483454d19f",
   "metadata": {},
   "source": [
    "Drugo vrstico sedaj delimo z `A[1,1]`, da dobimo pivotni element v vrstici 1:"
   ]
  },
  {
   "cell_type": "code",
   "execution_count": null,
   "id": "95df10db-51e7-4cb6-aeee-940e2329c66f",
   "metadata": {},
   "outputs": [],
   "source": [
    "A[1,:] = A[1,:]/A[1,1]\n",
    "print(A)"
   ]
  },
  {
   "cell_type": "markdown",
   "id": "24660e5d-4f79-457b-8991-5c57eb469925",
   "metadata": {},
   "source": [
    "Odštejemo drugo vrstico od ostalih, da dobimo v drugem stolpcu ničle povsod, razen v drugi vrstici vrednost 1:"
   ]
  },
  {
   "cell_type": "code",
   "execution_count": null,
   "id": "1c360429-c69b-442a-b7b6-559fe92cb88a",
   "metadata": {},
   "outputs": [],
   "source": [
    "A[0,:] -= A[0,1]*A[1,:] # odštevanje od prve vrstice\n",
    "A[2,:] -= A[2,1]*A[1,:] # odštevanje od zadnje vrstice\n",
    "print(A)"
   ]
  },
  {
   "cell_type": "markdown",
   "id": "ceb4fef7-e94c-45cf-b998-4acf746d1ae4",
   "metadata": {},
   "source": [
    "Tako nam po algebrajični manipulaciji ostaneta samo dve neničelni vrstici sledi, da ima matrika `A` dva pivota in predstavlja dve linearno neodvisni enačbi. Rang matrike je 2."
   ]
  },
  {
   "cell_type": "markdown",
   "id": "4d3e410d-9a2c-4dfe-aa46-d7eb9d118326",
   "metadata": {},
   "source": [
    "Rang matrike lahko določimo tudi s pomočjo `numpy` funkcije `numpy.linalg.matrix_rank` ([dokumentacija](https://docs.scipy.org/doc/numpy/reference/generated/numpy.linalg.matrix_rank.html)):\n",
    "\n",
    "```python\n",
    "matrix_rank(M, tol=None)\n",
    "```\n",
    "\n",
    "kjer je `M` matrika, katere rang iščemo, `tol` opcijski parameter, ki določa mejo, pod katero se vrednosti v algoritmu smatrajo enake nič."
   ]
  },
  {
   "cell_type": "code",
   "execution_count": null,
   "id": "21b3233b-8e28-4857-962d-07e8a2fc1e1d",
   "metadata": {},
   "outputs": [],
   "source": [
    "# Test naše originalne matrike in manipulirane matrike\n",
    "\n",
    "rk_A_org = np.linalg.matrix_rank(A_org)\n",
    "rk_A = np.linalg.matrix_rank(A)\n",
    "\n",
    "print('rk(A_org):', rk_A_org)\n",
    "print('    rk(A):', rk_A)"
   ]
  },
  {
   "cell_type": "markdown",
   "id": "7d0354ae-1222-42bb-954c-469c1717a976",
   "metadata": {},
   "source": [
    "<hr>\n",
    "\n",
    "Če velja $r=\\textbf{rang}(\\mathbf{A})=\\textbf{rang}([\\mathbf{A}|\\mathbf{b}])$, potem rešitev **obstaja** (rečemo tudi, da je sistem **konsistenten**).\n",
    "\n",
    "Konsistenten sistem ima:\n",
    "\n",
    "* natanko eno rešitev, ko je število neznank $n$ enako rangu $r$ (rešitev je neodvisna) in \n",
    "* neskončno mnogo rešitev, ko je rang $r$ manjši od števila neznank $n$ (rešitev je odvisna od $n-r$ parametrov).\n",
    "\n",
    "Najprej se bomo omejili na sistem $m=n$ linearnih enačb z $n$ neznankami ter velja $n=r$:\n",
    "\n",
    "$$\n",
    "    \\mathbf{A}\\,\\mathbf{x}=\\mathbf{b}.\n",
    "$$\n",
    "\n",
    "Pod zgornjimi pogoji je matrika koeficientov $\\mathbf{A}$ nesingularna ($|\\mathbf{A}|\\neq 0$) in sistem ima rešitev:\n",
    "\n",
    "$$\n",
    "    \\mathbf{x}=\\mathbf{A^{-1}}\\,\\mathbf{b}.\n",
    "$$\n",
    "\n",
    "Poglejmo si primer sistema, ko so **enačbe linearno odvisne** ($r<n$):"
   ]
  },
  {
   "cell_type": "code",
   "execution_count": null,
   "id": "f0348aa8-d553-455e-b2a2-a69d6612d0a4",
   "metadata": {},
   "outputs": [],
   "source": [
    "A = np.array([[1 , 2],\n",
    "              [2, 4]])\n",
    "b = np.array([1, 2])\n",
    "Ab = np.column_stack((A,b))\n",
    "\n",
    "print('razširjena matrika:\\n\\n', Ab)"
   ]
  },
  {
   "cell_type": "markdown",
   "id": "a708df17-a587-454f-af0f-d2b8e72be335",
   "metadata": {},
   "source": [
    "S pomočjo `numpy` knjižnice poglejmo sedaj rang matrike koeficientov in razširjene matrike ter determinanto z uporabo `numpy.linalg.det` ([dokumentacija](https://docs.scipy.org/doc/numpy/reference/generated/numpy.linalg.det.html)):\n",
    "\n",
    "```python\n",
    "det(A)\n",
    "```\n",
    "\n",
    "kjer je `A` matrika (ali seznam matrik), katere determinanto iščemo; funkcija `det` vrne determinanto (ali seznam determinant)."
   ]
  },
  {
   "cell_type": "code",
   "execution_count": null,
   "id": "a3a96adb-2d55-4ecf-88ab-7c785b8521e4",
   "metadata": {},
   "outputs": [],
   "source": [
    "f'rang(A)={np.linalg.matrix_rank(A)}, rang(Ab)={np.linalg.matrix_rank(Ab)}, \\\n",
    "število neznank: {len(A[:,0])}, det(A)={np.linalg.det(A)}'"
   ]
  },
  {
   "cell_type": "markdown",
   "id": "f78a9f4f-c315-4953-b3be-a82f92205e46",
   "metadata": {},
   "source": [
    "<hr>\n",
    "\n",
    "Poglejmo še primer, ko **rešitve sploh ni** (nekonsistenten sistem):"
   ]
  },
  {
   "cell_type": "code",
   "execution_count": null,
   "id": "d5633433-7ac0-4c13-8ef2-e96d4560812d",
   "metadata": {},
   "outputs": [],
   "source": [
    "A = np.array([[1 , 2],\n",
    "              [2, 4]])\n",
    "b = np.array([1, 1])\n",
    "Ab = np.column_stack((A,b))\n",
    "\n",
    "print('razširjena matrika:\\n\\n', Ab)"
   ]
  },
  {
   "cell_type": "code",
   "execution_count": null,
   "id": "c45c11ed-22ac-4778-b1d5-c481d496d1df",
   "metadata": {},
   "outputs": [],
   "source": [
    "f'rang(A)={np.linalg.matrix_rank(A)}, rang(Ab)={np.linalg.matrix_rank(Ab)}, \\\n",
    "število neznank: {len(A[:,0])}, det(A)={np.linalg.det(A)}'"
   ]
  },
  {
   "cell_type": "markdown",
   "id": "f2b0feed-426b-4f4a-8f64-3ae200bc1319",
   "metadata": {},
   "source": [
    "## Norma in pogojenost sistema linearnih enačb"
   ]
  },
  {
   "cell_type": "markdown",
   "id": "12f57f55-b220-4447-b5db-520d7da9ec47",
   "metadata": {},
   "source": [
    "Numerična naloga je slabo pogojena, če majhna sprememba podatkov povzroči veliko spremembo rezultata. V primeru *majhne spremembe podatkov*, ki povzročijo *majhno spremembo rezultatov*, pa je naloga **dobro pogojena**. \n",
    "\n",
    "Sistem enačb je ponavadi dobro pogojen, če so absolutne vrednosti diagonalnih elementov matrike koeficientov velike v primerjavi z absolutnimi vrednostmi izven diagonalnih elementov.\n",
    "\n",
    "Za sistem linearnih enačb $\\mathbf{A}\\,\\mathbf{x}=\\mathbf{b}$ lahko računamo **število pogojenosti** (*angl.* condition number):\n",
    "\n",
    "$$\n",
    "    \\textrm{cond}(\\textbf{A})=||\\textbf{A}||\\,||\\textbf{A}^{-1}||.\n",
    "$$\n",
    "\n",
    "Z $||\\textbf{A}||$ je označena **norma** matrike.\n",
    "\n",
    "Obstaja več načinov računanja norme; navedimo dve:\n",
    "\n",
    "* Evklidska norma (tudi Frobeniusova):\n",
    "\n",
    "$$\n",
    "    ||\\textbf{A}||_e=\\sqrt{\\sum_{i=1}^n\\sum_{j=1}^nA_{ij}^2}\n",
    "$$\n",
    "\n",
    "* Norma vsote vrstic ali tudi neskončna norma:\n",
    "\n",
    "$$\n",
    "    ||\\textbf{A}||_{\\infty}=\\max_{1\\le i\\le n}\\sum_{j=1}^n |A_{ij}|\n",
    "$$\n",
    "\n",
    "Pogojenost računamo z vgrajeno funkcijo `numpy.linalg.cond` ([dokumentacija](https://docs.scipy.org/doc/numpy/reference/generated/numpy.linalg.cond.html)):\n",
    "\n",
    "```python\n",
    "cond(x, p=None)\n",
    "```\n",
    "\n",
    "ki sprejme dva parametra: matriko `x` in opcijski tip norme `p` (privzeti tip je `None`; v tem primeru se uporabi Evklidska/Frobeniusova norma).\n",
    "\n",
    "Če je število pogojenosti majhno, potem je matrika dobro pogojena in obratno - pri slabi pogojenosti se število pogojenosti zelo poveča.\n",
    "\n",
    "Žal je izračun pogojenosti matrike numerično relativno zahteven."
   ]
  },
  {
   "cell_type": "markdown",
   "id": "5891dd12-d39d-4092-be15-8fbafd0ed59e",
   "metadata": {},
   "source": [
    "### Primer slabo pogojene matrike\n",
    "\n",
    "Pogledali si bomo slabo pogojen sistem, kjer bomo z malenkostno spremembo na matriki koeficientov povzročili veliko spremembo rešitve.\n",
    "\n",
    "Matrika koeficientov:"
   ]
  },
  {
   "cell_type": "code",
   "execution_count": null,
   "id": "f926ffcd-1358-47dd-901e-c208810d1983",
   "metadata": {},
   "outputs": [],
   "source": [
    "A = np.array([[1 , 1],\n",
    "              [1, 1.00001]])\n",
    "cond_A = np.linalg.cond(A)\n",
    "\n",
    "print('pogojenost:', cond_A)"
   ]
  },
  {
   "cell_type": "markdown",
   "id": "801a60b2-aa2e-4250-9372-d9572a24a2b5",
   "metadata": {},
   "source": [
    "Dodamo še desno stran sistema"
   ]
  },
  {
   "cell_type": "code",
   "execution_count": null,
   "id": "989025fc-a608-4cfe-b8b8-2b0c998dfdaa",
   "metadata": {},
   "outputs": [],
   "source": [
    "b = np.array([3, -3])\n",
    "Ab = np.column_stack((A,b))\n",
    "\n",
    "print(Ab)"
   ]
  },
  {
   "cell_type": "markdown",
   "id": "e96824e1-9270-499e-80ba-58ccc6bd2ec0",
   "metadata": {},
   "source": [
    "Preverimo osnovne lastnosti SLE "
   ]
  },
  {
   "cell_type": "code",
   "execution_count": null,
   "id": "fc2b931d-4ee4-41a1-a396-9066980dc72f",
   "metadata": {},
   "outputs": [],
   "source": [
    "msg = 'rk(A): {:}, rk(A|b): {:}, size(x): {} (št. neznank), det(A): {:}'.format(np.linalg.matrix_rank(A), np.linalg.matrix_rank(Ab),len(A[:,0]), np.linalg.det(A))\n",
    "print(msg)"
   ]
  },
  {
   "cell_type": "markdown",
   "id": "66437c23-34d5-469c-99bd-47c3dfe09648",
   "metadata": {},
   "source": [
    "Rešimo zgornji SLE, za algebrajično manipulacijo:"
   ]
  },
  {
   "cell_type": "code",
   "execution_count": null,
   "id": "b788fb9e-acd6-4d39-9fb3-d263d0dcbbe5",
   "metadata": {},
   "outputs": [],
   "source": [
    "# od druge enačbe odštejemo prvo\n",
    "Ab[1,:] -= Ab[0,:]\n",
    "Ab"
   ]
  },
  {
   "cell_type": "code",
   "execution_count": null,
   "id": "bf77013e-6648-4cb3-8662-514b41c980ea",
   "metadata": {},
   "outputs": [],
   "source": [
    "# določimo vrednost x_1\n",
    "x1 = Ab[1,2]/Ab[1,1]\n",
    "x1"
   ]
  },
  {
   "cell_type": "code",
   "execution_count": null,
   "id": "7a5e9eef-92d9-4792-98a3-62bfa4204ea1",
   "metadata": {},
   "outputs": [],
   "source": [
    "# določimo vrednost x_0\n",
    "x0 = (Ab[0,2] - Ab[0,1]*x1)/Ab[0,0]\n",
    "x0"
   ]
  },
  {
   "cell_type": "markdown",
   "id": "a2667d2e-3f51-44b8-a43e-447282f28e1b",
   "metadata": {},
   "source": [
    "Sedaj zgornji SLE **rahlo spremenimo**"
   ]
  },
  {
   "cell_type": "code",
   "execution_count": null,
   "id": "8a6a9611-fc27-44bb-ac3d-d55fde40acf4",
   "metadata": {},
   "outputs": [],
   "source": [
    "A = np.array([[1 , 1],\n",
    "              [1, 1.0001]]) # prejšnje stanje [1, 1.00001]\n",
    "cond_A = np.linalg.cond(A)\n",
    "\n",
    "print('pogojenost:', cond_A)"
   ]
  },
  {
   "cell_type": "code",
   "execution_count": null,
   "id": "aed2b64e-3d8e-4e06-809f-205ff51c1709",
   "metadata": {},
   "outputs": [],
   "source": [
    "b = np.array([3, -3])\n",
    "Ab = np.column_stack((A,b))\n",
    "\n",
    "print(Ab)"
   ]
  },
  {
   "cell_type": "markdown",
   "id": "8206203d-6b60-4f6a-87ff-55cef056f082",
   "metadata": {},
   "source": [
    "Preverimo osnovne lastnosti SLE "
   ]
  },
  {
   "cell_type": "code",
   "execution_count": null,
   "id": "b2d786da-f924-4b04-bb7a-9817a88f3175",
   "metadata": {},
   "outputs": [],
   "source": [
    "msg = 'rk(A): {:}, rk(A|b): {:}, size(x): {} (št. neznank), det(A): {:}'.format(np.linalg.matrix_rank(A), np.linalg.matrix_rank(Ab),len(A[:,0]), np.linalg.det(A))\n",
    "print(msg)"
   ]
  },
  {
   "cell_type": "markdown",
   "id": "de5a6d05-12f9-472c-9a5e-63a2c9f2e9be",
   "metadata": {},
   "source": [
    "Rešimo zgornji SLE, za algebrajično manipulacijo:"
   ]
  },
  {
   "cell_type": "code",
   "execution_count": null,
   "id": "5e983098-9f71-490c-a073-3c668bfa0632",
   "metadata": {},
   "outputs": [],
   "source": [
    "# od druge enačbe odštejemo prvo\n",
    "Ab[1,:] -= Ab[0,:]\n",
    "Ab"
   ]
  },
  {
   "cell_type": "code",
   "execution_count": null,
   "id": "8b2e0eb0-80cf-45d6-9d8e-8e653470639d",
   "metadata": {},
   "outputs": [],
   "source": [
    "# določimo vrednost x_1\n",
    "x1 = Ab[1,2]/Ab[1,1]\n",
    "x1"
   ]
  },
  {
   "cell_type": "code",
   "execution_count": null,
   "id": "c5a71078-89f6-47be-bc00-a7484281935d",
   "metadata": {},
   "outputs": [],
   "source": [
    "# določimo vrednost x_0\n",
    "x0 = (Ab[0,2] - Ab[0,1]*x1)/Ab[0,0]\n",
    "x0"
   ]
  },
  {
   "cell_type": "markdown",
   "id": "4cc59b5c-b27e-406f-9cf0-e3a7f4f1affe",
   "metadata": {},
   "source": [
    "Ugotovimo, da je malenkostna sprememba enega koeficienta v matriki koeficientov povzročila veliko spremembo v rezultatu. Majhni spremembi podatkov se ne moremo izogniti, zaradi zapisa podatkov v računalniku."
   ]
  },
  {
   "cell_type": "markdown",
   "id": "de0def98-b4bf-4788-8b5c-040d2bb7dc0f",
   "metadata": {},
   "source": [
    "<hr>\n",
    "\n",
    "## Numerično reševanje SLE"
   ]
  },
  {
   "cell_type": "markdown",
   "id": "6af860ed-0e55-4eff-a8e4-0af6981d639c",
   "metadata": {},
   "source": [
    "Obstajata dva, v principu različna pristopa k reševanju sistemov linearnih enačb:\n",
    "\n",
    "A) **Direktni pristop**: nad sistemom enačb izvajamo elementarne operacije, s katerimi predelamo sistem enačb v lažje rešljivega,\n",
    "\n",
    "B) **Iterativni pristop**: izberemo začetni približek, nato pa približek iterativno izboljšujemo.\n",
    "\n",
    "Mi si bomo pogledali samo sistem **A**, za sistem **B** bo uporabljena interna `Python` metoda."
   ]
  },
  {
   "cell_type": "markdown",
   "id": "22693014-4c17-4568-8880-85d95eda975e",
   "metadata": {},
   "source": [
    "## Gaussova eliminacijska metoda - Direktna metoda"
   ]
  },
  {
   "cell_type": "markdown",
   "id": "4e56dbb2-fd61-42f5-b4cb-a01a5fc3d0f8",
   "metadata": {},
   "source": [
    "Predpostavimo, da rešujemo sistem $n$ enačb za $n$ neznank, ki ima rang $n$. Tak sistem je enolično rešljiv. \n",
    "\n",
    "Gaussova eliminacija spada med direktne metode, saj s pomočjo elementarnih vrstičnih operacij sistem enačb prevedemo v zgornje poravnani trikotni sistem (pod glavno diagonalo v razširjeni matriki so vrednosti nič).\n",
    "\n",
    "Najprej pripravimo razširjeno matriko koeficientov:\n",
    "\n",
    "$$\n",
    "    \\begin{bmatrix}\n",
    "        \\mathbf{A}|\\mathbf{b}\n",
    "    \\end{bmatrix}=\n",
    "    \\left[\\begin{array}{cccc|c}\n",
    "        A_{0,0}&A_{0,1}&\\cdots & A_{0,n-1} & b_0\\\\\n",
    "        A_{1,0}&A_{1,1}&\\cdots & A_{1,n-1} & b_1\\\\\n",
    "        \\vdots&\\vdots&\\ddots & \\vdots & \\vdots\\\\\n",
    "        A_{n-1,0}&A_{n-1,1}&\\cdots & A_{n-1,n-1} & b_{n-1}\\\\\n",
    "    \\end{array}\\right]\n",
    "$$\n",
    "\n",
    "Poglejmo si postopek Gaussove eliminacije na primeru!"
   ]
  },
  {
   "cell_type": "code",
   "execution_count": null,
   "id": "b4be4ca1-5464-4faf-bd44-19f01b9bb25f",
   "metadata": {},
   "outputs": [],
   "source": [
    "# primer matrike A in vektroja desne strani b\n",
    "\n",
    "A = np.array([[ 8., -6, 3],\n",
    "              [-6, 6,-6],\n",
    "              [ 3, -6, 6]])\n",
    "b = np.array([-14, 36, 6])\n",
    "Ab = np.column_stack((A,b))"
   ]
  },
  {
   "cell_type": "code",
   "execution_count": null,
   "id": "ff084ca6-ac89-42ca-9348-778cdbe656f5",
   "metadata": {},
   "outputs": [],
   "source": [
    "print('A:\\n', A)\n",
    "print('b:\\n', b)\n",
    "print('A|b:\\n', Ab)"
   ]
  },
  {
   "cell_type": "markdown",
   "id": "fe0d531b-e177-4ced-bc05-7c6a0814d991",
   "metadata": {},
   "source": [
    "Sedaj je potrebno pridelati obliko matrike, ki je **zgornje trikotna**!"
   ]
  },
  {
   "cell_type": "code",
   "execution_count": null,
   "id": "c851537f-a319-47d8-9819-3e32cc3177bb",
   "metadata": {},
   "outputs": [],
   "source": [
    "# Eliminacija v prvem stolpcu\n",
    "# korak 1:\n",
    "# - prvo vrstico množimo za A[1,0] in delimo z A[0,0]\n",
    "# - dobljeno vrstico sedaj odštejemo od druge vrstice\n",
    "# - dobimo ničelni element na prvem mestu v drugi vrstici\n",
    "\n",
    "k = Ab[1,0]/Ab[0,0]\n",
    "row_0 = k*Ab[0,:]\n",
    "\n",
    "print('row_1 start:\\n',Ab[1,:])\n",
    "Ab[1,:] -= row_0\n",
    "print('row_1 end:\\n',Ab[1,:])\n",
    "\n",
    "print()\n",
    "print('new AB:\\n',Ab)"
   ]
  },
  {
   "cell_type": "code",
   "execution_count": null,
   "id": "0cf0c4fc-5b29-4bf2-9ed5-2c5f9a69109f",
   "metadata": {},
   "outputs": [],
   "source": [
    "# korak 2:\n",
    "# - prvo vrstico množimo za A[2,0] in delimo z A[0,0]\n",
    "# - dobljeno vrstico sedaj odštejemo od tretje vrstice\n",
    "# - dobimo ničelni element na prvem mestu v tretji vrstici\n",
    "\n",
    "k = Ab[2,0]/Ab[0,0]\n",
    "row_0 = k*Ab[0,:]\n",
    "\n",
    "print('row_2 start:\\n',Ab[2,:])\n",
    "Ab[2,:] -= row_0\n",
    "print('row_2 end:\\n',Ab[2,:])\n",
    "\n",
    "print()\n",
    "print('new AB:\\n',Ab)"
   ]
  },
  {
   "cell_type": "code",
   "execution_count": null,
   "id": "1e28dce2-6c96-4439-bfab-e9d167ecc884",
   "metadata": {},
   "outputs": [],
   "source": [
    "# Eliminacija v drugem stolpcu\n",
    "# korak 1:\n",
    "# - drugo vrstico množimo za A[2,1] in delimo z A[1,1]\n",
    "# - dobljeno vrstico sedaj odštejemo od tretje vrstice\n",
    "# - dobimo ničelni element na drugem mestu v tretji vrstici\n",
    "\n",
    "k = Ab[2,1]/Ab[1,1]\n",
    "row_1 = k*Ab[1,:]\n",
    "\n",
    "print('row_2 start:\\n',Ab[2,:])\n",
    "Ab[2,:] -= row_1\n",
    "print('row_2 end:\\n',Ab[2,:])\n",
    "\n",
    "print()\n",
    "print('new AB:\\n',Ab)"
   ]
  },
  {
   "cell_type": "markdown",
   "id": "e131850f-56d8-4a40-bbab-e698648e03ae",
   "metadata": {},
   "source": [
    "Postopek je končan! Dobili smo zgornje trikotno matriko. Sedaj je potrebno določiti vrednosti neznanega vektorja $\\textbf{x}$."
   ]
  },
  {
   "cell_type": "code",
   "execution_count": null,
   "id": "bcb22a56-b370-4940-aaf1-dd1cb78479ac",
   "metadata": {},
   "outputs": [],
   "source": [
    "# rezerviramo prostor za rešitev in jo določimo\n",
    "x = np.zeros(3) # rezervacija\n",
    "\n",
    "x[2] = Ab[2,-1]/Ab[2,2] # izračun x_2 je enostaven\n",
    "x"
   ]
  },
  {
   "cell_type": "code",
   "execution_count": null,
   "id": "0a40d94c-4625-4be3-9561-0410b35960ba",
   "metadata": {},
   "outputs": [],
   "source": [
    "# določimo x_1\n",
    "x[1] = (Ab[1,-1] - Ab[1,2]*x[2]) / Ab[1,1]\n",
    "x"
   ]
  },
  {
   "cell_type": "code",
   "execution_count": null,
   "id": "1f3fa8b2-728a-4382-bf36-ca9570f99935",
   "metadata": {},
   "outputs": [],
   "source": [
    "# določimo x_0\n",
    "x[0] = (Ab[0,3] - Ab[0,1:3]@x[1:]) / Ab[0,0]\n",
    "x"
   ]
  },
  {
   "cell_type": "code",
   "execution_count": null,
   "id": "ea81b8ee-7e42-4623-ae14-9f45996939da",
   "metadata": {},
   "outputs": [],
   "source": [
    "# preverimo pravilnost rešitve\n",
    "b_cal = np.matmul(A,x) # lahko uporabite tudi A @ x, ki predstavlja matrično množenje\n",
    "\n",
    "print('b_cal:\\n', b_cal)\n",
    "print('b - b_cal:\\n', b - b_cal)"
   ]
  },
  {
   "cell_type": "markdown",
   "id": "5df848e5-83e6-4ad6-9ce4-f0d12ab9d6fd",
   "metadata": {},
   "source": [
    "<hr>\n",
    "\n",
    "Prikazani algoritem, s katerim smo iz zgornje trikotnega sistema enačb $\\mathbf{U}\\,\\mathbf{x}=\\mathbf{b}$ izračunali rešitev, imenujemo **obratno vstavljanje** (angl. *back substitution*); $\\mathbf{U}$ je zgornje trikotna matrika.\n",
    "\n",
    "V kolikor bi reševali sistem $\\mathbf{L}\\,\\mathbf{x}=\\mathbf{b}$ in je $\\mathbf{L}$ spodnje trikotna matrika, bi to metodo imenovali **direktno vstavljanje** (angl. *forward substitution*)."
   ]
  },
  {
   "cell_type": "markdown",
   "id": "7225c5c1-6119-482d-89b8-2d1c77258213",
   "metadata": {},
   "source": [
    "Reševanje sistema linearnih enačb z `numpy.linalg.solve` ([dokumentacija](https://docs.scipy.org/doc/numpy/reference/generated/numpy.linalg.solve.html)):\n",
    "\n",
    "```python\n",
    "solve(aA, b)\n",
    "```\n",
    "\n",
    "kjer je `A` matrika koeficientov (ali seznam matrik) in je `b` vektor konstant (ali seznam vektorjev). Funkcija vrne vektor (ali seznam vektorjev) rešitev."
   ]
  },
  {
   "cell_type": "code",
   "execution_count": null,
   "id": "b0acada7-75be-4b48-b9da-4ecd703b94a9",
   "metadata": {},
   "outputs": [],
   "source": [
    "x_np = np.linalg.solve(A, b)\n",
    "\n",
    "print()\n",
    "print('Rešitev tako lahko preverimo z našo:')\n",
    "print('x_np:\\n', x_np)\n",
    "print('x_np - x:\\n', x_np-x)"
   ]
  }
 ],
 "metadata": {
  "kernelspec": {
   "display_name": "Python 3 (ipykernel)",
   "language": "python",
   "name": "python3"
  },
  "language_info": {
   "codemirror_mode": {
    "name": "ipython",
    "version": 3
   },
   "file_extension": ".py",
   "mimetype": "text/x-python",
   "name": "python",
   "nbconvert_exporter": "python",
   "pygments_lexer": "ipython3",
   "version": "3.11.9"
  }
 },
 "nbformat": 4,
 "nbformat_minor": 5
}
