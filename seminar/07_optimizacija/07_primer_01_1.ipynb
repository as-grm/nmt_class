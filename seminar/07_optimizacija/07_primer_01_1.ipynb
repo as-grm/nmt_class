{
 "cells": [
  {
   "cell_type": "markdown",
   "id": "4db0676a-f963-43e4-ae1e-28c1d22f6d67",
   "metadata": {},
   "source": [
    "# Numerične metode v tehniki\n",
    "## Optimizacija - 1.del\n",
    "\n",
    "- **avtor**: A.S. Grm\n",
    "- **date**: 18/11/2023\n",
    "- **primer**: 01/1\n",
    "\n",
    "<hr>"
   ]
  },
  {
   "cell_type": "markdown",
   "id": "bf5face7-c22d-4771-8fa1-34ec9200785d",
   "metadata": {},
   "source": [
    "## Metoda najmanjših kvadratov - Linearni problem\n",
    "\n",
    "Imamo meriritve hitrosti in sile pri prostem padu telesa določene oblike\n",
    "\n",
    "$v$ | 0 | 1.38 | 1.99 | 2.2 | 2.51 | 3.06 | 3.77 | 4.09 | 5.51 | 6.21 | 7.22 | 7.88 | 8.53 | 9.79 | 10.31 | 10.93 | 11.21 | 11.37 |\n",
    "$F_d$ | 0.0 | 0.1 | 0.3 | 0.3 | 0.4 | 0.5 | 0.7 | 0.8 | 1.3 | 1.9 | 2.3 | 2.6 | 2.9 | 3.8 | 4.1 | 4.4 | 4.7 | 4.9 |\n",
    "\n",
    "Če velja linearen zakon upora\n",
    "\n",
    "$$ F_d = \\alpha v$$\n",
    "\n",
    "bi radi iz meritev dobili vrednost konstante $\\alpha$?\n",
    "\n",
    "Kot metodo reševanja uporabi **metodo najmanjših kvadratov**.\n",
    "\n",
    "<hr>"
   ]
  },
  {
   "cell_type": "markdown",
   "id": "54945d72-d3cb-4f63-b1c2-623041ba5da6",
   "metadata": {},
   "source": [
    "Reševanje **normalnega sistema**\n",
    "\n",
    "$$A^T A x = A^T b$$\n",
    "\n",
    "z uporabo razcepa Choleskega\n",
    "\n",
    "- izračunaj $B = A^T A$ in $c = A^T b$\n",
    "- izračunaj razcep Choleskega $B = V V^T$\n",
    "- reši spodnje trikotni sistem $V y = c$\n",
    "- reši zgornje trikotni sistem $V^T x = y$\n",
    "  \n",
    "<hr>"
   ]
  },
  {
   "cell_type": "code",
   "execution_count": null,
   "id": "afa02f8a-1c99-4961-af9a-de7adaf18293",
   "metadata": {},
   "outputs": [],
   "source": [
    "import math as mat\n",
    "import numpy as np\n",
    "import matplotlib.pyplot as mpl\n",
    "\n",
    "# MatPlotLib set fonts\n",
    "mpl.rcParams['font.family'] = 'serif'\n",
    "mpl.rcParams['font.serif'] = ['DejaVu Serif']\n",
    "\n",
    "# MatPlotLib set LaTeX use\n",
    "mpl.rcParams['text.usetex'] = True\n",
    "mpl.rcParams['text.latex.preamble'] = r'\\usepackage{siunitx}'"
   ]
  },
  {
   "cell_type": "code",
   "execution_count": null,
   "id": "72e5b29c-5b80-4488-a849-4f21645c0013",
   "metadata": {},
   "outputs": [],
   "source": [
    "# Data\n",
    "\n",
    "v = [0,1.38,1.99,2.2,2.51,3.06,3.77,4.09,5.51,6.21,7.22,7.88,8.53,9.79,10.31,10.93,11.21,11.37]\n",
    "Fd = [0.0,0.1,0.3,0.3,0.4,0.5,0.7,0.8,1.3,1.9,2.3,2.6,2.9,3.8,4.1,4.4,4.7,4.9]"
   ]
  },
  {
   "cell_type": "code",
   "execution_count": null,
   "id": "38e6b986-21e8-48d6-b70a-631e6de76c14",
   "metadata": {},
   "outputs": [],
   "source": [
    "fig, ax = mpl.subplots()\n",
    "#fig.suptitle(r'Meritev upora pri prostem padu') # Figure title\n",
    "\n",
    "ax.plot(v,Fd, '.g')\n",
    "ax.set_xlabel(r'$v$ [m/s]')\n",
    "ax.set_ylabel(r'$F_d$ [N]')\n",
    "ax.grid()\n",
    "ax.set_aspect('equal')\n",
    "\n",
    "fig.tight_layout()\n",
    "fig.savefig('01_primer-01_1.pdf')"
   ]
  },
  {
   "cell_type": "code",
   "execution_count": null,
   "id": "80c279f7-5548-478f-9a3b-c9fa83a83051",
   "metadata": {},
   "outputs": [],
   "source": [
    "# Reši normalni sistem za linearno silo upora\n",
    "\n",
    "def solve_ns1(ym,bm):\n",
    "\n",
    "    yv = np.array(ym)\n",
    "    bv = np.array(bm)\n",
    "    nn = yv.size\n",
    "    \n",
    "    A = np.transpose(np.array([np.ones(nn),yv]))\n",
    "\n",
    "    B = np.matmul(np.transpose(A),A)\n",
    "\n",
    "    V = np.linalg.cholesky(B)\n",
    "    c = np.matmul(np.transpose(A),bv)\n",
    "\n",
    "    y = np.linalg.solve(V,c)\n",
    "    x = np.linalg.solve(np.transpose(V),y)\n",
    "    \n",
    "    return x"
   ]
  },
  {
   "cell_type": "code",
   "execution_count": null,
   "id": "6560c7cc-beb6-4df7-98c7-91d112e91e87",
   "metadata": {},
   "outputs": [],
   "source": [
    "# Reši normalni sistem za kvadratno silo upora\n",
    "\n",
    "def solve_ns2(ym,bm):\n",
    "\n",
    "    yv = np.array(ym)**2 \n",
    "    bv = np.array(bm)\n",
    "    nn = yv.size\n",
    "    \n",
    "    A = np.transpose(np.array([np.ones(nn),yv]))\n",
    "\n",
    "    B = np.matmul(np.transpose(A),A)\n",
    "\n",
    "    V = np.linalg.cholesky(B)\n",
    "    c = np.matmul(np.transpose(A),bv)\n",
    "\n",
    "    y = np.linalg.solve(V,c)\n",
    "    x = np.linalg.solve(np.transpose(V),y)\n",
    "    \n",
    "    return x"
   ]
  },
  {
   "cell_type": "code",
   "execution_count": null,
   "id": "06cdf1b0-249b-45a3-9a25-f918bfd5784a",
   "metadata": {},
   "outputs": [],
   "source": [
    "# Glavni program\n",
    "\n",
    "x1 = solve_ns1(v,Fd) # reši linearni upor\n",
    "x2 = solve_ns2(v,Fd) # reši kvadratičen upor\n",
    "\n",
    "# izračuna točke krivulje upora\n",
    "vi = np.linspace(v[0],v[-1],100)\n",
    "Fdi1 = x1[0] + x1[1]*vi\n",
    "Fdi2 = x2[0] + x2[1]*(vi**2) "
   ]
  },
  {
   "cell_type": "code",
   "execution_count": null,
   "id": "e8ec6b8b-8298-40b1-9776-69c18b857cec",
   "metadata": {},
   "outputs": [],
   "source": [
    "fig, ax = mpl.subplots()\n",
    "#fig.suptitle(r'Meritev upora pri prostem padu') # Figure title\n",
    "\n",
    "ax.plot(v,Fd, '.g', label='meritev')\n",
    "ax.plot(vi,Fdi1, 'r', label='linearna')\n",
    "ax.plot(vi,Fdi2, 'b', label='kvadratna')\n",
    "ax.set_xlabel(r'$v$ [m/s]')\n",
    "ax.set_ylabel(r'$F_d$ [N]')\n",
    "ax.grid()\n",
    "ax.set_aspect('equal')\n",
    "ax.legend()\n",
    "\n",
    "fig.tight_layout()\n",
    "fig.savefig('01_primer-01_1.pdf')"
   ]
  }
 ],
 "metadata": {
  "kernelspec": {
   "display_name": "Python 3",
   "language": "python",
   "name": "python3"
  },
  "language_info": {
   "codemirror_mode": {
    "name": "ipython",
    "version": 3
   },
   "file_extension": ".py",
   "mimetype": "text/x-python",
   "name": "python",
   "nbconvert_exporter": "python",
   "pygments_lexer": "ipython3",
   "version": "3.11.6"
  }
 },
 "nbformat": 4,
 "nbformat_minor": 5
}
