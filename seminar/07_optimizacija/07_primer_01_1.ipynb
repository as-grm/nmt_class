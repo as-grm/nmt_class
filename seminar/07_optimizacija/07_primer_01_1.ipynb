{
 "cells": [
  {
   "cell_type": "markdown",
   "id": "4db0676a-f963-43e4-ae1e-28c1d22f6d67",
   "metadata": {},
   "source": [
    "# Numerične metode v tehniki\n",
    "## Optimizacija - 1.del\n",
    "\n",
    "- **avtor**: A.S. Grm\n",
    "- **date**: 18/11/2023\n",
    "- **primer**: 01/1\n",
    "\n",
    "<hr>"
   ]
  },
  {
   "cell_type": "markdown",
   "id": "bf5face7-c22d-4771-8fa1-34ec9200785d",
   "metadata": {},
   "source": [
    "## Metoda najmanjših kvadratov - Linearni problem\n",
    "\n",
    "Imamo meriritve hitrosti in sile pri prostem padu telesa določene oblike. Če velja linearen zakon upora\n",
    "\n",
    "$$ F_d = \\alpha v,$$\n",
    "\n",
    "ali pa kvadraten zakon upora\n",
    "\n",
    "$$ F_d = \\alpha v^2 $$\n",
    "\n",
    "bi radi iz meritev dobili vrednost konstante $\\alpha$?\n",
    "\n",
    "Kot metodo reševanja uporabi **metodo najmanjših kvadratov**, kjer za modelsko funkcijo uporabiš polinom\n",
    "\n",
    "$$ p_n(x) = a_0 + a_1 x + a_2 x^2 + ... + a_n x^n $$\n",
    "\n",
    "<hr>"
   ]
  },
  {
   "cell_type": "markdown",
   "id": "54945d72-d3cb-4f63-b1c2-623041ba5da6",
   "metadata": {},
   "source": [
    "Reševanje **normalnega sistema**\n",
    "\n",
    "$$A^T A x = A^T b$$\n",
    "\n",
    "z uporabo razcepa Choleskega\n",
    "\n",
    "- izračunaj $B = A^T A$ in $c = A^T b$\n",
    "- izračunaj razcep Choleskega $B = V V^T$\n",
    "- reši spodnje trikotni sistem $V y = c$\n",
    "- reši zgornje trikotni sistem $V^T x = y$\n",
    "  \n",
    "<hr>"
   ]
  },
  {
   "cell_type": "markdown",
   "id": "8a20ec80-40a1-448c-9ef7-8118e2f28814",
   "metadata": {},
   "source": [
    "### Napaka modelske funkcije - $R^2$ (*Coefficient of determination*)\n",
    "\n",
    "<br>\n",
    "V regresijski analizi bi radi preverili, kako dober je naš model za prilagajanje podatkom, kjer označimo merske točke $P_i(x_i,y_i)$. Mera kvalitete je v tako imenovani **koeficient determinacije**, ki ga označimo z $R^2$ ($R$ squared). Določimo ga po naslednjem postopku\n",
    "\n",
    "<br><br>\n",
    "- najprej izračunamo povprečje\n",
    "$$ \\bar{y} = \\frac{1}{n} \\sum_{i=1}^n y_i $$\n",
    "- nato poračunamo residual\n",
    "$$ S_{\\text{res}} = \\sum_{i=1}^n \\big(y_i - f(x_i) \\big)^2 $$\n",
    "- celotno razliko od povprečja\n",
    "$$ S_{\\text{tot}} = \\sum_{i=1}^n \\big(y_i - \\bar{y} \\big)^2. $$\n",
    "\n",
    "Napaka modelske funkcije je nato določena z\n",
    "\n",
    "$$ R^2 = 1 - \\frac{S_{\\text{res}}}{S_{\\text{tot}}} $$\n",
    "\n",
    "<hr>"
   ]
  },
  {
   "cell_type": "code",
   "execution_count": null,
   "id": "afa02f8a-1c99-4961-af9a-de7adaf18293",
   "metadata": {},
   "outputs": [],
   "source": [
    "import math as mat\n",
    "import numpy as np\n",
    "import matplotlib.pyplot as mpl\n",
    "\n",
    "# MatPlotLib set fonts\n",
    "mpl.rcParams['font.family'] = 'serif'\n",
    "mpl.rcParams['font.serif'] = ['DejaVu Serif']\n",
    "\n",
    "# MatPlotLib set LaTeX use\n",
    "mpl.rcParams['text.usetex'] = True\n",
    "mpl.rcParams['text.latex.preamble'] = r'\\usepackage{siunitx}'"
   ]
  },
  {
   "cell_type": "code",
   "execution_count": null,
   "id": "72e5b29c-5b80-4488-a849-4f21645c0013",
   "metadata": {},
   "outputs": [],
   "source": [
    "# Data\n",
    "\n",
    "v = [0,1.38,1.99,2.2,2.51,3.06,3.77,4.09,5.51,6.21,7.22,7.88,8.53,9.79,10.31,10.93,11.21,11.37]\n",
    "Fd = [0.0,0.1,0.3,0.3,0.4,0.5,0.7,0.8,1.3,1.9,2.3,2.6,2.9,3.8,4.1,4.4,4.7,4.9]"
   ]
  },
  {
   "cell_type": "code",
   "execution_count": null,
   "id": "38e6b986-21e8-48d6-b70a-631e6de76c14",
   "metadata": {},
   "outputs": [],
   "source": [
    "fig, ax = mpl.subplots()\n",
    "#fig.suptitle(r'Meritev upora pri prostem padu') # Figure title\n",
    "\n",
    "ax.plot(v,Fd, '.g')\n",
    "ax.set_xlabel(r'$v$ [m/s]')\n",
    "ax.set_ylabel(r'$F_d$ [N]')\n",
    "ax.grid()\n",
    "ax.set_aspect('equal')\n",
    "\n",
    "fig.tight_layout()"
   ]
  },
  {
   "cell_type": "code",
   "execution_count": null,
   "id": "80c279f7-5548-478f-9a3b-c9fa83a83051",
   "metadata": {},
   "outputs": [],
   "source": [
    "# Reši normalni sistem, kjer je samo en modelski koeficient\n",
    "\n",
    "def solve_ns_one(ym,bm,k):\n",
    "\n",
    "    yv = np.array(ym)**k\n",
    "    bv = np.array(bm)\n",
    "    \n",
    "    A = np.transpose(np.array(yv))\n",
    "    B = np.matmul(np.transpose(A),A)\n",
    "    c = np.matmul(np.transpose(A),bv)\n",
    "\n",
    "    x = c/B\n",
    "    \n",
    "    return x"
   ]
  },
  {
   "cell_type": "code",
   "execution_count": null,
   "id": "6560c7cc-beb6-4df7-98c7-91d112e91e87",
   "metadata": {},
   "outputs": [],
   "source": [
    "# Reši normalni sistem, kjer imamo več modelskih koeficientov\n",
    "\n",
    "def solve_ns_high(pn,ym,bm):\n",
    "\n",
    "    mm = pn.size\n",
    "    nn = yv.size\n",
    "\n",
    "    poly_data = []\n",
    "    for i in range(mm):\n",
    "        yi = np.array(ym)**i\n",
    "        if pn[i] == 1:\n",
    "            poly_data.append(yi)\n",
    "        else:\n",
    "            poly_data.append(np.zeros(nn))\n",
    "\n",
    "    pd = np.array(poly_data)\n",
    "    \n",
    "    A = np.transpose(pd)\n",
    "    B = np.matmul(np.transpose(A),A)\n",
    "    V = np.linalg.cholesky(B)\n",
    "    c = np.matmul(np.transpose(A),bv)\n",
    "\n",
    "    y = np.linalg.solve(V,c)\n",
    "    x = np.linalg.solve(np.transpose(V),y)\n",
    "    \n",
    "    return x"
   ]
  },
  {
   "cell_type": "code",
   "execution_count": null,
   "id": "5637b5da-5c55-48df-80aa-614f16dd0c87",
   "metadata": {},
   "outputs": [],
   "source": [
    "# Reši problem najmanjših kvadratov, kjer imamo polinomsko modelsko funkcijo\n",
    "# pn(x) = a_0 + a_1 x + a_2 x^2 + ... + a_n x^n\n",
    "\n",
    "def solve_lpls(pn,y,b):\n",
    "\n",
    "    pv = np.array(pn)\n",
    "    ones = np.count_nonzero(pv == 1)\n",
    "\n",
    "    yv = np.array(y)\n",
    "    bv = np.array(b)\n",
    "\n",
    "    if ones == 1:\n",
    "        k = np.where(pv == 1)[0][0]\n",
    "        x = solve_ns_one(yv,bv,k)\n",
    "    else:\n",
    "        x = solve_ns_high(pv,yv,bv)\n",
    "\n",
    "    return x"
   ]
  },
  {
   "cell_type": "code",
   "execution_count": null,
   "id": "820951ed-724b-4c37-a5c7-3f88c34eeb2c",
   "metadata": {},
   "outputs": [],
   "source": [
    "# Vrne točke na modelski krivulji pn(x)\n",
    "\n",
    "def find_model_function(pn,ai,x):\n",
    "\n",
    "    pnv = np.array(pn)\n",
    "    ones = np.count_nonzero(pnv == 1)\n",
    "\n",
    "    if ones == 1:\n",
    "        k = np.where(pnv == 1)[0][0]\n",
    "        y = ai * x**k\n",
    "    else:    \n",
    "        y = 0\n",
    "        n = 0\n",
    "        for k in pn:\n",
    "            if k == 1:\n",
    "                y += ai[n] * x**n\n",
    "            n += 1\n",
    "\n",
    "    return y"
   ]
  },
  {
   "cell_type": "code",
   "execution_count": null,
   "id": "6d2a8d97-f0f3-4ab3-b438-3be37c1f3482",
   "metadata": {},
   "outputs": [],
   "source": [
    "# Napaka modela R2\n",
    "\n",
    "def R2(xi, yi, pn, a):\n",
    "\n",
    "    xv = np.array(xi)\n",
    "    yv = np.array(yi)\n",
    "    ym = np.mean(yv)\n",
    "    fi = find_model_function(pn,a,xi)\n",
    "\n",
    "    Sr = np.sum(np.square(yv - fi))\n",
    "    St = np.sum(np.square(yv - ym))\n",
    "\n",
    "    R2 = 1 - Sr/St\n",
    "\n",
    "    return R2"
   ]
  },
  {
   "cell_type": "code",
   "execution_count": null,
   "id": "06cdf1b0-249b-45a3-9a25-f918bfd5784a",
   "metadata": {},
   "outputs": [],
   "source": [
    "# Glavni program\n",
    "\n",
    "pn1 = [0,1] # pn(x) = 0 + a_1*x\n",
    "x1 = solve_lpls(pn1,v,Fd) # reši linearni upor\n",
    "\n",
    "pn2 = [0,0,1] # pn(x) = 0 + 0*x + a_2*x^2\n",
    "x2 = solve_lpls([0,0,1],v,Fd) # reši kvadratičen upor\n",
    "\n",
    "# izračuna točke krivulje upora\n",
    "vi = np.linspace(v[0],v[-1],100)\n",
    "\n",
    "Fdi1 = find_model_function(pn1,x1,vi)\n",
    "Fdi2 = find_model_function(pn2,x2,vi)\n",
    "\n",
    "R2_1 = R2(v,Fd,pn1,x1)\n",
    "R2_2 = R2(v,Fd,pn2,x2)\n",
    "\n",
    "print('R2 - linear:    {:.5f}'.format(R2_1))\n",
    "print('R2 - kvadraten: {:.5f}'.format(R2_2))"
   ]
  },
  {
   "cell_type": "code",
   "execution_count": null,
   "id": "e8ec6b8b-8298-40b1-9776-69c18b857cec",
   "metadata": {},
   "outputs": [],
   "source": [
    "fig, ax = mpl.subplots()\n",
    "#fig.suptitle(r'Meritev upora pri prostem padu') # Figure title\n",
    "\n",
    "ax.plot(v,Fd, '.g', label=r'meritev')\n",
    "ax.plot(vi,Fdi1, 'r', label='linearna, $R^2$ = {:.5f}'.format(R2_1))\n",
    "ax.plot(vi,Fdi2, 'b', label='kvadratna,  $R^2$ = {:.5f}'.format(R2_2))\n",
    "ax.set_xlabel(r'$v$ [m/s]')\n",
    "ax.set_ylabel(r'$F_d$ [N]')\n",
    "ax.grid()\n",
    "ax.set_aspect('equal')\n",
    "ax.legend()\n",
    "\n",
    "fig.tight_layout()\n",
    "fig.savefig('01_primer-01_1.pdf')"
   ]
  }
 ],
 "metadata": {
  "kernelspec": {
   "display_name": "Python 3",
   "language": "python",
   "name": "python3"
  },
  "language_info": {
   "codemirror_mode": {
    "name": "ipython",
    "version": 3
   },
   "file_extension": ".py",
   "mimetype": "text/x-python",
   "name": "python",
   "nbconvert_exporter": "python",
   "pygments_lexer": "ipython3",
   "version": "3.11.6"
  }
 },
 "nbformat": 4,
 "nbformat_minor": 5
}
